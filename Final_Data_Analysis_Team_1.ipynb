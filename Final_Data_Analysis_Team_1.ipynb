{
  "nbformat": 4,
  "nbformat_minor": 0,
  "metadata": {
    "colab": {
      "name": "Final Data Analysis Team 1.ipynb",
      "provenance": [],
      "collapsed_sections": [
        "U0xnjq8-rBnj",
        "u-TeWz4xo5g0",
        "r8afEq7zQWxC",
        "_5EfNKagZ3Gv",
        "c5awVOTnUG25"
      ]
    },
    "kernelspec": {
      "name": "python3",
      "display_name": "Python 3"
    },
    "language_info": {
      "name": "python"
    }
  },
  "cells": [
    {
      "cell_type": "markdown",
      "metadata": {
        "id": "PAufQZvEjp3l"
      },
      "source": [
        "**TEAM 1 (this is not the final data analysis!! Just a prototype)**"
      ]
    },
    {
      "cell_type": "markdown",
      "metadata": {
        "id": "U0xnjq8-rBnj"
      },
      "source": [
        "# **Data Preprocessing and Cleaning for survey 1**"
      ]
    },
    {
      "cell_type": "code",
      "metadata": {
        "id": "FMZY87y_Y2Lf"
      },
      "source": [
        "# Importations\n",
        "import pandas as pd\n",
        "import numpy as np\n",
        "import matplotlib.pyplot as plt\n",
        "import seaborn as sns\n",
        "pd.options.display.max_columns = 200\n",
        "%matplotlib inline\n",
        "from matplotlib.pyplot import figure as fig\n",
        "from collections import Counter"
      ],
      "execution_count": null,
      "outputs": []
    },
    {
      "cell_type": "code",
      "metadata": {
        "id": "UmV5pgpAZp7A"
      },
      "source": [
        "df = pd.read_csv('Sleeping quality.csv') #read the data frame"
      ],
      "execution_count": null,
      "outputs": []
    },
    {
      "cell_type": "code",
      "metadata": {
        "id": "3Je85CwvkdJo"
      },
      "source": [
        "df.reset_index().rename(columns={'index': 'User ID'}).set_index(\"User ID\", \n",
        "                                                                inplace = True) #add an index column \n"
      ],
      "execution_count": null,
      "outputs": []
    },
    {
      "cell_type": "code",
      "metadata": {
        "id": "fxI6f_vynif8"
      },
      "source": [
        "#Clean the data frame by removing the useless column\n",
        "# df = df.drop('Username',1).drop('Timestamp',1)\n",
        "df = df.drop('Timestamp',1)"
      ],
      "execution_count": null,
      "outputs": []
    },
    {
      "cell_type": "code",
      "metadata": {
        "colab": {
          "base_uri": "https://localhost:8080/",
          "height": 640
        },
        "id": "NQj_ryMtpXU2",
        "outputId": "1423a0bd-d7b8-4745-843d-633fc7da6274"
      },
      "source": [
        "df.head(2) #how our final data frame looks like"
      ],
      "execution_count": null,
      "outputs": [
        {
          "output_type": "execute_result",
          "data": {
            "text/html": [
              "<div>\n",
              "<style scoped>\n",
              "    .dataframe tbody tr th:only-of-type {\n",
              "        vertical-align: middle;\n",
              "    }\n",
              "\n",
              "    .dataframe tbody tr th {\n",
              "        vertical-align: top;\n",
              "    }\n",
              "\n",
              "    .dataframe thead th {\n",
              "        text-align: right;\n",
              "    }\n",
              "</style>\n",
              "<table border=\"1\" class=\"dataframe\">\n",
              "  <thead>\n",
              "    <tr style=\"text-align: right;\">\n",
              "      <th></th>\n",
              "      <th>Username</th>\n",
              "      <th>Were you in France during lockdowns? / Étiez-vous en France pendant le confinement ?</th>\n",
              "      <th>Are you following courses in France? / Suivez-vous vos cours en France ?</th>\n",
              "      <th>Your current student status / Votre niveau d'étude actuel</th>\n",
              "      <th>Are you a CRI student? / Etes-vous étudiant au CRI ?</th>\n",
              "      <th>Your age / Votre âge</th>\n",
              "      <th>To which gender do you identify? / A quel genre vous identifiez-vous ?</th>\n",
              "      <th>Are you living alone? / Vivez-vous seul ?</th>\n",
              "      <th>Do you have a pet living with you? / Vivez-vous avec un animal de compagnie ?</th>\n",
              "      <th>How many hours do you spend outdoors daily? (average) / Combien de temps passez-vous à l'extérieur par jour (en moyenne) ?</th>\n",
              "      <th>How many times per week you get to meet some friends/family/colleagues not currently living with you? (average) / Combien de fois par semaine voyez-vous des amis, de la famille ou des collègues qui n'habitent pas actuellement avec vous ?</th>\n",
              "      <th>How many hours do you spend daily in front of a screen (TV, PC, phone...) (average)? / Combien d'heures passez-vous chaque jour devant un écran (télévision, ordinateur, téléphone... (en moyenne) ?</th>\n",
              "      <th>On average, when do you go to bed? / En moyenne, à quelle heure vous couchez-vous ?</th>\n",
              "      <th>On average, when do you wake up? / En moyenne, à quelle heure vous réveillez-vous ?</th>\n",
              "      <th>On average and during the last week, how often have you felt stressed out? / En moyenne, combien de fois vous êtes-vous sentis stressés cette semaine ?</th>\n",
              "      <th>On average, how many times do you wake up while sleeping every night? / En moyenne, à quelle fréquence vous réveillez-vous la nuit ?</th>\n",
              "      <th>On average, how long does it take to fall asleep? / En général, combien de temps mettez-vous à vous endormir ?</th>\n",
              "      <th>Agreement for data collection and further participation / Accord pour la collecte de donnée et participation à l'enquête</th>\n",
              "    </tr>\n",
              "  </thead>\n",
              "  <tbody>\n",
              "    <tr>\n",
              "      <th>0</th>\n",
              "      <td>michael.rera@cri-paris.org</td>\n",
              "      <td>Yes / Oui</td>\n",
              "      <td>Yes / Oui</td>\n",
              "      <td>PhD / Doctorat</td>\n",
              "      <td>No / Non</td>\n",
              "      <td>&gt;30</td>\n",
              "      <td>Male / Homme</td>\n",
              "      <td>Yes / Oui</td>\n",
              "      <td>No / Non</td>\n",
              "      <td>3</td>\n",
              "      <td>4</td>\n",
              "      <td>10</td>\n",
              "      <td>00:00</td>\n",
              "      <td>08:30</td>\n",
              "      <td>Everyday / Tous les jours</td>\n",
              "      <td>1</td>\n",
              "      <td>30 min to 1h / De 30 minutes à 1h</td>\n",
              "      <td>I agree to share these data / J'accepte de par...</td>\n",
              "    </tr>\n",
              "    <tr>\n",
              "      <th>1</th>\n",
              "      <td>yasamin.nematollahi@cri-paris.org</td>\n",
              "      <td>Iran</td>\n",
              "      <td>Yes / Oui</td>\n",
              "      <td>Master</td>\n",
              "      <td>Yes / Oui</td>\n",
              "      <td>28 - 30</td>\n",
              "      <td>Female / Femme</td>\n",
              "      <td>Yes / Oui</td>\n",
              "      <td>No / Non</td>\n",
              "      <td>7</td>\n",
              "      <td>4</td>\n",
              "      <td>4</td>\n",
              "      <td>00:00</td>\n",
              "      <td>08:00</td>\n",
              "      <td>A few times (once or twice) / Quelques fois (u...</td>\n",
              "      <td>1</td>\n",
              "      <td>15 to 30 min / De 15 à 30 minutes</td>\n",
              "      <td>I agree to share these data / J'accepte de par...</td>\n",
              "    </tr>\n",
              "  </tbody>\n",
              "</table>\n",
              "</div>"
            ],
            "text/plain": [
              "                            Username  \\\n",
              "0         michael.rera@cri-paris.org   \n",
              "1  yasamin.nematollahi@cri-paris.org   \n",
              "\n",
              "  Were you in France during lockdowns? / Étiez-vous en France pendant le confinement ?  \\\n",
              "0                                          Yes / Oui                                     \n",
              "1                                               Iran                                     \n",
              "\n",
              "  Are you following courses in France? / Suivez-vous vos cours en France ?  \\\n",
              "0                                          Yes / Oui                         \n",
              "1                                          Yes / Oui                         \n",
              "\n",
              "  Your current student status / Votre niveau d'étude actuel  \\\n",
              "0                                     PhD / Doctorat          \n",
              "1                                             Master          \n",
              "\n",
              "  Are you a CRI student? / Etes-vous étudiant au CRI ? Your age / Votre âge  \\\n",
              "0                                           No / Non                    >30   \n",
              "1                                          Yes / Oui                28 - 30   \n",
              "\n",
              "  To which gender do you identify? / A quel genre vous identifiez-vous ?  \\\n",
              "0                                       Male / Homme                       \n",
              "1                                     Female / Femme                       \n",
              "\n",
              "  Are you living alone? / Vivez-vous seul ?  \\\n",
              "0                                 Yes / Oui   \n",
              "1                                 Yes / Oui   \n",
              "\n",
              "  Do you have a pet living with you? / Vivez-vous avec un animal de compagnie ?  \\\n",
              "0                                           No / Non                              \n",
              "1                                           No / Non                              \n",
              "\n",
              "   How many hours do you spend outdoors daily? (average) / Combien de temps passez-vous à l'extérieur par jour (en moyenne) ?  \\\n",
              "0                                                  3                                                                            \n",
              "1                                                  7                                                                            \n",
              "\n",
              "   How many times per week you get to meet some friends/family/colleagues not currently living with you? (average) / Combien de fois par semaine voyez-vous des amis, de la famille ou des collègues qui n'habitent pas actuellement avec vous ?   \\\n",
              "0                                                  4                                                                                                                                                                                                \n",
              "1                                                  4                                                                                                                                                                                                \n",
              "\n",
              "   How many hours do you spend daily in front of a screen (TV, PC, phone...) (average)? / Combien d'heures passez-vous chaque jour devant un écran (télévision, ordinateur, téléphone... (en moyenne) ?  \\\n",
              "0                                                 10                                                                                                                                                      \n",
              "1                                                  4                                                                                                                                                      \n",
              "\n",
              "  On average, when do you go to bed? / En moyenne, à quelle heure vous couchez-vous ?  \\\n",
              "0                                              00:00                                    \n",
              "1                                              00:00                                    \n",
              "\n",
              "  On average, when do you wake up? / En moyenne, à quelle heure vous réveillez-vous ?   \\\n",
              "0                                              08:30                                     \n",
              "1                                              08:00                                     \n",
              "\n",
              "  On average and during the last week, how often have you felt stressed out? / En moyenne, combien de fois vous êtes-vous sentis stressés cette semaine ?  \\\n",
              "0                          Everyday / Tous les jours                                                                                                        \n",
              "1  A few times (once or twice) / Quelques fois (u...                                                                                                        \n",
              "\n",
              "   On average, how many times do you wake up while sleeping every night? / En moyenne, à quelle fréquence vous réveillez-vous la nuit ?  \\\n",
              "0                                                  1                                                                                      \n",
              "1                                                  1                                                                                      \n",
              "\n",
              "  On average, how long does it take to fall asleep? / En général, combien de temps mettez-vous à vous endormir ?  \\\n",
              "0                  30 min to 1h / De 30 minutes à 1h                                                               \n",
              "1                  15 to 30 min / De 15 à 30 minutes                                                               \n",
              "\n",
              "  Agreement for data collection and further participation / Accord pour la collecte de donnée et participation à l'enquête  \n",
              "0  I agree to share these data / J'accepte de par...                                                                        \n",
              "1  I agree to share these data / J'accepte de par...                                                                        "
            ]
          },
          "metadata": {},
          "execution_count": 384
        }
      ]
    },
    {
      "cell_type": "code",
      "metadata": {
        "id": "EuKueD4CshQs"
      },
      "source": [
        "# Let's check the data we are manipulating \n",
        "# display(final_df.dtypes)\n",
        "# display(final_df.info)\n",
        "# display(final_df.describe)\n",
        "# display(final_df.columns)"
      ],
      "execution_count": null,
      "outputs": []
    },
    {
      "cell_type": "code",
      "metadata": {
        "id": "AZm7tGH21vpq"
      },
      "source": [
        "#For the categorical columns of the dataset we want to see how many instances of each category there are\n",
        "# display(final_df.iloc[:, :8].value_counts())\n",
        "# display(final_df.iloc[:, 11:14].value_counts())\n",
        "# display(final_df.iloc[:, -1:].value_counts())"
      ],
      "execution_count": null,
      "outputs": []
    },
    {
      "cell_type": "code",
      "metadata": {
        "colab": {
          "base_uri": "https://localhost:8080/"
        },
        "id": "JiEf0_nsgbBb",
        "outputId": "7dafbd9d-86b4-4d5e-fd4f-e4c537a183fc"
      },
      "source": [
        "list_col = df.columns.tolist()\n",
        "list_col"
      ],
      "execution_count": null,
      "outputs": [
        {
          "output_type": "execute_result",
          "data": {
            "text/plain": [
              "['Username',\n",
              " 'Were you in France during lockdowns? / Étiez-vous en France pendant le confinement ?',\n",
              " 'Are you following courses in France? / Suivez-vous vos cours en France ?',\n",
              " \"Your current student status / Votre niveau d'étude actuel\",\n",
              " 'Are you a CRI student? / Etes-vous étudiant au CRI ?',\n",
              " 'Your age / Votre âge',\n",
              " 'To which gender do you identify? / A quel genre vous identifiez-vous ?',\n",
              " 'Are you living alone? / Vivez-vous seul ?',\n",
              " 'Do you have a pet living with you? / Vivez-vous avec un animal de compagnie ?',\n",
              " \"How many hours do you spend outdoors daily? (average) / Combien de temps passez-vous à l'extérieur par jour (en moyenne) ?\",\n",
              " \"How many times per week you get to meet some friends/family/colleagues not currently living with you? (average) / Combien de fois par semaine voyez-vous des amis, de la famille ou des collègues qui n'habitent pas actuellement avec vous ? \",\n",
              " \"How many hours do you spend daily in front of a screen (TV, PC, phone...) (average)? / Combien d'heures passez-vous chaque jour devant un écran (télévision, ordinateur, téléphone... (en moyenne) ?\",\n",
              " 'On average, when do you go to bed? / En moyenne, à quelle heure vous couchez-vous ?',\n",
              " 'On average, when do you wake up? / En moyenne, à quelle heure vous réveillez-vous ? ',\n",
              " 'On average and during the last week, how often have you felt stressed out? / En moyenne, combien de fois vous êtes-vous sentis stressés cette semaine ?',\n",
              " 'On average, how many times do you wake up while sleeping every night? / En moyenne, à quelle fréquence vous réveillez-vous la nuit ?',\n",
              " 'On average, how long does it take to fall asleep? / En général, combien de temps mettez-vous à vous endormir ?',\n",
              " \"Agreement for data collection and further participation / Accord pour la collecte de donnée et participation à l'enquête\"]"
            ]
          },
          "metadata": {},
          "execution_count": 387
        }
      ]
    },
    {
      "cell_type": "code",
      "metadata": {
        "id": "ZrHRIxd9g8AF"
      },
      "source": [
        "# Rename columns names for clearer/easy data wrangling\n",
        "\n",
        "column_name = [\"email\",'in_france','courses_in_france','status','cri_student', 'age', \n",
        "                'gender', 'alone','have_pet', 'time_outside','meeting_friends', 'screen_time', 'time_to_bed',\n",
        "               'wake_time', 'stress_level', 'wake_sleep_time','time_fall_asleep', 'agreement' ]\n",
        "\n",
        "\n",
        "res = {list_col[i]: column_name[i] for i in range(len(list_col))} \n",
        "df = df.rename(columns=res)"
      ],
      "execution_count": null,
      "outputs": []
    },
    {
      "cell_type": "code",
      "metadata": {
        "id": "IkI5sV0DlBkW",
        "colab": {
          "base_uri": "https://localhost:8080/"
        },
        "outputId": "27f55807-b031-4f53-f674-18d9fd799ee2"
      },
      "source": [
        "df = df[(df[\"agreement\"] == \"I agree to share these data / J'accepte de partager ces données;I agree to receive and participate to the upcoming weekly surveys (3) during December / J'accepte de recevoir et de participer aux trois enquêtes à venir pendant le mois de décembre\") | (df[\"agreement\"] == \"I agree to receive and participate to the upcoming weekly surveys (3) during December / J'accepte de recevoir et de participer aux trois enquêtes à venir pendant le mois de décembre\")]\n",
        "df = df[(df[\"in_france\"] == \"Yes / Oui\")]\n",
        "df = df[(df[\"courses_in_france\"] == \"Yes / Oui\") & (df[\"courses_in_france\"]== \"Yes / Oui\")]\n",
        "len(df)"
      ],
      "execution_count": null,
      "outputs": [
        {
          "output_type": "execute_result",
          "data": {
            "text/plain": [
              "24"
            ]
          },
          "metadata": {},
          "execution_count": 389
        }
      ]
    },
    {
      "cell_type": "code",
      "metadata": {
        "colab": {
          "base_uri": "https://localhost:8080/"
        },
        "id": "NXtdZPSTjRCd",
        "outputId": "f2c9ce8e-79e3-45f9-be0d-f0ecd966c828"
      },
      "source": [
        "df.columns"
      ],
      "execution_count": null,
      "outputs": [
        {
          "output_type": "execute_result",
          "data": {
            "text/plain": [
              "Index(['email', 'in_france', 'courses_in_france', 'status', 'cri_student',\n",
              "       'age', 'gender', 'alone', 'have_pet', 'time_outside', 'meeting_friends',\n",
              "       'screen_time', 'time_to_bed', 'wake_time', 'stress_level',\n",
              "       'wake_sleep_time', 'time_fall_asleep', 'agreement'],\n",
              "      dtype='object')"
            ]
          },
          "metadata": {},
          "execution_count": 390
        }
      ]
    },
    {
      "cell_type": "code",
      "metadata": {
        "id": "44kzXPZ3kWrU",
        "colab": {
          "base_uri": "https://localhost:8080/",
          "height": 1000
        },
        "outputId": "05b82ca3-7df2-4ca2-b457-3325f2ed7af7"
      },
      "source": [
        "df = df.drop(\"agreement\",1)\n",
        "df"
      ],
      "execution_count": null,
      "outputs": [
        {
          "output_type": "execute_result",
          "data": {
            "text/html": [
              "<div>\n",
              "<style scoped>\n",
              "    .dataframe tbody tr th:only-of-type {\n",
              "        vertical-align: middle;\n",
              "    }\n",
              "\n",
              "    .dataframe tbody tr th {\n",
              "        vertical-align: top;\n",
              "    }\n",
              "\n",
              "    .dataframe thead th {\n",
              "        text-align: right;\n",
              "    }\n",
              "</style>\n",
              "<table border=\"1\" class=\"dataframe\">\n",
              "  <thead>\n",
              "    <tr style=\"text-align: right;\">\n",
              "      <th></th>\n",
              "      <th>email</th>\n",
              "      <th>in_france</th>\n",
              "      <th>courses_in_france</th>\n",
              "      <th>status</th>\n",
              "      <th>cri_student</th>\n",
              "      <th>age</th>\n",
              "      <th>gender</th>\n",
              "      <th>alone</th>\n",
              "      <th>have_pet</th>\n",
              "      <th>time_outside</th>\n",
              "      <th>meeting_friends</th>\n",
              "      <th>screen_time</th>\n",
              "      <th>time_to_bed</th>\n",
              "      <th>wake_time</th>\n",
              "      <th>stress_level</th>\n",
              "      <th>wake_sleep_time</th>\n",
              "      <th>time_fall_asleep</th>\n",
              "    </tr>\n",
              "  </thead>\n",
              "  <tbody>\n",
              "    <tr>\n",
              "      <th>3</th>\n",
              "      <td>lorenzocolombo1998@gmail.com</td>\n",
              "      <td>Yes / Oui</td>\n",
              "      <td>Yes / Oui</td>\n",
              "      <td>Master</td>\n",
              "      <td>No / Non</td>\n",
              "      <td>23 - 27</td>\n",
              "      <td>Male / Homme</td>\n",
              "      <td>No / Non</td>\n",
              "      <td>No / Non</td>\n",
              "      <td>10</td>\n",
              "      <td>3</td>\n",
              "      <td>6</td>\n",
              "      <td>23:30</td>\n",
              "      <td>07:30</td>\n",
              "      <td>Everyday / Tous les jours</td>\n",
              "      <td>1</td>\n",
              "      <td>15 to 30 min / De 15 à 30 minutes</td>\n",
              "    </tr>\n",
              "    <tr>\n",
              "      <th>4</th>\n",
              "      <td>fannylemant@yahoo.fr</td>\n",
              "      <td>Yes / Oui</td>\n",
              "      <td>Yes / Oui</td>\n",
              "      <td>Master</td>\n",
              "      <td>No / Non</td>\n",
              "      <td>18 - 22</td>\n",
              "      <td>Female / Femme</td>\n",
              "      <td>No / Non</td>\n",
              "      <td>Yes and it doesn't require to go out / Oui, un...</td>\n",
              "      <td>15</td>\n",
              "      <td>6</td>\n",
              "      <td>3</td>\n",
              "      <td>00:00</td>\n",
              "      <td>07:00</td>\n",
              "      <td>A few times (once or twice) / Quelques fois (u...</td>\n",
              "      <td>1</td>\n",
              "      <td>Instantly - less than 15 min / Instantanément ...</td>\n",
              "    </tr>\n",
              "    <tr>\n",
              "      <th>5</th>\n",
              "      <td>marie.gareau99@gmail.com</td>\n",
              "      <td>Yes / Oui</td>\n",
              "      <td>Yes / Oui</td>\n",
              "      <td>Bachelor / Licence</td>\n",
              "      <td>No / Non</td>\n",
              "      <td>18 - 22</td>\n",
              "      <td>Female / Femme</td>\n",
              "      <td>No / Non</td>\n",
              "      <td>No / Non</td>\n",
              "      <td>2</td>\n",
              "      <td>7</td>\n",
              "      <td>4</td>\n",
              "      <td>23:30</td>\n",
              "      <td>07:00</td>\n",
              "      <td>A few times (once or twice) / Quelques fois (u...</td>\n",
              "      <td>0</td>\n",
              "      <td>Instantly - less than 15 min / Instantanément ...</td>\n",
              "    </tr>\n",
              "    <tr>\n",
              "      <th>6</th>\n",
              "      <td>nathan.finance@hotmail.fr</td>\n",
              "      <td>Yes / Oui</td>\n",
              "      <td>Yes / Oui</td>\n",
              "      <td>Master</td>\n",
              "      <td>No / Non</td>\n",
              "      <td>18 - 22</td>\n",
              "      <td>Male / Homme</td>\n",
              "      <td>Yes / Oui</td>\n",
              "      <td>No / Non</td>\n",
              "      <td>10</td>\n",
              "      <td>7</td>\n",
              "      <td>10</td>\n",
              "      <td>12:30</td>\n",
              "      <td>07:00</td>\n",
              "      <td>Often (three or four times) / Souvent (trois o...</td>\n",
              "      <td>2</td>\n",
              "      <td>Instantly - less than 15 min / Instantanément ...</td>\n",
              "    </tr>\n",
              "    <tr>\n",
              "      <th>8</th>\n",
              "      <td>alexandre@glastra.fr</td>\n",
              "      <td>Yes / Oui</td>\n",
              "      <td>Yes / Oui</td>\n",
              "      <td>Master</td>\n",
              "      <td>No / Non</td>\n",
              "      <td>18 - 22</td>\n",
              "      <td>Male / Homme</td>\n",
              "      <td>No / Non</td>\n",
              "      <td>No / Non</td>\n",
              "      <td>6</td>\n",
              "      <td>1</td>\n",
              "      <td>5</td>\n",
              "      <td>00:30</td>\n",
              "      <td>06:30</td>\n",
              "      <td>A few times (once or twice) / Quelques fois (u...</td>\n",
              "      <td>0</td>\n",
              "      <td>15 to 30 min / De 15 à 30 minutes</td>\n",
              "    </tr>\n",
              "    <tr>\n",
              "      <th>9</th>\n",
              "      <td>prashamsakc2.0@gmail.com</td>\n",
              "      <td>Yes / Oui</td>\n",
              "      <td>Yes / Oui</td>\n",
              "      <td>Bachelor / Licence</td>\n",
              "      <td>No / Non</td>\n",
              "      <td>18 - 22</td>\n",
              "      <td>Female / Femme</td>\n",
              "      <td>No / Non</td>\n",
              "      <td>No / Non</td>\n",
              "      <td>10</td>\n",
              "      <td>4</td>\n",
              "      <td>5</td>\n",
              "      <td>00:00</td>\n",
              "      <td>09:00</td>\n",
              "      <td>A few times (once or twice) / Quelques fois (u...</td>\n",
              "      <td>1</td>\n",
              "      <td>More than 1h / Plus d'1h</td>\n",
              "    </tr>\n",
              "    <tr>\n",
              "      <th>10</th>\n",
              "      <td>delphine.ly99@gmail.com</td>\n",
              "      <td>Yes / Oui</td>\n",
              "      <td>Yes / Oui</td>\n",
              "      <td>Master</td>\n",
              "      <td>No / Non</td>\n",
              "      <td>18 - 22</td>\n",
              "      <td>Female / Femme</td>\n",
              "      <td>No / Non</td>\n",
              "      <td>No / Non</td>\n",
              "      <td>1</td>\n",
              "      <td>1</td>\n",
              "      <td>8</td>\n",
              "      <td>22:45</td>\n",
              "      <td>07:00</td>\n",
              "      <td>A few times (once or twice) / Quelques fois (u...</td>\n",
              "      <td>0</td>\n",
              "      <td>Instantly - less than 15 min / Instantanément ...</td>\n",
              "    </tr>\n",
              "    <tr>\n",
              "      <th>11</th>\n",
              "      <td>tania.tyczynski@gmail.com</td>\n",
              "      <td>Yes / Oui</td>\n",
              "      <td>Yes / Oui</td>\n",
              "      <td>Bachelor / Licence</td>\n",
              "      <td>No / Non</td>\n",
              "      <td>18 - 22</td>\n",
              "      <td>Female / Femme</td>\n",
              "      <td>Yes / Oui</td>\n",
              "      <td>No / Non</td>\n",
              "      <td>8</td>\n",
              "      <td>7</td>\n",
              "      <td>2</td>\n",
              "      <td>00:45</td>\n",
              "      <td>07:30</td>\n",
              "      <td>Often (three or four times) / Souvent (trois o...</td>\n",
              "      <td>0</td>\n",
              "      <td>Instantly - less than 15 min / Instantanément ...</td>\n",
              "    </tr>\n",
              "    <tr>\n",
              "      <th>14</th>\n",
              "      <td>angele.payan@yahoo.com</td>\n",
              "      <td>Yes / Oui</td>\n",
              "      <td>Yes / Oui</td>\n",
              "      <td>Bachelor / Licence</td>\n",
              "      <td>No / Non</td>\n",
              "      <td>18 - 22</td>\n",
              "      <td>Female / Femme</td>\n",
              "      <td>No / Non</td>\n",
              "      <td>Yes and it requires to go out (e.g. dog) / Oui...</td>\n",
              "      <td>1</td>\n",
              "      <td>1</td>\n",
              "      <td>9</td>\n",
              "      <td>23:00</td>\n",
              "      <td>07:30</td>\n",
              "      <td>Everyday / Tous les jours</td>\n",
              "      <td>0</td>\n",
              "      <td>15 to 30 min / De 15 à 30 minutes</td>\n",
              "    </tr>\n",
              "    <tr>\n",
              "      <th>16</th>\n",
              "      <td>valentine.brasseur4@gmail.com</td>\n",
              "      <td>Yes / Oui</td>\n",
              "      <td>Yes / Oui</td>\n",
              "      <td>Master</td>\n",
              "      <td>No / Non</td>\n",
              "      <td>18 - 22</td>\n",
              "      <td>Female / Femme</td>\n",
              "      <td>Yes / Oui</td>\n",
              "      <td>No / Non</td>\n",
              "      <td>1</td>\n",
              "      <td>7</td>\n",
              "      <td>9</td>\n",
              "      <td>01:15</td>\n",
              "      <td>07:30</td>\n",
              "      <td>Often (three or four times) / Souvent (trois o...</td>\n",
              "      <td>0</td>\n",
              "      <td>15 to 30 min / De 15 à 30 minutes</td>\n",
              "    </tr>\n",
              "    <tr>\n",
              "      <th>19</th>\n",
              "      <td>tjf200094@gmail.com</td>\n",
              "      <td>Yes / Oui</td>\n",
              "      <td>Yes / Oui</td>\n",
              "      <td>Master</td>\n",
              "      <td>No / Non</td>\n",
              "      <td>18 - 22</td>\n",
              "      <td>Male / Homme</td>\n",
              "      <td>No / Non</td>\n",
              "      <td>Yes and it doesn't require to go out / Oui, un...</td>\n",
              "      <td>6</td>\n",
              "      <td>1</td>\n",
              "      <td>2</td>\n",
              "      <td>22:15</td>\n",
              "      <td>07:00</td>\n",
              "      <td>Often (three or four times) / Souvent (trois o...</td>\n",
              "      <td>4</td>\n",
              "      <td>15 to 30 min / De 15 à 30 minutes</td>\n",
              "    </tr>\n",
              "    <tr>\n",
              "      <th>21</th>\n",
              "      <td>carla.tousmayol@cri-paris.org</td>\n",
              "      <td>Yes / Oui</td>\n",
              "      <td>Yes / Oui</td>\n",
              "      <td>PhD / Doctorat</td>\n",
              "      <td>Yes / Oui</td>\n",
              "      <td>23 - 27</td>\n",
              "      <td>Female / Femme</td>\n",
              "      <td>Yes / Oui</td>\n",
              "      <td>No / Non</td>\n",
              "      <td>9</td>\n",
              "      <td>5</td>\n",
              "      <td>3</td>\n",
              "      <td>12:00</td>\n",
              "      <td>08:00</td>\n",
              "      <td>Never / Jamais</td>\n",
              "      <td>0</td>\n",
              "      <td>Instantly - less than 15 min / Instantanément ...</td>\n",
              "    </tr>\n",
              "    <tr>\n",
              "      <th>25</th>\n",
              "      <td>nssaveleva@mail.ru</td>\n",
              "      <td>Yes / Oui</td>\n",
              "      <td>Yes / Oui</td>\n",
              "      <td>Master</td>\n",
              "      <td>Yes / Oui</td>\n",
              "      <td>&gt;30</td>\n",
              "      <td>Female / Femme</td>\n",
              "      <td>No / Non</td>\n",
              "      <td>No / Non</td>\n",
              "      <td>6</td>\n",
              "      <td>5</td>\n",
              "      <td>8</td>\n",
              "      <td>01:30</td>\n",
              "      <td>07:00</td>\n",
              "      <td>Often (three or four times) / Souvent (trois o...</td>\n",
              "      <td>0</td>\n",
              "      <td>Instantly - less than 15 min / Instantanément ...</td>\n",
              "    </tr>\n",
              "    <tr>\n",
              "      <th>26</th>\n",
              "      <td>wilschneider07@gmail.com</td>\n",
              "      <td>Yes / Oui</td>\n",
              "      <td>Yes / Oui</td>\n",
              "      <td>6ème année de médecine</td>\n",
              "      <td>No / Non</td>\n",
              "      <td>23 - 27</td>\n",
              "      <td>Male / Homme</td>\n",
              "      <td>No / Non</td>\n",
              "      <td>Yes and it doesn't require to go out / Oui, un...</td>\n",
              "      <td>0</td>\n",
              "      <td>1</td>\n",
              "      <td>4</td>\n",
              "      <td>02:30</td>\n",
              "      <td>09:00</td>\n",
              "      <td>Never / Jamais</td>\n",
              "      <td>0</td>\n",
              "      <td>Instantly - less than 15 min / Instantanément ...</td>\n",
              "    </tr>\n",
              "    <tr>\n",
              "      <th>28</th>\n",
              "      <td>lisha.ling@cri-paris.org</td>\n",
              "      <td>Yes / Oui</td>\n",
              "      <td>Yes / Oui</td>\n",
              "      <td>Master</td>\n",
              "      <td>Yes / Oui</td>\n",
              "      <td>&gt;30</td>\n",
              "      <td>Female / Femme</td>\n",
              "      <td>No / Non</td>\n",
              "      <td>No / Non</td>\n",
              "      <td>1</td>\n",
              "      <td>1</td>\n",
              "      <td>7</td>\n",
              "      <td>00:30</td>\n",
              "      <td>07:30</td>\n",
              "      <td>Often (three or four times) / Souvent (trois o...</td>\n",
              "      <td>2</td>\n",
              "      <td>30 min to 1h / De 30 minutes à 1h</td>\n",
              "    </tr>\n",
              "    <tr>\n",
              "      <th>29</th>\n",
              "      <td>anqi.zhou@cri-paris.org</td>\n",
              "      <td>Yes / Oui</td>\n",
              "      <td>Yes / Oui</td>\n",
              "      <td>PhD / Doctorat</td>\n",
              "      <td>Yes / Oui</td>\n",
              "      <td>23 - 27</td>\n",
              "      <td>Female / Femme</td>\n",
              "      <td>No / Non</td>\n",
              "      <td>Yes and it requires to go out (e.g. dog) / Oui...</td>\n",
              "      <td>2</td>\n",
              "      <td>3</td>\n",
              "      <td>8</td>\n",
              "      <td>23:30</td>\n",
              "      <td>08:30</td>\n",
              "      <td>Often (three or four times) / Souvent (trois o...</td>\n",
              "      <td>1</td>\n",
              "      <td>30 min to 1h / De 30 minutes à 1h</td>\n",
              "    </tr>\n",
              "    <tr>\n",
              "      <th>32</th>\n",
              "      <td>hippolyte.aubertin@cri-paris.org</td>\n",
              "      <td>Yes / Oui</td>\n",
              "      <td>Yes / Oui</td>\n",
              "      <td>Bachelor / Licence</td>\n",
              "      <td>Yes / Oui</td>\n",
              "      <td>&lt;18</td>\n",
              "      <td>Male / Homme</td>\n",
              "      <td>Yes / Oui</td>\n",
              "      <td>No / Non</td>\n",
              "      <td>1</td>\n",
              "      <td>7</td>\n",
              "      <td>10</td>\n",
              "      <td>12:00</td>\n",
              "      <td>07:30</td>\n",
              "      <td>Never / Jamais</td>\n",
              "      <td>2</td>\n",
              "      <td>15 to 30 min / De 15 à 30 minutes</td>\n",
              "    </tr>\n",
              "    <tr>\n",
              "      <th>34</th>\n",
              "      <td>camille.masanet@cri-paris.org</td>\n",
              "      <td>Yes / Oui</td>\n",
              "      <td>Yes / Oui</td>\n",
              "      <td>Bachelor / Licence</td>\n",
              "      <td>Yes / Oui</td>\n",
              "      <td>18 - 22</td>\n",
              "      <td>Female / Femme</td>\n",
              "      <td>No / Non</td>\n",
              "      <td>Yes and it doesn't require to go out / Oui, un...</td>\n",
              "      <td>3</td>\n",
              "      <td>7</td>\n",
              "      <td>7</td>\n",
              "      <td>23:00</td>\n",
              "      <td>06:50</td>\n",
              "      <td>Often (three or four times) / Souvent (trois o...</td>\n",
              "      <td>0</td>\n",
              "      <td>15 to 30 min / De 15 à 30 minutes</td>\n",
              "    </tr>\n",
              "    <tr>\n",
              "      <th>40</th>\n",
              "      <td>mariana.anaya@cri-paris.org</td>\n",
              "      <td>Yes / Oui</td>\n",
              "      <td>Yes / Oui</td>\n",
              "      <td>Bachelor / Licence</td>\n",
              "      <td>Yes / Oui</td>\n",
              "      <td>18 - 22</td>\n",
              "      <td>Female / Femme</td>\n",
              "      <td>Yes / Oui</td>\n",
              "      <td>No / Non</td>\n",
              "      <td>1</td>\n",
              "      <td>8</td>\n",
              "      <td>2</td>\n",
              "      <td>22:00</td>\n",
              "      <td>08:00</td>\n",
              "      <td>Often (three or four times) / Souvent (trois o...</td>\n",
              "      <td>2</td>\n",
              "      <td>15 to 30 min / De 15 à 30 minutes</td>\n",
              "    </tr>\n",
              "    <tr>\n",
              "      <th>41</th>\n",
              "      <td>laurine.lachkar@cri-paris.org</td>\n",
              "      <td>Yes / Oui</td>\n",
              "      <td>Yes / Oui</td>\n",
              "      <td>Bachelor / Licence</td>\n",
              "      <td>Yes / Oui</td>\n",
              "      <td>18 - 22</td>\n",
              "      <td>Female / Femme</td>\n",
              "      <td>No / Non</td>\n",
              "      <td>Yes and it doesn't require to go out / Oui, un...</td>\n",
              "      <td>1</td>\n",
              "      <td>5</td>\n",
              "      <td>10</td>\n",
              "      <td>23:30</td>\n",
              "      <td>08:30</td>\n",
              "      <td>A few times (once or twice) / Quelques fois (u...</td>\n",
              "      <td>0</td>\n",
              "      <td>Instantly - less than 15 min / Instantanément ...</td>\n",
              "    </tr>\n",
              "    <tr>\n",
              "      <th>44</th>\n",
              "      <td>comejaubert@gmail.com</td>\n",
              "      <td>Yes / Oui</td>\n",
              "      <td>Yes / Oui</td>\n",
              "      <td>Master</td>\n",
              "      <td>Yes / Oui</td>\n",
              "      <td>18 - 22</td>\n",
              "      <td>Male / Homme</td>\n",
              "      <td>No / Non</td>\n",
              "      <td>Yes and it doesn't require to go out / Oui, un...</td>\n",
              "      <td>9</td>\n",
              "      <td>7</td>\n",
              "      <td>7</td>\n",
              "      <td>12:00</td>\n",
              "      <td>08:30</td>\n",
              "      <td>Never / Jamais</td>\n",
              "      <td>0</td>\n",
              "      <td>Instantly - less than 15 min / Instantanément ...</td>\n",
              "    </tr>\n",
              "    <tr>\n",
              "      <th>45</th>\n",
              "      <td>mariatou.drame@cri-paris.org</td>\n",
              "      <td>Yes / Oui</td>\n",
              "      <td>Yes / Oui</td>\n",
              "      <td>PhD / Doctorat</td>\n",
              "      <td>Yes / Oui</td>\n",
              "      <td>23 - 27</td>\n",
              "      <td>Female / Femme</td>\n",
              "      <td>Yes / Oui</td>\n",
              "      <td>No / Non</td>\n",
              "      <td>10</td>\n",
              "      <td>3</td>\n",
              "      <td>5</td>\n",
              "      <td>02:00</td>\n",
              "      <td>08:00</td>\n",
              "      <td>Everyday / Tous les jours</td>\n",
              "      <td>2</td>\n",
              "      <td>Instantly - less than 15 min / Instantanément ...</td>\n",
              "    </tr>\n",
              "    <tr>\n",
              "      <th>48</th>\n",
              "      <td>hannah.borhan-azad@cri-paris.org</td>\n",
              "      <td>Yes / Oui</td>\n",
              "      <td>Yes / Oui</td>\n",
              "      <td>Master</td>\n",
              "      <td>Yes / Oui</td>\n",
              "      <td>23 - 27</td>\n",
              "      <td>Female / Femme</td>\n",
              "      <td>No / Non</td>\n",
              "      <td>No / Non</td>\n",
              "      <td>3</td>\n",
              "      <td>5</td>\n",
              "      <td>5</td>\n",
              "      <td>00:00</td>\n",
              "      <td>08:00</td>\n",
              "      <td>A few times (once or twice) / Quelques fois (u...</td>\n",
              "      <td>1</td>\n",
              "      <td>15 to 30 min / De 15 à 30 minutes</td>\n",
              "    </tr>\n",
              "    <tr>\n",
              "      <th>51</th>\n",
              "      <td>samantha.hurtado@cri-paris.org</td>\n",
              "      <td>Yes / Oui</td>\n",
              "      <td>Yes / Oui</td>\n",
              "      <td>Master</td>\n",
              "      <td>Yes / Oui</td>\n",
              "      <td>23 - 27</td>\n",
              "      <td>Prefer not to say / Préfère ne pas se prononcer</td>\n",
              "      <td>No / Non</td>\n",
              "      <td>No / Non</td>\n",
              "      <td>2</td>\n",
              "      <td>1</td>\n",
              "      <td>10</td>\n",
              "      <td>00:30</td>\n",
              "      <td>07:00</td>\n",
              "      <td>A few times (once or twice) / Quelques fois (u...</td>\n",
              "      <td>1</td>\n",
              "      <td>30 min to 1h / De 30 minutes à 1h</td>\n",
              "    </tr>\n",
              "  </tbody>\n",
              "</table>\n",
              "</div>"
            ],
            "text/plain": [
              "                               email  in_france courses_in_france  \\\n",
              "3       lorenzocolombo1998@gmail.com  Yes / Oui         Yes / Oui   \n",
              "4               fannylemant@yahoo.fr  Yes / Oui         Yes / Oui   \n",
              "5           marie.gareau99@gmail.com  Yes / Oui         Yes / Oui   \n",
              "6          nathan.finance@hotmail.fr  Yes / Oui         Yes / Oui   \n",
              "8               alexandre@glastra.fr  Yes / Oui         Yes / Oui   \n",
              "9           prashamsakc2.0@gmail.com  Yes / Oui         Yes / Oui   \n",
              "10           delphine.ly99@gmail.com  Yes / Oui         Yes / Oui   \n",
              "11         tania.tyczynski@gmail.com  Yes / Oui         Yes / Oui   \n",
              "14            angele.payan@yahoo.com  Yes / Oui         Yes / Oui   \n",
              "16     valentine.brasseur4@gmail.com  Yes / Oui         Yes / Oui   \n",
              "19               tjf200094@gmail.com  Yes / Oui         Yes / Oui   \n",
              "21     carla.tousmayol@cri-paris.org  Yes / Oui         Yes / Oui   \n",
              "25                nssaveleva@mail.ru  Yes / Oui         Yes / Oui   \n",
              "26          wilschneider07@gmail.com  Yes / Oui         Yes / Oui   \n",
              "28          lisha.ling@cri-paris.org  Yes / Oui         Yes / Oui   \n",
              "29           anqi.zhou@cri-paris.org  Yes / Oui         Yes / Oui   \n",
              "32  hippolyte.aubertin@cri-paris.org  Yes / Oui         Yes / Oui   \n",
              "34     camille.masanet@cri-paris.org  Yes / Oui         Yes / Oui   \n",
              "40       mariana.anaya@cri-paris.org  Yes / Oui         Yes / Oui   \n",
              "41     laurine.lachkar@cri-paris.org  Yes / Oui         Yes / Oui   \n",
              "44             comejaubert@gmail.com  Yes / Oui         Yes / Oui   \n",
              "45      mariatou.drame@cri-paris.org  Yes / Oui         Yes / Oui   \n",
              "48  hannah.borhan-azad@cri-paris.org  Yes / Oui         Yes / Oui   \n",
              "51    samantha.hurtado@cri-paris.org  Yes / Oui         Yes / Oui   \n",
              "\n",
              "                    status cri_student      age  \\\n",
              "3                   Master    No / Non  23 - 27   \n",
              "4                   Master    No / Non  18 - 22   \n",
              "5       Bachelor / Licence    No / Non  18 - 22   \n",
              "6                   Master    No / Non  18 - 22   \n",
              "8                   Master    No / Non  18 - 22   \n",
              "9       Bachelor / Licence    No / Non  18 - 22   \n",
              "10                  Master    No / Non  18 - 22   \n",
              "11      Bachelor / Licence    No / Non  18 - 22   \n",
              "14      Bachelor / Licence    No / Non  18 - 22   \n",
              "16                  Master    No / Non  18 - 22   \n",
              "19                  Master    No / Non  18 - 22   \n",
              "21          PhD / Doctorat   Yes / Oui  23 - 27   \n",
              "25                  Master   Yes / Oui      >30   \n",
              "26  6ème année de médecine    No / Non  23 - 27   \n",
              "28                  Master   Yes / Oui      >30   \n",
              "29          PhD / Doctorat   Yes / Oui  23 - 27   \n",
              "32      Bachelor / Licence   Yes / Oui      <18   \n",
              "34      Bachelor / Licence   Yes / Oui  18 - 22   \n",
              "40      Bachelor / Licence   Yes / Oui  18 - 22   \n",
              "41      Bachelor / Licence   Yes / Oui  18 - 22   \n",
              "44                  Master   Yes / Oui  18 - 22   \n",
              "45          PhD / Doctorat   Yes / Oui  23 - 27   \n",
              "48                  Master   Yes / Oui  23 - 27   \n",
              "51                  Master   Yes / Oui  23 - 27   \n",
              "\n",
              "                                             gender      alone  \\\n",
              "3                                      Male / Homme   No / Non   \n",
              "4                                    Female / Femme   No / Non   \n",
              "5                                    Female / Femme   No / Non   \n",
              "6                                      Male / Homme  Yes / Oui   \n",
              "8                                      Male / Homme   No / Non   \n",
              "9                                    Female / Femme   No / Non   \n",
              "10                                   Female / Femme   No / Non   \n",
              "11                                   Female / Femme  Yes / Oui   \n",
              "14                                   Female / Femme   No / Non   \n",
              "16                                   Female / Femme  Yes / Oui   \n",
              "19                                     Male / Homme   No / Non   \n",
              "21                                   Female / Femme  Yes / Oui   \n",
              "25                                   Female / Femme   No / Non   \n",
              "26                                     Male / Homme   No / Non   \n",
              "28                                   Female / Femme   No / Non   \n",
              "29                                   Female / Femme   No / Non   \n",
              "32                                     Male / Homme  Yes / Oui   \n",
              "34                                   Female / Femme   No / Non   \n",
              "40                                   Female / Femme  Yes / Oui   \n",
              "41                                   Female / Femme   No / Non   \n",
              "44                                     Male / Homme   No / Non   \n",
              "45                                   Female / Femme  Yes / Oui   \n",
              "48                                   Female / Femme   No / Non   \n",
              "51  Prefer not to say / Préfère ne pas se prononcer   No / Non   \n",
              "\n",
              "                                             have_pet  time_outside  \\\n",
              "3                                            No / Non            10   \n",
              "4   Yes and it doesn't require to go out / Oui, un...            15   \n",
              "5                                            No / Non             2   \n",
              "6                                            No / Non            10   \n",
              "8                                            No / Non             6   \n",
              "9                                            No / Non            10   \n",
              "10                                           No / Non             1   \n",
              "11                                           No / Non             8   \n",
              "14  Yes and it requires to go out (e.g. dog) / Oui...             1   \n",
              "16                                           No / Non             1   \n",
              "19  Yes and it doesn't require to go out / Oui, un...             6   \n",
              "21                                           No / Non             9   \n",
              "25                                           No / Non             6   \n",
              "26  Yes and it doesn't require to go out / Oui, un...             0   \n",
              "28                                           No / Non             1   \n",
              "29  Yes and it requires to go out (e.g. dog) / Oui...             2   \n",
              "32                                           No / Non             1   \n",
              "34  Yes and it doesn't require to go out / Oui, un...             3   \n",
              "40                                           No / Non             1   \n",
              "41  Yes and it doesn't require to go out / Oui, un...             1   \n",
              "44  Yes and it doesn't require to go out / Oui, un...             9   \n",
              "45                                           No / Non            10   \n",
              "48                                           No / Non             3   \n",
              "51                                           No / Non             2   \n",
              "\n",
              "    meeting_friends  screen_time time_to_bed wake_time  \\\n",
              "3                 3            6       23:30     07:30   \n",
              "4                 6            3       00:00     07:00   \n",
              "5                 7            4       23:30     07:00   \n",
              "6                 7           10       12:30     07:00   \n",
              "8                 1            5       00:30     06:30   \n",
              "9                 4            5       00:00     09:00   \n",
              "10                1            8       22:45     07:00   \n",
              "11                7            2       00:45     07:30   \n",
              "14                1            9       23:00     07:30   \n",
              "16                7            9       01:15     07:30   \n",
              "19                1            2       22:15     07:00   \n",
              "21                5            3       12:00     08:00   \n",
              "25                5            8       01:30     07:00   \n",
              "26                1            4       02:30     09:00   \n",
              "28                1            7       00:30     07:30   \n",
              "29                3            8       23:30     08:30   \n",
              "32                7           10       12:00     07:30   \n",
              "34                7            7       23:00     06:50   \n",
              "40                8            2       22:00     08:00   \n",
              "41                5           10       23:30     08:30   \n",
              "44                7            7       12:00     08:30   \n",
              "45                3            5       02:00     08:00   \n",
              "48                5            5       00:00     08:00   \n",
              "51                1           10       00:30     07:00   \n",
              "\n",
              "                                         stress_level  wake_sleep_time  \\\n",
              "3                           Everyday / Tous les jours                1   \n",
              "4   A few times (once or twice) / Quelques fois (u...                1   \n",
              "5   A few times (once or twice) / Quelques fois (u...                0   \n",
              "6   Often (three or four times) / Souvent (trois o...                2   \n",
              "8   A few times (once or twice) / Quelques fois (u...                0   \n",
              "9   A few times (once or twice) / Quelques fois (u...                1   \n",
              "10  A few times (once or twice) / Quelques fois (u...                0   \n",
              "11  Often (three or four times) / Souvent (trois o...                0   \n",
              "14                          Everyday / Tous les jours                0   \n",
              "16  Often (three or four times) / Souvent (trois o...                0   \n",
              "19  Often (three or four times) / Souvent (trois o...                4   \n",
              "21                                     Never / Jamais                0   \n",
              "25  Often (three or four times) / Souvent (trois o...                0   \n",
              "26                                     Never / Jamais                0   \n",
              "28  Often (three or four times) / Souvent (trois o...                2   \n",
              "29  Often (three or four times) / Souvent (trois o...                1   \n",
              "32                                     Never / Jamais                2   \n",
              "34  Often (three or four times) / Souvent (trois o...                0   \n",
              "40  Often (three or four times) / Souvent (trois o...                2   \n",
              "41  A few times (once or twice) / Quelques fois (u...                0   \n",
              "44                                     Never / Jamais                0   \n",
              "45                          Everyday / Tous les jours                2   \n",
              "48  A few times (once or twice) / Quelques fois (u...                1   \n",
              "51  A few times (once or twice) / Quelques fois (u...                1   \n",
              "\n",
              "                                     time_fall_asleep  \n",
              "3                   15 to 30 min / De 15 à 30 minutes  \n",
              "4   Instantly - less than 15 min / Instantanément ...  \n",
              "5   Instantly - less than 15 min / Instantanément ...  \n",
              "6   Instantly - less than 15 min / Instantanément ...  \n",
              "8                   15 to 30 min / De 15 à 30 minutes  \n",
              "9                            More than 1h / Plus d'1h  \n",
              "10  Instantly - less than 15 min / Instantanément ...  \n",
              "11  Instantly - less than 15 min / Instantanément ...  \n",
              "14                  15 to 30 min / De 15 à 30 minutes  \n",
              "16                  15 to 30 min / De 15 à 30 minutes  \n",
              "19                  15 to 30 min / De 15 à 30 minutes  \n",
              "21  Instantly - less than 15 min / Instantanément ...  \n",
              "25  Instantly - less than 15 min / Instantanément ...  \n",
              "26  Instantly - less than 15 min / Instantanément ...  \n",
              "28                  30 min to 1h / De 30 minutes à 1h  \n",
              "29                  30 min to 1h / De 30 minutes à 1h  \n",
              "32                  15 to 30 min / De 15 à 30 minutes  \n",
              "34                  15 to 30 min / De 15 à 30 minutes  \n",
              "40                  15 to 30 min / De 15 à 30 minutes  \n",
              "41  Instantly - less than 15 min / Instantanément ...  \n",
              "44  Instantly - less than 15 min / Instantanément ...  \n",
              "45  Instantly - less than 15 min / Instantanément ...  \n",
              "48                  15 to 30 min / De 15 à 30 minutes  \n",
              "51                  30 min to 1h / De 30 minutes à 1h  "
            ]
          },
          "metadata": {},
          "execution_count": 391
        }
      ]
    },
    {
      "cell_type": "markdown",
      "metadata": {
        "id": "u-TeWz4xo5g0"
      },
      "source": [
        "# **Data Preprocessing and Cleaning survey 2**"
      ]
    },
    {
      "cell_type": "code",
      "metadata": {
        "id": "swKOp0uOpA2E",
        "colab": {
          "base_uri": "https://localhost:8080/",
          "height": 508
        },
        "outputId": "b221b74d-8eb7-4fca-8ce0-e3e1e663dbed"
      },
      "source": [
        "df2 = pd.read_csv('Sleeping quality 2.csv') #read the data frame\n",
        "df2.head(2)"
      ],
      "execution_count": null,
      "outputs": [
        {
          "output_type": "execute_result",
          "data": {
            "text/html": [
              "<div>\n",
              "<style scoped>\n",
              "    .dataframe tbody tr th:only-of-type {\n",
              "        vertical-align: middle;\n",
              "    }\n",
              "\n",
              "    .dataframe tbody tr th {\n",
              "        vertical-align: top;\n",
              "    }\n",
              "\n",
              "    .dataframe thead th {\n",
              "        text-align: right;\n",
              "    }\n",
              "</style>\n",
              "<table border=\"1\" class=\"dataframe\">\n",
              "  <thead>\n",
              "    <tr style=\"text-align: right;\">\n",
              "      <th></th>\n",
              "      <th>Timestamp</th>\n",
              "      <th>Username</th>\n",
              "      <th>DAILY - How many hours did you spend in front of a screen (TV, PC, phone...)? / Combien d'heures avez-vous passé chaque jour devant un écran (télévision, ordinateur, téléphone... (en moyenne) ?</th>\n",
              "      <th>On average, when did you go to bed? / En moyenne, à quelle heure vous êtes-vous couché.e ?</th>\n",
              "      <th>On average, when did you wake up? / En moyenne, à quelle heure vous êtes-vous réveillé.e?</th>\n",
              "      <th>On average and during the last week, how often have you felt stressed out? / En moyenne, combien de fois vous êtes-vous sentis stressé.e cette semaine ?</th>\n",
              "      <th>On average, how many times did you wake up while sleeping every night? / En moyenne, à quelle fréquence vous êtes-vous réveillé.e la nuit ?</th>\n",
              "      <th>On average, how long did it take to fall asleep? / En moyenne, combien de temps avez-vous mis à vous endormir ?</th>\n",
              "    </tr>\n",
              "  </thead>\n",
              "  <tbody>\n",
              "    <tr>\n",
              "      <th>0</th>\n",
              "      <td>2021/12/06 12:03:50 PM GMT+1</td>\n",
              "      <td>valentine.brasseur4@gmail.com</td>\n",
              "      <td>9</td>\n",
              "      <td>01:00</td>\n",
              "      <td>08:30</td>\n",
              "      <td>A few times (once or twice)</td>\n",
              "      <td>0</td>\n",
              "      <td>15 to 30 min</td>\n",
              "    </tr>\n",
              "    <tr>\n",
              "      <th>1</th>\n",
              "      <td>2021/12/06 12:05:13 PM GMT+1</td>\n",
              "      <td>cindyevellyn@gmail.com</td>\n",
              "      <td>7</td>\n",
              "      <td>23:30</td>\n",
              "      <td>07:00</td>\n",
              "      <td>Everyday</td>\n",
              "      <td>0</td>\n",
              "      <td>15 to 30 min</td>\n",
              "    </tr>\n",
              "  </tbody>\n",
              "</table>\n",
              "</div>"
            ],
            "text/plain": [
              "                      Timestamp                       Username  \\\n",
              "0  2021/12/06 12:03:50 PM GMT+1  valentine.brasseur4@gmail.com   \n",
              "1  2021/12/06 12:05:13 PM GMT+1         cindyevellyn@gmail.com   \n",
              "\n",
              "   DAILY - How many hours did you spend in front of a screen (TV, PC, phone...)? / Combien d'heures avez-vous passé chaque jour devant un écran (télévision, ordinateur, téléphone... (en moyenne) ?  \\\n",
              "0                                                  9                                                                                                                                                   \n",
              "1                                                  7                                                                                                                                                   \n",
              "\n",
              "  On average, when did you go to bed? / En moyenne, à quelle heure vous êtes-vous couché.e ?  \\\n",
              "0                                              01:00                                           \n",
              "1                                              23:30                                           \n",
              "\n",
              "  On average, when did you wake up? / En moyenne, à quelle heure vous êtes-vous réveillé.e?  \\\n",
              "0                                              08:30                                          \n",
              "1                                              07:00                                          \n",
              "\n",
              "  On average and during the last week, how often have you felt stressed out? / En moyenne, combien de fois vous êtes-vous sentis stressé.e cette semaine ?  \\\n",
              "0                        A few times (once or twice)                                                                                                         \n",
              "1                                           Everyday                                                                                                         \n",
              "\n",
              "   On average, how many times did you wake up while sleeping every night? / En moyenne, à quelle fréquence vous êtes-vous réveillé.e la nuit ?   \\\n",
              "0                                                  0                                                                                              \n",
              "1                                                  0                                                                                              \n",
              "\n",
              "  On average, how long did it take to fall asleep? / En moyenne, combien de temps avez-vous mis à vous endormir ?  \n",
              "0                                       15 to 30 min                                                               \n",
              "1                                       15 to 30 min                                                               "
            ]
          },
          "metadata": {},
          "execution_count": 392
        }
      ]
    },
    {
      "cell_type": "code",
      "metadata": {
        "id": "VsaIkKVqpFLA"
      },
      "source": [
        "df2.reset_index().rename(columns={'index': 'User ID'}).set_index(\"User ID\", \n",
        "                                                                inplace = True) #add an index column \n"
      ],
      "execution_count": null,
      "outputs": []
    },
    {
      "cell_type": "code",
      "metadata": {
        "id": "H5wo6Nvapxxd"
      },
      "source": [
        "#Clean the data frame by removing the useless column\n",
        "# df2 = df2.drop('Username',1).drop('Timestamp',1)\n",
        "df2 = df2.drop('Timestamp',1)"
      ],
      "execution_count": null,
      "outputs": []
    },
    {
      "cell_type": "code",
      "source": [
        "df2.head(2) #how our final data frame looks like"
      ],
      "metadata": {
        "colab": {
          "base_uri": "https://localhost:8080/",
          "height": 491
        },
        "id": "dcn5tK4MLYW5",
        "outputId": "c82d47d0-5ec0-4c91-ceae-e443675b7506"
      },
      "execution_count": null,
      "outputs": [
        {
          "output_type": "execute_result",
          "data": {
            "text/html": [
              "<div>\n",
              "<style scoped>\n",
              "    .dataframe tbody tr th:only-of-type {\n",
              "        vertical-align: middle;\n",
              "    }\n",
              "\n",
              "    .dataframe tbody tr th {\n",
              "        vertical-align: top;\n",
              "    }\n",
              "\n",
              "    .dataframe thead th {\n",
              "        text-align: right;\n",
              "    }\n",
              "</style>\n",
              "<table border=\"1\" class=\"dataframe\">\n",
              "  <thead>\n",
              "    <tr style=\"text-align: right;\">\n",
              "      <th></th>\n",
              "      <th>Username</th>\n",
              "      <th>DAILY - How many hours did you spend in front of a screen (TV, PC, phone...)? / Combien d'heures avez-vous passé chaque jour devant un écran (télévision, ordinateur, téléphone... (en moyenne) ?</th>\n",
              "      <th>On average, when did you go to bed? / En moyenne, à quelle heure vous êtes-vous couché.e ?</th>\n",
              "      <th>On average, when did you wake up? / En moyenne, à quelle heure vous êtes-vous réveillé.e?</th>\n",
              "      <th>On average and during the last week, how often have you felt stressed out? / En moyenne, combien de fois vous êtes-vous sentis stressé.e cette semaine ?</th>\n",
              "      <th>On average, how many times did you wake up while sleeping every night? / En moyenne, à quelle fréquence vous êtes-vous réveillé.e la nuit ?</th>\n",
              "      <th>On average, how long did it take to fall asleep? / En moyenne, combien de temps avez-vous mis à vous endormir ?</th>\n",
              "    </tr>\n",
              "  </thead>\n",
              "  <tbody>\n",
              "    <tr>\n",
              "      <th>0</th>\n",
              "      <td>valentine.brasseur4@gmail.com</td>\n",
              "      <td>9</td>\n",
              "      <td>01:00</td>\n",
              "      <td>08:30</td>\n",
              "      <td>A few times (once or twice)</td>\n",
              "      <td>0</td>\n",
              "      <td>15 to 30 min</td>\n",
              "    </tr>\n",
              "    <tr>\n",
              "      <th>1</th>\n",
              "      <td>cindyevellyn@gmail.com</td>\n",
              "      <td>7</td>\n",
              "      <td>23:30</td>\n",
              "      <td>07:00</td>\n",
              "      <td>Everyday</td>\n",
              "      <td>0</td>\n",
              "      <td>15 to 30 min</td>\n",
              "    </tr>\n",
              "  </tbody>\n",
              "</table>\n",
              "</div>"
            ],
            "text/plain": [
              "                        Username  \\\n",
              "0  valentine.brasseur4@gmail.com   \n",
              "1         cindyevellyn@gmail.com   \n",
              "\n",
              "   DAILY - How many hours did you spend in front of a screen (TV, PC, phone...)? / Combien d'heures avez-vous passé chaque jour devant un écran (télévision, ordinateur, téléphone... (en moyenne) ?  \\\n",
              "0                                                  9                                                                                                                                                   \n",
              "1                                                  7                                                                                                                                                   \n",
              "\n",
              "  On average, when did you go to bed? / En moyenne, à quelle heure vous êtes-vous couché.e ?  \\\n",
              "0                                              01:00                                           \n",
              "1                                              23:30                                           \n",
              "\n",
              "  On average, when did you wake up? / En moyenne, à quelle heure vous êtes-vous réveillé.e?  \\\n",
              "0                                              08:30                                          \n",
              "1                                              07:00                                          \n",
              "\n",
              "  On average and during the last week, how often have you felt stressed out? / En moyenne, combien de fois vous êtes-vous sentis stressé.e cette semaine ?  \\\n",
              "0                        A few times (once or twice)                                                                                                         \n",
              "1                                           Everyday                                                                                                         \n",
              "\n",
              "   On average, how many times did you wake up while sleeping every night? / En moyenne, à quelle fréquence vous êtes-vous réveillé.e la nuit ?   \\\n",
              "0                                                  0                                                                                              \n",
              "1                                                  0                                                                                              \n",
              "\n",
              "  On average, how long did it take to fall asleep? / En moyenne, combien de temps avez-vous mis à vous endormir ?  \n",
              "0                                       15 to 30 min                                                               \n",
              "1                                       15 to 30 min                                                               "
            ]
          },
          "metadata": {},
          "execution_count": 395
        }
      ]
    },
    {
      "cell_type": "code",
      "source": [
        "# Let's check the data we are manipulating \n",
        "# display(final_df2.dtypes)\n",
        "# display(final_df2.info)\n",
        "# display(final_df2.describe)\n",
        "# display(final_df2.columns)"
      ],
      "metadata": {
        "id": "YmlGwZ-yLeI8"
      },
      "execution_count": null,
      "outputs": []
    },
    {
      "cell_type": "code",
      "source": [
        "#For the categorical columns of the dataset we want to see how many instances of each category there are\n",
        "# display(final_df2.iloc[:, :8].value_counts())\n",
        "# display(final_df2.iloc[:, 11:14].value_counts())\n",
        "# display(final_df2.iloc[:, -1:].value_counts())"
      ],
      "metadata": {
        "id": "K16nvi-DLnZC"
      },
      "execution_count": null,
      "outputs": []
    },
    {
      "cell_type": "code",
      "source": [
        "list_col2 = df2.columns.tolist()\n",
        "list_col2"
      ],
      "metadata": {
        "colab": {
          "base_uri": "https://localhost:8080/"
        },
        "id": "tcECX6f-Ma93",
        "outputId": "31b51447-713a-4553-eb3a-96c29795c61e"
      },
      "execution_count": null,
      "outputs": [
        {
          "output_type": "execute_result",
          "data": {
            "text/plain": [
              "['Username',\n",
              " \"DAILY - How many hours did you spend in front of a screen (TV, PC, phone...)? / Combien d'heures avez-vous passé chaque jour devant un écran (télévision, ordinateur, téléphone... (en moyenne) ?\",\n",
              " 'On average, when did you go to bed? / En moyenne, à quelle heure vous êtes-vous couché.e ?',\n",
              " 'On average, when did you wake up? / En moyenne, à quelle heure vous êtes-vous réveillé.e?',\n",
              " 'On average and during the last week, how often have you felt stressed out? / En moyenne, combien de fois vous êtes-vous sentis stressé.e cette semaine ?',\n",
              " 'On average, how many times did you wake up while sleeping every night? / En moyenne, à quelle fréquence vous êtes-vous réveillé.e la nuit ? ',\n",
              " 'On average, how long did it take to fall asleep? / En moyenne, combien de temps avez-vous mis à vous endormir ?']"
            ]
          },
          "metadata": {},
          "execution_count": 398
        }
      ]
    },
    {
      "cell_type": "code",
      "source": [
        "# Rename columns names for clearer/easy data wrangling\n",
        "\n",
        "column_name2 = [\"email\",'screen_time', 'time_to_bed',\n",
        "               'wake_time', 'stress_level', 'wake_sleep_time','time_fall_asleep']\n",
        "\n",
        "\n",
        "res2 = {list_col2[i]: column_name2[i] for i in range(len(list_col2))} \n",
        "df2 = df2.rename(columns=res2)"
      ],
      "metadata": {
        "id": "kbr5TeVPMhF7"
      },
      "execution_count": null,
      "outputs": []
    },
    {
      "cell_type": "code",
      "source": [
        "len(df2)"
      ],
      "metadata": {
        "colab": {
          "base_uri": "https://localhost:8080/"
        },
        "id": "qDBiQ1PtMsIK",
        "outputId": "97f53bc7-ba22-4fe8-80de-15879984777b"
      },
      "execution_count": null,
      "outputs": [
        {
          "output_type": "execute_result",
          "data": {
            "text/plain": [
              "16"
            ]
          },
          "metadata": {},
          "execution_count": 400
        }
      ]
    },
    {
      "cell_type": "code",
      "source": [
        "df2.columns\n",
        "df2"
      ],
      "metadata": {
        "colab": {
          "base_uri": "https://localhost:8080/",
          "height": 769
        },
        "id": "pq7i3BYwOJb1",
        "outputId": "42dbdad4-820a-4102-96c5-4394a9e9bbe5"
      },
      "execution_count": null,
      "outputs": [
        {
          "output_type": "execute_result",
          "data": {
            "text/html": [
              "<div>\n",
              "<style scoped>\n",
              "    .dataframe tbody tr th:only-of-type {\n",
              "        vertical-align: middle;\n",
              "    }\n",
              "\n",
              "    .dataframe tbody tr th {\n",
              "        vertical-align: top;\n",
              "    }\n",
              "\n",
              "    .dataframe thead th {\n",
              "        text-align: right;\n",
              "    }\n",
              "</style>\n",
              "<table border=\"1\" class=\"dataframe\">\n",
              "  <thead>\n",
              "    <tr style=\"text-align: right;\">\n",
              "      <th></th>\n",
              "      <th>email</th>\n",
              "      <th>screen_time</th>\n",
              "      <th>time_to_bed</th>\n",
              "      <th>wake_time</th>\n",
              "      <th>stress_level</th>\n",
              "      <th>wake_sleep_time</th>\n",
              "      <th>time_fall_asleep</th>\n",
              "    </tr>\n",
              "  </thead>\n",
              "  <tbody>\n",
              "    <tr>\n",
              "      <th>0</th>\n",
              "      <td>valentine.brasseur4@gmail.com</td>\n",
              "      <td>9</td>\n",
              "      <td>01:00</td>\n",
              "      <td>08:30</td>\n",
              "      <td>A few times (once or twice)</td>\n",
              "      <td>0</td>\n",
              "      <td>15 to 30 min</td>\n",
              "    </tr>\n",
              "    <tr>\n",
              "      <th>1</th>\n",
              "      <td>cindyevellyn@gmail.com</td>\n",
              "      <td>7</td>\n",
              "      <td>23:30</td>\n",
              "      <td>07:00</td>\n",
              "      <td>Everyday</td>\n",
              "      <td>0</td>\n",
              "      <td>15 to 30 min</td>\n",
              "    </tr>\n",
              "    <tr>\n",
              "      <th>2</th>\n",
              "      <td>samantha.hurtado@cri-paris.org</td>\n",
              "      <td>4</td>\n",
              "      <td>23:50</td>\n",
              "      <td>07:50</td>\n",
              "      <td>A few times (once or twice)</td>\n",
              "      <td>1</td>\n",
              "      <td>More than 1h</td>\n",
              "    </tr>\n",
              "    <tr>\n",
              "      <th>3</th>\n",
              "      <td>lorenzocolombo1998@gmail.com</td>\n",
              "      <td>8</td>\n",
              "      <td>23:30</td>\n",
              "      <td>07:30</td>\n",
              "      <td>Often (three or four times)</td>\n",
              "      <td>1</td>\n",
              "      <td>15 to 30 min</td>\n",
              "    </tr>\n",
              "    <tr>\n",
              "      <th>4</th>\n",
              "      <td>wilschneider07@gmail.com</td>\n",
              "      <td>4</td>\n",
              "      <td>01:30</td>\n",
              "      <td>09:00</td>\n",
              "      <td>A few times (once or twice)</td>\n",
              "      <td>0</td>\n",
              "      <td>Instantly - less than 15 min</td>\n",
              "    </tr>\n",
              "    <tr>\n",
              "      <th>5</th>\n",
              "      <td>tania.tyczynski@gmail.com</td>\n",
              "      <td>9</td>\n",
              "      <td>01:30</td>\n",
              "      <td>09:30</td>\n",
              "      <td>A few times (once or twice)</td>\n",
              "      <td>0</td>\n",
              "      <td>Instantly - less than 15 min</td>\n",
              "    </tr>\n",
              "    <tr>\n",
              "      <th>6</th>\n",
              "      <td>hippolyte.aubertin@cri-paris.org</td>\n",
              "      <td>8</td>\n",
              "      <td>00:00</td>\n",
              "      <td>07:30</td>\n",
              "      <td>Never</td>\n",
              "      <td>1</td>\n",
              "      <td>15 to 30 min</td>\n",
              "    </tr>\n",
              "    <tr>\n",
              "      <th>7</th>\n",
              "      <td>mariatou.drame@cri-paris.org</td>\n",
              "      <td>8</td>\n",
              "      <td>01:00</td>\n",
              "      <td>08:00</td>\n",
              "      <td>Everyday</td>\n",
              "      <td>2</td>\n",
              "      <td>Instantly - less than 15 min</td>\n",
              "    </tr>\n",
              "    <tr>\n",
              "      <th>8</th>\n",
              "      <td>delphine.ly99@gmail.com</td>\n",
              "      <td>8</td>\n",
              "      <td>00:30</td>\n",
              "      <td>08:00</td>\n",
              "      <td>Often (three or four times)</td>\n",
              "      <td>2</td>\n",
              "      <td>15 to 30 min</td>\n",
              "    </tr>\n",
              "    <tr>\n",
              "      <th>9</th>\n",
              "      <td>lisha.ling@cri-paris.org</td>\n",
              "      <td>6</td>\n",
              "      <td>01:30</td>\n",
              "      <td>09:30</td>\n",
              "      <td>Often (three or four times)</td>\n",
              "      <td>1</td>\n",
              "      <td>30 min to 1h</td>\n",
              "    </tr>\n",
              "    <tr>\n",
              "      <th>10</th>\n",
              "      <td>nssaveleva@mail.ru</td>\n",
              "      <td>7</td>\n",
              "      <td>01:00</td>\n",
              "      <td>07:00</td>\n",
              "      <td>A few times (once or twice)</td>\n",
              "      <td>1</td>\n",
              "      <td>Instantly - less than 15 min</td>\n",
              "    </tr>\n",
              "    <tr>\n",
              "      <th>11</th>\n",
              "      <td>come.jaubert@cri-paris.org</td>\n",
              "      <td>5</td>\n",
              "      <td>12:00</td>\n",
              "      <td>08:30</td>\n",
              "      <td>Never</td>\n",
              "      <td>0</td>\n",
              "      <td>15 to 30 min</td>\n",
              "    </tr>\n",
              "    <tr>\n",
              "      <th>12</th>\n",
              "      <td>mariana.anaya@cri-paris.org</td>\n",
              "      <td>4</td>\n",
              "      <td>23:30</td>\n",
              "      <td>09:30</td>\n",
              "      <td>Often (three or four times)</td>\n",
              "      <td>2</td>\n",
              "      <td>15 to 30 min</td>\n",
              "    </tr>\n",
              "    <tr>\n",
              "      <th>13</th>\n",
              "      <td>nurlan.nogoibaev@cri-paris.org</td>\n",
              "      <td>12</td>\n",
              "      <td>04:00</td>\n",
              "      <td>08:45</td>\n",
              "      <td>A few times (once or twice)</td>\n",
              "      <td>0</td>\n",
              "      <td>Instantly - less than 15 min</td>\n",
              "    </tr>\n",
              "    <tr>\n",
              "      <th>14</th>\n",
              "      <td>laurine.lachkar@cri-paris.org</td>\n",
              "      <td>9</td>\n",
              "      <td>23:45</td>\n",
              "      <td>08:30</td>\n",
              "      <td>A few times (once or twice)</td>\n",
              "      <td>2</td>\n",
              "      <td>15 to 30 min</td>\n",
              "    </tr>\n",
              "    <tr>\n",
              "      <th>15</th>\n",
              "      <td>camille.masanet@cri-paris.org</td>\n",
              "      <td>4</td>\n",
              "      <td>22:00</td>\n",
              "      <td>06:45</td>\n",
              "      <td>A few times (once or twice)</td>\n",
              "      <td>1</td>\n",
              "      <td>Instantly - less than 15 min</td>\n",
              "    </tr>\n",
              "  </tbody>\n",
              "</table>\n",
              "</div>"
            ],
            "text/plain": [
              "                               email  screen_time time_to_bed wake_time  \\\n",
              "0      valentine.brasseur4@gmail.com            9       01:00     08:30   \n",
              "1             cindyevellyn@gmail.com            7       23:30     07:00   \n",
              "2     samantha.hurtado@cri-paris.org            4       23:50     07:50   \n",
              "3       lorenzocolombo1998@gmail.com            8       23:30     07:30   \n",
              "4           wilschneider07@gmail.com            4       01:30     09:00   \n",
              "5          tania.tyczynski@gmail.com            9       01:30     09:30   \n",
              "6   hippolyte.aubertin@cri-paris.org            8       00:00     07:30   \n",
              "7       mariatou.drame@cri-paris.org            8       01:00     08:00   \n",
              "8            delphine.ly99@gmail.com            8       00:30     08:00   \n",
              "9           lisha.ling@cri-paris.org            6       01:30     09:30   \n",
              "10                nssaveleva@mail.ru            7       01:00     07:00   \n",
              "11        come.jaubert@cri-paris.org            5       12:00     08:30   \n",
              "12       mariana.anaya@cri-paris.org            4       23:30     09:30   \n",
              "13    nurlan.nogoibaev@cri-paris.org           12       04:00     08:45   \n",
              "14     laurine.lachkar@cri-paris.org            9       23:45     08:30   \n",
              "15     camille.masanet@cri-paris.org            4       22:00     06:45   \n",
              "\n",
              "                   stress_level  wake_sleep_time              time_fall_asleep  \n",
              "0   A few times (once or twice)                0                  15 to 30 min  \n",
              "1                      Everyday                0                  15 to 30 min  \n",
              "2   A few times (once or twice)                1                  More than 1h  \n",
              "3   Often (three or four times)                1                  15 to 30 min  \n",
              "4   A few times (once or twice)                0  Instantly - less than 15 min  \n",
              "5   A few times (once or twice)                0  Instantly - less than 15 min  \n",
              "6                         Never                1                  15 to 30 min  \n",
              "7                      Everyday                2  Instantly - less than 15 min  \n",
              "8   Often (three or four times)                2                  15 to 30 min  \n",
              "9   Often (three or four times)                1                  30 min to 1h  \n",
              "10  A few times (once or twice)                1  Instantly - less than 15 min  \n",
              "11                        Never                0                  15 to 30 min  \n",
              "12  Often (three or four times)                2                  15 to 30 min  \n",
              "13  A few times (once or twice)                0  Instantly - less than 15 min  \n",
              "14  A few times (once or twice)                2                  15 to 30 min  \n",
              "15  A few times (once or twice)                1  Instantly - less than 15 min  "
            ]
          },
          "metadata": {},
          "execution_count": 401
        }
      ]
    },
    {
      "cell_type": "markdown",
      "source": [
        "# **Checks**"
      ],
      "metadata": {
        "id": "r8afEq7zQWxC"
      }
    },
    {
      "cell_type": "code",
      "source": [
        "email_week1 = df[\"email\"].tolist()  \n",
        "email_week2 = df2[\"email\"].tolist()\n",
        "email_week1 = [each_string.lower() for each_string in email_week1]\n",
        "email_week2 = [each_string.lower() for each_string in email_week2]\n",
        "checkslist = email_week1 + email_week2\n",
        "for i in checkslist:\n",
        "  if checkslist.count(i) != 2:\n",
        "    checkslist.remove(i)\n",
        "checkslist"
      ],
      "metadata": {
        "colab": {
          "base_uri": "https://localhost:8080/"
        },
        "id": "i3BpOU0IQjYB",
        "outputId": "445db79d-e1fb-47e1-835d-17cdf0c2e342"
      },
      "execution_count": null,
      "outputs": [
        {
          "output_type": "execute_result",
          "data": {
            "text/plain": [
              "['lorenzocolombo1998@gmail.com',\n",
              " 'marie.gareau99@gmail.com',\n",
              " 'alexandre@glastra.fr',\n",
              " 'delphine.ly99@gmail.com',\n",
              " 'tania.tyczynski@gmail.com',\n",
              " 'valentine.brasseur4@gmail.com',\n",
              " 'carla.tousmayol@cri-paris.org',\n",
              " 'nssaveleva@mail.ru',\n",
              " 'wilschneider07@gmail.com',\n",
              " 'lisha.ling@cri-paris.org',\n",
              " 'hippolyte.aubertin@cri-paris.org',\n",
              " 'camille.masanet@cri-paris.org',\n",
              " 'mariana.anaya@cri-paris.org',\n",
              " 'laurine.lachkar@cri-paris.org',\n",
              " 'mariatou.drame@cri-paris.org',\n",
              " 'samantha.hurtado@cri-paris.org',\n",
              " 'valentine.brasseur4@gmail.com',\n",
              " 'samantha.hurtado@cri-paris.org',\n",
              " 'lorenzocolombo1998@gmail.com',\n",
              " 'wilschneider07@gmail.com',\n",
              " 'tania.tyczynski@gmail.com',\n",
              " 'hippolyte.aubertin@cri-paris.org',\n",
              " 'mariatou.drame@cri-paris.org',\n",
              " 'delphine.ly99@gmail.com',\n",
              " 'lisha.ling@cri-paris.org',\n",
              " 'nssaveleva@mail.ru',\n",
              " 'mariana.anaya@cri-paris.org',\n",
              " 'laurine.lachkar@cri-paris.org',\n",
              " 'camille.masanet@cri-paris.org']"
            ]
          },
          "metadata": {},
          "execution_count": 402
        }
      ]
    },
    {
      "cell_type": "markdown",
      "source": [
        "# **Sleep Quality**"
      ],
      "metadata": {
        "id": "_5EfNKagZ3Gv"
      }
    },
    {
      "cell_type": "code",
      "source": [
        "# # For main survey sleeping quality score.\n",
        "# def f_sleep_hour(datafr):\n",
        "#     datafr['time_to_bed']= datafr['time_to_bed'].astype('datetime64[ns]').format(time.hour, time.minute)\n",
        "#     datafr['wake_time']= datafr['time_to_bed'].astype('datetime64[ns]').format(time.hour, time.minute)\n",
        "#     datafr['hours_of_sleep'] =  datafr['wake_time']- datafr['time_to_bed'] \n",
        "#     # df['Date'] = df['Date'].astype('datetime64[ns]')"
      ],
      "metadata": {
        "id": "7bvwN8IQZ-2p"
      },
      "execution_count": null,
      "outputs": []
    },
    {
      "cell_type": "code",
      "source": [
        "# f_sleep_hour(df)\n"
      ],
      "metadata": {
        "id": "IYMrPfPmaTcb"
      },
      "execution_count": null,
      "outputs": []
    },
    {
      "cell_type": "code",
      "source": [
        "df.head(2)"
      ],
      "metadata": {
        "colab": {
          "base_uri": "https://localhost:8080/",
          "height": 211
        },
        "id": "TrnyTtv6dmMU",
        "outputId": "930573ea-0d88-417f-b9c5-36ebc2a2cf93"
      },
      "execution_count": null,
      "outputs": [
        {
          "output_type": "execute_result",
          "data": {
            "text/html": [
              "<div>\n",
              "<style scoped>\n",
              "    .dataframe tbody tr th:only-of-type {\n",
              "        vertical-align: middle;\n",
              "    }\n",
              "\n",
              "    .dataframe tbody tr th {\n",
              "        vertical-align: top;\n",
              "    }\n",
              "\n",
              "    .dataframe thead th {\n",
              "        text-align: right;\n",
              "    }\n",
              "</style>\n",
              "<table border=\"1\" class=\"dataframe\">\n",
              "  <thead>\n",
              "    <tr style=\"text-align: right;\">\n",
              "      <th></th>\n",
              "      <th>email</th>\n",
              "      <th>in_france</th>\n",
              "      <th>courses_in_france</th>\n",
              "      <th>status</th>\n",
              "      <th>cri_student</th>\n",
              "      <th>age</th>\n",
              "      <th>gender</th>\n",
              "      <th>alone</th>\n",
              "      <th>have_pet</th>\n",
              "      <th>time_outside</th>\n",
              "      <th>meeting_friends</th>\n",
              "      <th>screen_time</th>\n",
              "      <th>time_to_bed</th>\n",
              "      <th>wake_time</th>\n",
              "      <th>stress_level</th>\n",
              "      <th>wake_sleep_time</th>\n",
              "      <th>time_fall_asleep</th>\n",
              "    </tr>\n",
              "  </thead>\n",
              "  <tbody>\n",
              "    <tr>\n",
              "      <th>3</th>\n",
              "      <td>lorenzocolombo1998@gmail.com</td>\n",
              "      <td>Yes / Oui</td>\n",
              "      <td>Yes / Oui</td>\n",
              "      <td>Master</td>\n",
              "      <td>No / Non</td>\n",
              "      <td>23 - 27</td>\n",
              "      <td>Male / Homme</td>\n",
              "      <td>No / Non</td>\n",
              "      <td>No / Non</td>\n",
              "      <td>10</td>\n",
              "      <td>3</td>\n",
              "      <td>6</td>\n",
              "      <td>23:30</td>\n",
              "      <td>07:30</td>\n",
              "      <td>Everyday / Tous les jours</td>\n",
              "      <td>1</td>\n",
              "      <td>15 to 30 min / De 15 à 30 minutes</td>\n",
              "    </tr>\n",
              "    <tr>\n",
              "      <th>4</th>\n",
              "      <td>fannylemant@yahoo.fr</td>\n",
              "      <td>Yes / Oui</td>\n",
              "      <td>Yes / Oui</td>\n",
              "      <td>Master</td>\n",
              "      <td>No / Non</td>\n",
              "      <td>18 - 22</td>\n",
              "      <td>Female / Femme</td>\n",
              "      <td>No / Non</td>\n",
              "      <td>Yes and it doesn't require to go out / Oui, un...</td>\n",
              "      <td>15</td>\n",
              "      <td>6</td>\n",
              "      <td>3</td>\n",
              "      <td>00:00</td>\n",
              "      <td>07:00</td>\n",
              "      <td>A few times (once or twice) / Quelques fois (u...</td>\n",
              "      <td>1</td>\n",
              "      <td>Instantly - less than 15 min / Instantanément ...</td>\n",
              "    </tr>\n",
              "  </tbody>\n",
              "</table>\n",
              "</div>"
            ],
            "text/plain": [
              "                          email  in_france courses_in_france  status  \\\n",
              "3  lorenzocolombo1998@gmail.com  Yes / Oui         Yes / Oui  Master   \n",
              "4          fannylemant@yahoo.fr  Yes / Oui         Yes / Oui  Master   \n",
              "\n",
              "  cri_student      age          gender     alone  \\\n",
              "3    No / Non  23 - 27    Male / Homme  No / Non   \n",
              "4    No / Non  18 - 22  Female / Femme  No / Non   \n",
              "\n",
              "                                            have_pet  time_outside  \\\n",
              "3                                           No / Non            10   \n",
              "4  Yes and it doesn't require to go out / Oui, un...            15   \n",
              "\n",
              "   meeting_friends  screen_time time_to_bed wake_time  \\\n",
              "3                3            6       23:30     07:30   \n",
              "4                6            3       00:00     07:00   \n",
              "\n",
              "                                        stress_level  wake_sleep_time  \\\n",
              "3                          Everyday / Tous les jours                1   \n",
              "4  A few times (once or twice) / Quelques fois (u...                1   \n",
              "\n",
              "                                    time_fall_asleep  \n",
              "3                  15 to 30 min / De 15 à 30 minutes  \n",
              "4  Instantly - less than 15 min / Instantanément ...  "
            ]
          },
          "metadata": {},
          "execution_count": 405
        }
      ]
    },
    {
      "cell_type": "code",
      "source": [
        "df['sleeping_quality_score'] = 0\n",
        "for index, row in df.iterrows():\n",
        "    if row['time_fall_asleep'] == '15 to 30 min / De 15 à 30 minutes':\n",
        "        row['sleeping_quality_score'] += 1\n",
        "        df.at[index,'sleeping_quality_score'] = row['sleeping_quality_score']\n",
        "    elif  row['time_fall_asleep'] == '30 min to 1h / De 30 minutes à 1h':\n",
        "        row['sleeping_quality_score'] += 2\n",
        "        df.at[index,'sleeping_quality_score'] = row['sleeping_quality_score']\n",
        "    elif  row['time_fall_asleep'] == \"More than 1h / Plus d'1h\":\n",
        "        row['sleeping_quality_score'] += 3\n",
        "        df.at[index,'sleeping_quality_score'] = row['sleeping_quality_score']\n",
        "        \n",
        "    # if row['hours_of_sleep']<7 and row['hours_of_sleep']>=6 :\n",
        "    #     row['sleeping_quality_score'] += 1\n",
        "    #     df.at[index,'sleeping_quality_score'] = row['sleeping_quality_score']\n",
        "    # elif row['hours_of_sleep']<6 and row['hours_of_sleep']>=5 :\n",
        "    #     row['sleeping_quality_score'] += 2\n",
        "    #     df.at[index,'sleeping_quality_score'] = row['sleeping_quality_score']\n",
        "    # elif row['hours_of_sleep']<5 :\n",
        "    #     row['sleeping_quality_score'] += 3\n",
        "    #     df.at[index,'sleeping_quality_score'] = row['sleeping_quality_score']\n",
        "\n",
        "    # if row['times_of_wake']==2:\n",
        "    #     row['sleeping_quality_score'] += 1\n",
        "    #     df.at[index,'sleeping_quality_score'] = row['sleeping_quality_score']\n",
        "    # elif row['times_of_wake']==3:\n",
        "    #     row['sleeping_quality_score'] += 2\n",
        "    #     df.at[index,'sleeping_quality_score'] = row['sleeping_quality_score']\n",
        "    # elif row['times_of_wake']>=4:\n",
        "    #     row['sleeping_quality_score'] += 3\n",
        "    #     df.at[index,'sleeping_quality_score'] = row['sleeping_quality_score']"
      ],
      "metadata": {
        "id": "N6dabiKNSlsf"
      },
      "execution_count": null,
      "outputs": []
    },
    {
      "cell_type": "code",
      "source": [
        "df['sleeping_quality_score'].head()"
      ],
      "metadata": {
        "colab": {
          "base_uri": "https://localhost:8080/"
        },
        "id": "kBG0xPLnT4xa",
        "outputId": "881c9f41-65c1-465a-9800-bba3d091e9fe"
      },
      "execution_count": null,
      "outputs": [
        {
          "output_type": "execute_result",
          "data": {
            "text/plain": [
              "3    1\n",
              "4    0\n",
              "5    0\n",
              "6    0\n",
              "8    1\n",
              "Name: sleeping_quality_score, dtype: int64"
            ]
          },
          "metadata": {},
          "execution_count": 407
        }
      ]
    },
    {
      "cell_type": "markdown",
      "source": [
        "# **Assigning score to the sleep pramateres (Weekly Surveys)**"
      ],
      "metadata": {
        "id": "c5awVOTnUG25"
      }
    },
    {
      "cell_type": "code",
      "source": [
        "def get_sleeping_quality_score(df):\n",
        "\n",
        "    df['sleeping_quality_score'] = 0\n",
        "    for index, row in df.iterrows():\n",
        "        if row['time_fall_asleep'] == '15 to 30 min':\n",
        "            row['sleeping_quality_score'] += 1\n",
        "            df.at[index,'sleeping_quality_score'] = row['sleeping_quality_score']\n",
        "        elif  row['time_fall_asleep'] == '30 min to 1h':\n",
        "            row['sleeping_quality_score'] += 2\n",
        "            df.at[index,'sleeping_quality_score'] = row['sleeping_quality_score']\n",
        "        elif  row['time_fall_asleep'] == \"More than 1h\":\n",
        "            row['sleeping_quality_score'] += 3\n",
        "            df.at[index,'sleeping_quality_score'] = row['sleeping_quality_score']\n",
        "            \n",
        "        # if row['hours_of_sleep']<7 and row['hours_of_sleep']>=6 :\n",
        "        #     row['sleeping_quality_score'] += 1\n",
        "        #     df.at[index,'sleeping_quality_score'] = row['sleeping_quality_score']\n",
        "        # elif row['hours_of_sleep']<6 and row['hours_of_sleep']>=5 :\n",
        "        #     row['sleeping_quality_score'] += 2\n",
        "        #     df.at[index,'sleeping_quality_score'] = row['sleeping_quality_score']\n",
        "        # elif row['hours_of_sleep']<5 :\n",
        "        #     row['sleeping_quality_score'] += 3\n",
        "        #     df.at[index,'sleeping_quality_score'] = row['sleeping_quality_score']\n",
        "\n",
        "        # if row['times_of_wake']==2:\n",
        "        #     row['sleeping_quality_score'] += 1\n",
        "        #     df.at[index,'sleeping_quality_score'] = row['sleeping_quality_score']\n",
        "        # elif row['times_of_wake']==3:\n",
        "        #     row['sleeping_quality_score'] += 2\n",
        "        #     df.at[index,'sleeping_quality_score'] = row['sleeping_quality_score']\n",
        "        # elif row['times_of_wake']>=4:\n",
        "        #     row['sleeping_quality_score'] += 3\n",
        "        #     df.at[index,'sleeping_quality_score'] = row['sleeping_quality_score']"
      ],
      "metadata": {
        "id": "vLfdrQXiUOHp"
      },
      "execution_count": null,
      "outputs": []
    },
    {
      "cell_type": "markdown",
      "metadata": {
        "id": "4vwVplYOw-3Y"
      },
      "source": [
        "# **Data Visualizations and Explanations**"
      ]
    },
    {
      "cell_type": "code",
      "source": [
        "# Bar Plot Fucntion\n",
        "def ratio(column,color):\n",
        "    print('Percentage Ratio:')\n",
        "    print(df[column].value_counts(normalize=True) * 100)\n",
        "    gen = df[column].value_counts().plot(kind='bar',color= color, alpha=0.6)\n",
        "    gen.set_ylabel('Participant Count')\n",
        "    gen.set_title(column.capitalize()+' Ratio')\n",
        "    plt.grid(color='#95a5a6', linestyle='--', linewidth=2, axis='y', alpha=0.7)"
      ],
      "metadata": {
        "id": "RGQhCvUSVfv0"
      },
      "execution_count": null,
      "outputs": []
    },
    {
      "cell_type": "code",
      "source": [
        "def ratio_pie(column):\n",
        "    gen = df[column].value_counts().plot(kind='pie',y = column.capitalize(),autopct='%1.1f%%',fontsize=12,wedgeprops={'alpha':0.7},legend = False)\n",
        "    plt.show()"
      ],
      "metadata": {
        "id": "3NRLgg-VVkFy"
      },
      "execution_count": null,
      "outputs": []
    },
    {
      "cell_type": "markdown",
      "source": [
        "> **Question 1** : general"
      ],
      "metadata": {
        "id": "bwgq9j5vWkHT"
      }
    },
    {
      "cell_type": "code",
      "source": [
        "ratio_pie('gender')"
      ],
      "metadata": {
        "colab": {
          "base_uri": "https://localhost:8080/",
          "height": 247
        },
        "id": "eIoPgYtCVpfU",
        "outputId": "5679f0fd-a99d-4ee4-9af1-294326caea88"
      },
      "execution_count": null,
      "outputs": [
        {
          "output_type": "display_data",
          "data": {
            "image/png": "[encoded data removed]",
            "text/plain": [
              "<Figure size 432x288 with 1 Axes>"
            ]
          },
          "metadata": {}
        }
      ]
    },
    {
      "cell_type": "code",
      "source": [
        "ratio_pie('age')"
      ],
      "metadata": {
        "colab": {
          "base_uri": "https://localhost:8080/",
          "height": 247
        },
        "id": "vASwjIagVwww",
        "outputId": "0e007b28-9ceb-4561-ddae-384dd942ba1d"
      },
      "execution_count": null,
      "outputs": [
        {
          "output_type": "display_data",
          "data": {
            "image/png": "[encoded data removed]",
            "text/plain": [
              "<Figure size 432x288 with 1 Axes>"
            ]
          },
          "metadata": {}
        }
      ]
    },
    {
      "cell_type": "code",
      "source": [
        "ratio_pie('status')"
      ],
      "metadata": {
        "colab": {
          "base_uri": "https://localhost:8080/",
          "height": 247
        },
        "id": "Nj-EiPCnV0CE",
        "outputId": "af37e948-3651-4dec-b91a-ab8aa55b552a"
      },
      "execution_count": null,
      "outputs": [
        {
          "output_type": "display_data",
          "data": {
            "image/png": "[encoded data removed]",
            "text/plain": [
              "<Figure size 432x288 with 1 Axes>"
            ]
          },
          "metadata": {}
        }
      ]
    },
    {
      "cell_type": "code",
      "source": [
        "ratio_pie('cri_student')"
      ],
      "metadata": {
        "colab": {
          "base_uri": "https://localhost:8080/",
          "height": 247
        },
        "id": "PRo3l8v_V_5p",
        "outputId": "08da7e85-b2ee-424b-dc9b-8d40abd0f36f"
      },
      "execution_count": null,
      "outputs": [
        {
          "output_type": "display_data",
          "data": {
            "image/png": "[encoded data removed]",
            "text/plain": [
              "<Figure size 432x288 with 1 Axes>"
            ]
          },
          "metadata": {}
        }
      ]
    },
    {
      "cell_type": "code",
      "source": [
        "ratio('gender','royalblue')"
      ],
      "metadata": {
        "colab": {
          "base_uri": "https://localhost:8080/",
          "height": 584
        },
        "id": "Z382Yk17WCS7",
        "outputId": "31db5fba-e48d-4a74-eb16-9e2adc251a31"
      },
      "execution_count": null,
      "outputs": [
        {
          "output_type": "stream",
          "name": "stdout",
          "text": [
            "Percentage Ratio:\n",
            "Female / Femme                                     66.666667\n",
            "Male / Homme                                       29.166667\n",
            "Prefer not to say / Préfère ne pas se prononcer     4.166667\n",
            "Name: gender, dtype: float64\n"
          ]
        },
        {
          "output_type": "display_data",
          "data": {
            "image/png": "[encoded data removed]",
            "text/plain": [
              "<Figure size 432x288 with 1 Axes>"
            ]
          },
          "metadata": {
            "needs_background": "light"
          }
        }
      ]
    },
    {
      "cell_type": "code",
      "source": [
        "ratio('status','red')"
      ],
      "metadata": {
        "colab": {
          "base_uri": "https://localhost:8080/",
          "height": 500
        },
        "id": "BSQU9yY3WMSA",
        "outputId": "b08d4ed9-e157-44c3-e444-38a00d7a01c3"
      },
      "execution_count": null,
      "outputs": [
        {
          "output_type": "stream",
          "name": "stdout",
          "text": [
            "Percentage Ratio:\n",
            "Master                    50.000000\n",
            "Bachelor / Licence        33.333333\n",
            "PhD / Doctorat            12.500000\n",
            "6ème année de médecine     4.166667\n",
            "Name: status, dtype: float64\n"
          ]
        },
        {
          "output_type": "display_data",
          "data": {
            "image/png": "[encoded data removed]",
            "text/plain": [
              "<Figure size 432x288 with 1 Axes>"
            ]
          },
          "metadata": {
            "needs_background": "light"
          }
        }
      ]
    },
    {
      "cell_type": "code",
      "source": [
        "ratio('cri_student','yellowgreen')"
      ],
      "metadata": {
        "colab": {
          "base_uri": "https://localhost:8080/",
          "height": 378
        },
        "id": "roeaOKmYWTg2",
        "outputId": "7a190cce-3f3f-4c5f-e3e2-f40c774f6cc0"
      },
      "execution_count": null,
      "outputs": [
        {
          "output_type": "stream",
          "name": "stdout",
          "text": [
            "Percentage Ratio:\n",
            "Yes / Oui    50.0\n",
            "No / Non     50.0\n",
            "Name: cri_student, dtype: float64\n"
          ]
        },
        {
          "output_type": "display_data",
          "data": {
            "image/png": "[encoded data removed]",
            "text/plain": [
              "<Figure size 432x288 with 1 Axes>"
            ]
          },
          "metadata": {
            "needs_background": "light"
          }
        }
      ]
    },
    {
      "cell_type": "code",
      "source": [
        "ratio('age','green')"
      ],
      "metadata": {
        "colab": {
          "base_uri": "https://localhost:8080/",
          "height": 404
        },
        "id": "ZRNpKfnyWbsg",
        "outputId": "82cffb6c-24c2-474b-87c7-d4bc0f0308c9"
      },
      "execution_count": null,
      "outputs": [
        {
          "output_type": "stream",
          "name": "stdout",
          "text": [
            "Percentage Ratio:\n",
            "18 - 22    58.333333\n",
            "23 - 27    29.166667\n",
            ">30         8.333333\n",
            "<18         4.166667\n",
            "Name: age, dtype: float64\n"
          ]
        },
        {
          "output_type": "display_data",
          "data": {
            "image/png": "[encoded data removed]",
            "text/plain": [
              "<Figure size 432x288 with 1 Axes>"
            ]
          },
          "metadata": {
            "needs_background": "light"
          }
        }
      ]
    },
    {
      "cell_type": "markdown",
      "source": [
        "> **Question 2** : What is the average sleep quality score of those who are exposed to daily stress?"
      ],
      "metadata": {
        "id": "7JcoiPWDWoBi"
      }
    },
    {
      "cell_type": "code",
      "source": [
        "df.sort_index(inplace=True)"
      ],
      "metadata": {
        "id": "QwjDY_Z5WqqN"
      },
      "execution_count": null,
      "outputs": []
    },
    {
      "cell_type": "code",
      "source": [
        "df['avg_score'] = df['sleeping_quality_score']/1"
      ],
      "metadata": {
        "id": "l_crOAktXUA3"
      },
      "execution_count": null,
      "outputs": []
    },
    {
      "cell_type": "code",
      "source": [
        "s_avg_score = df.loc[df['stress_level']== 'Everyday / Tous les jours']"
      ],
      "metadata": {
        "id": "ONC0fhMWXjxT"
      },
      "execution_count": null,
      "outputs": []
    },
    {
      "cell_type": "code",
      "source": [
        "sq_with_stress = round(s_avg_score['avg_score'].mean())\n"
      ],
      "metadata": {
        "id": "ZopuF9zfXn2x"
      },
      "execution_count": null,
      "outputs": []
    },
    {
      "cell_type": "code",
      "source": [
        "perc_st = 100-(((sq_with_stress/9)*100))\n",
        "print('Sleeping quality averege percentage who got stress everyday: %'+ str(perc_st) )"
      ],
      "metadata": {
        "colab": {
          "base_uri": "https://localhost:8080/"
        },
        "id": "BUcAMSMDXzAm",
        "outputId": "b9fc8715-1d7a-490d-e054-b926f81e0759"
      },
      "execution_count": null,
      "outputs": [
        {
          "output_type": "stream",
          "name": "stdout",
          "text": [
            "Sleeping quality averege percentage who got stress everyday: %88.88888888888889\n"
          ]
        }
      ]
    },
    {
      "cell_type": "markdown",
      "source": [
        "Question3 : What is the distribution of average sleeping quality score(%)?"
      ],
      "metadata": {
        "id": "agj_GKTbYP8D"
      }
    },
    {
      "cell_type": "code",
      "source": [
        "df['avg_score_perc'] = 100-((df['avg_score']/9)*100)\n",
        "df['avg_score_perc'].head()"
      ],
      "metadata": {
        "colab": {
          "base_uri": "https://localhost:8080/"
        },
        "id": "-zh3IJHSYTq_",
        "outputId": "b66fc09b-da95-445d-c6d4-50d15aaf63e6"
      },
      "execution_count": null,
      "outputs": [
        {
          "output_type": "execute_result",
          "data": {
            "text/plain": [
              "3     88.888889\n",
              "4    100.000000\n",
              "5    100.000000\n",
              "6    100.000000\n",
              "8     88.888889\n",
              "Name: avg_score_perc, dtype: float64"
            ]
          },
          "metadata": {},
          "execution_count": 425
        }
      ]
    },
    {
      "cell_type": "code",
      "source": [
        "plt.figure(figsize=(8,5), dpi = 100)\n",
        "plt.xlabel('Participants in general', fontsize = 10)\n",
        "plt.ylabel('Average Sleeping Quality Score Percentage (%)', fontsize=10)\n",
        "plt.title('Distribution', fontsize=13)\n",
        "plt.plot(sorted(df['avg_score_perc']))\n",
        "plt.xticks([])\n",
        "plt.show()"
      ],
      "metadata": {
        "colab": {
          "base_uri": "https://localhost:8080/",
          "height": 447
        },
        "id": "8xvgd_69YaFw",
        "outputId": "931e546b-81df-46ca-a97b-34dc0a73dd8f"
      },
      "execution_count": null,
      "outputs": [
        {
          "output_type": "display_data",
          "data": {
            "image/png": "[encoded data removed]",
            "text/plain": [
              "<Figure size 800x500 with 1 Axes>"
            ]
          },
          "metadata": {
            "needs_background": "light"
          }
        }
      ]
    },
    {
      "cell_type": "code",
      "source": [
        "df.drop(df.index[df['status'] == '6ème année de médecine'], inplace = True)\n"
      ],
      "metadata": {
        "id": "StqQmqU2f3EU"
      },
      "execution_count": null,
      "outputs": []
    },
    {
      "cell_type": "markdown",
      "source": [
        "Question 4 : What is the corrolation between parameters and sleeping quality?"
      ],
      "metadata": {
        "id": "WUUVUxmCYk5d"
      }
    },
    {
      "cell_type": "code",
      "source": [
        "# To not change our intial data set  which is all string and orginal we will copy our dataset for chnage numerical values\n",
        "df_numeric =  df.copy()\n",
        "df_numeric"
      ],
      "metadata": {
        "colab": {
          "base_uri": "https://localhost:8080/",
          "height": 1000
        },
        "id": "5cuGcSAiYlom",
        "outputId": "6b7dc1b1-3b38-4b0a-a574-2aef9e59a8cc"
      },
      "execution_count": null,
      "outputs": [
        {
          "output_type": "execute_result",
          "data": {
            "text/html": [
              "<div>\n",
              "<style scoped>\n",
              "    .dataframe tbody tr th:only-of-type {\n",
              "        vertical-align: middle;\n",
              "    }\n",
              "\n",
              "    .dataframe tbody tr th {\n",
              "        vertical-align: top;\n",
              "    }\n",
              "\n",
              "    .dataframe thead th {\n",
              "        text-align: right;\n",
              "    }\n",
              "</style>\n",
              "<table border=\"1\" class=\"dataframe\">\n",
              "  <thead>\n",
              "    <tr style=\"text-align: right;\">\n",
              "      <th></th>\n",
              "      <th>email</th>\n",
              "      <th>in_france</th>\n",
              "      <th>courses_in_france</th>\n",
              "      <th>status</th>\n",
              "      <th>cri_student</th>\n",
              "      <th>age</th>\n",
              "      <th>gender</th>\n",
              "      <th>alone</th>\n",
              "      <th>have_pet</th>\n",
              "      <th>time_outside</th>\n",
              "      <th>meeting_friends</th>\n",
              "      <th>screen_time</th>\n",
              "      <th>time_to_bed</th>\n",
              "      <th>wake_time</th>\n",
              "      <th>stress_level</th>\n",
              "      <th>wake_sleep_time</th>\n",
              "      <th>time_fall_asleep</th>\n",
              "      <th>sleeping_quality_score</th>\n",
              "      <th>avg_score</th>\n",
              "      <th>avg_score_perc</th>\n",
              "    </tr>\n",
              "  </thead>\n",
              "  <tbody>\n",
              "    <tr>\n",
              "      <th>3</th>\n",
              "      <td>lorenzocolombo1998@gmail.com</td>\n",
              "      <td>Yes / Oui</td>\n",
              "      <td>Yes / Oui</td>\n",
              "      <td>Master</td>\n",
              "      <td>No / Non</td>\n",
              "      <td>23 - 27</td>\n",
              "      <td>Male / Homme</td>\n",
              "      <td>No / Non</td>\n",
              "      <td>No / Non</td>\n",
              "      <td>10</td>\n",
              "      <td>3</td>\n",
              "      <td>6</td>\n",
              "      <td>23:30</td>\n",
              "      <td>07:30</td>\n",
              "      <td>Everyday / Tous les jours</td>\n",
              "      <td>1</td>\n",
              "      <td>15 to 30 min / De 15 à 30 minutes</td>\n",
              "      <td>1</td>\n",
              "      <td>1.0</td>\n",
              "      <td>88.888889</td>\n",
              "    </tr>\n",
              "    <tr>\n",
              "      <th>4</th>\n",
              "      <td>fannylemant@yahoo.fr</td>\n",
              "      <td>Yes / Oui</td>\n",
              "      <td>Yes / Oui</td>\n",
              "      <td>Master</td>\n",
              "      <td>No / Non</td>\n",
              "      <td>18 - 22</td>\n",
              "      <td>Female / Femme</td>\n",
              "      <td>No / Non</td>\n",
              "      <td>Yes and it doesn't require to go out / Oui, un...</td>\n",
              "      <td>15</td>\n",
              "      <td>6</td>\n",
              "      <td>3</td>\n",
              "      <td>00:00</td>\n",
              "      <td>07:00</td>\n",
              "      <td>A few times (once or twice) / Quelques fois (u...</td>\n",
              "      <td>1</td>\n",
              "      <td>Instantly - less than 15 min / Instantanément ...</td>\n",
              "      <td>0</td>\n",
              "      <td>0.0</td>\n",
              "      <td>100.000000</td>\n",
              "    </tr>\n",
              "    <tr>\n",
              "      <th>5</th>\n",
              "      <td>marie.gareau99@gmail.com</td>\n",
              "      <td>Yes / Oui</td>\n",
              "      <td>Yes / Oui</td>\n",
              "      <td>Bachelor / Licence</td>\n",
              "      <td>No / Non</td>\n",
              "      <td>18 - 22</td>\n",
              "      <td>Female / Femme</td>\n",
              "      <td>No / Non</td>\n",
              "      <td>No / Non</td>\n",
              "      <td>2</td>\n",
              "      <td>7</td>\n",
              "      <td>4</td>\n",
              "      <td>23:30</td>\n",
              "      <td>07:00</td>\n",
              "      <td>A few times (once or twice) / Quelques fois (u...</td>\n",
              "      <td>0</td>\n",
              "      <td>Instantly - less than 15 min / Instantanément ...</td>\n",
              "      <td>0</td>\n",
              "      <td>0.0</td>\n",
              "      <td>100.000000</td>\n",
              "    </tr>\n",
              "    <tr>\n",
              "      <th>6</th>\n",
              "      <td>nathan.finance@hotmail.fr</td>\n",
              "      <td>Yes / Oui</td>\n",
              "      <td>Yes / Oui</td>\n",
              "      <td>Master</td>\n",
              "      <td>No / Non</td>\n",
              "      <td>18 - 22</td>\n",
              "      <td>Male / Homme</td>\n",
              "      <td>Yes / Oui</td>\n",
              "      <td>No / Non</td>\n",
              "      <td>10</td>\n",
              "      <td>7</td>\n",
              "      <td>10</td>\n",
              "      <td>12:30</td>\n",
              "      <td>07:00</td>\n",
              "      <td>Often (three or four times) / Souvent (trois o...</td>\n",
              "      <td>2</td>\n",
              "      <td>Instantly - less than 15 min / Instantanément ...</td>\n",
              "      <td>0</td>\n",
              "      <td>0.0</td>\n",
              "      <td>100.000000</td>\n",
              "    </tr>\n",
              "    <tr>\n",
              "      <th>8</th>\n",
              "      <td>alexandre@glastra.fr</td>\n",
              "      <td>Yes / Oui</td>\n",
              "      <td>Yes / Oui</td>\n",
              "      <td>Master</td>\n",
              "      <td>No / Non</td>\n",
              "      <td>18 - 22</td>\n",
              "      <td>Male / Homme</td>\n",
              "      <td>No / Non</td>\n",
              "      <td>No / Non</td>\n",
              "      <td>6</td>\n",
              "      <td>1</td>\n",
              "      <td>5</td>\n",
              "      <td>00:30</td>\n",
              "      <td>06:30</td>\n",
              "      <td>A few times (once or twice) / Quelques fois (u...</td>\n",
              "      <td>0</td>\n",
              "      <td>15 to 30 min / De 15 à 30 minutes</td>\n",
              "      <td>1</td>\n",
              "      <td>1.0</td>\n",
              "      <td>88.888889</td>\n",
              "    </tr>\n",
              "    <tr>\n",
              "      <th>9</th>\n",
              "      <td>prashamsakc2.0@gmail.com</td>\n",
              "      <td>Yes / Oui</td>\n",
              "      <td>Yes / Oui</td>\n",
              "      <td>Bachelor / Licence</td>\n",
              "      <td>No / Non</td>\n",
              "      <td>18 - 22</td>\n",
              "      <td>Female / Femme</td>\n",
              "      <td>No / Non</td>\n",
              "      <td>No / Non</td>\n",
              "      <td>10</td>\n",
              "      <td>4</td>\n",
              "      <td>5</td>\n",
              "      <td>00:00</td>\n",
              "      <td>09:00</td>\n",
              "      <td>A few times (once or twice) / Quelques fois (u...</td>\n",
              "      <td>1</td>\n",
              "      <td>More than 1h / Plus d'1h</td>\n",
              "      <td>3</td>\n",
              "      <td>3.0</td>\n",
              "      <td>66.666667</td>\n",
              "    </tr>\n",
              "    <tr>\n",
              "      <th>10</th>\n",
              "      <td>delphine.ly99@gmail.com</td>\n",
              "      <td>Yes / Oui</td>\n",
              "      <td>Yes / Oui</td>\n",
              "      <td>Master</td>\n",
              "      <td>No / Non</td>\n",
              "      <td>18 - 22</td>\n",
              "      <td>Female / Femme</td>\n",
              "      <td>No / Non</td>\n",
              "      <td>No / Non</td>\n",
              "      <td>1</td>\n",
              "      <td>1</td>\n",
              "      <td>8</td>\n",
              "      <td>22:45</td>\n",
              "      <td>07:00</td>\n",
              "      <td>A few times (once or twice) / Quelques fois (u...</td>\n",
              "      <td>0</td>\n",
              "      <td>Instantly - less than 15 min / Instantanément ...</td>\n",
              "      <td>0</td>\n",
              "      <td>0.0</td>\n",
              "      <td>100.000000</td>\n",
              "    </tr>\n",
              "    <tr>\n",
              "      <th>11</th>\n",
              "      <td>tania.tyczynski@gmail.com</td>\n",
              "      <td>Yes / Oui</td>\n",
              "      <td>Yes / Oui</td>\n",
              "      <td>Bachelor / Licence</td>\n",
              "      <td>No / Non</td>\n",
              "      <td>18 - 22</td>\n",
              "      <td>Female / Femme</td>\n",
              "      <td>Yes / Oui</td>\n",
              "      <td>No / Non</td>\n",
              "      <td>8</td>\n",
              "      <td>7</td>\n",
              "      <td>2</td>\n",
              "      <td>00:45</td>\n",
              "      <td>07:30</td>\n",
              "      <td>Often (three or four times) / Souvent (trois o...</td>\n",
              "      <td>0</td>\n",
              "      <td>Instantly - less than 15 min / Instantanément ...</td>\n",
              "      <td>0</td>\n",
              "      <td>0.0</td>\n",
              "      <td>100.000000</td>\n",
              "    </tr>\n",
              "    <tr>\n",
              "      <th>14</th>\n",
              "      <td>angele.payan@yahoo.com</td>\n",
              "      <td>Yes / Oui</td>\n",
              "      <td>Yes / Oui</td>\n",
              "      <td>Bachelor / Licence</td>\n",
              "      <td>No / Non</td>\n",
              "      <td>18 - 22</td>\n",
              "      <td>Female / Femme</td>\n",
              "      <td>No / Non</td>\n",
              "      <td>Yes and it requires to go out (e.g. dog) / Oui...</td>\n",
              "      <td>1</td>\n",
              "      <td>1</td>\n",
              "      <td>9</td>\n",
              "      <td>23:00</td>\n",
              "      <td>07:30</td>\n",
              "      <td>Everyday / Tous les jours</td>\n",
              "      <td>0</td>\n",
              "      <td>15 to 30 min / De 15 à 30 minutes</td>\n",
              "      <td>1</td>\n",
              "      <td>1.0</td>\n",
              "      <td>88.888889</td>\n",
              "    </tr>\n",
              "    <tr>\n",
              "      <th>16</th>\n",
              "      <td>valentine.brasseur4@gmail.com</td>\n",
              "      <td>Yes / Oui</td>\n",
              "      <td>Yes / Oui</td>\n",
              "      <td>Master</td>\n",
              "      <td>No / Non</td>\n",
              "      <td>18 - 22</td>\n",
              "      <td>Female / Femme</td>\n",
              "      <td>Yes / Oui</td>\n",
              "      <td>No / Non</td>\n",
              "      <td>1</td>\n",
              "      <td>7</td>\n",
              "      <td>9</td>\n",
              "      <td>01:15</td>\n",
              "      <td>07:30</td>\n",
              "      <td>Often (three or four times) / Souvent (trois o...</td>\n",
              "      <td>0</td>\n",
              "      <td>15 to 30 min / De 15 à 30 minutes</td>\n",
              "      <td>1</td>\n",
              "      <td>1.0</td>\n",
              "      <td>88.888889</td>\n",
              "    </tr>\n",
              "    <tr>\n",
              "      <th>19</th>\n",
              "      <td>tjf200094@gmail.com</td>\n",
              "      <td>Yes / Oui</td>\n",
              "      <td>Yes / Oui</td>\n",
              "      <td>Master</td>\n",
              "      <td>No / Non</td>\n",
              "      <td>18 - 22</td>\n",
              "      <td>Male / Homme</td>\n",
              "      <td>No / Non</td>\n",
              "      <td>Yes and it doesn't require to go out / Oui, un...</td>\n",
              "      <td>6</td>\n",
              "      <td>1</td>\n",
              "      <td>2</td>\n",
              "      <td>22:15</td>\n",
              "      <td>07:00</td>\n",
              "      <td>Often (three or four times) / Souvent (trois o...</td>\n",
              "      <td>4</td>\n",
              "      <td>15 to 30 min / De 15 à 30 minutes</td>\n",
              "      <td>1</td>\n",
              "      <td>1.0</td>\n",
              "      <td>88.888889</td>\n",
              "    </tr>\n",
              "    <tr>\n",
              "      <th>21</th>\n",
              "      <td>carla.tousmayol@cri-paris.org</td>\n",
              "      <td>Yes / Oui</td>\n",
              "      <td>Yes / Oui</td>\n",
              "      <td>PhD / Doctorat</td>\n",
              "      <td>Yes / Oui</td>\n",
              "      <td>23 - 27</td>\n",
              "      <td>Female / Femme</td>\n",
              "      <td>Yes / Oui</td>\n",
              "      <td>No / Non</td>\n",
              "      <td>9</td>\n",
              "      <td>5</td>\n",
              "      <td>3</td>\n",
              "      <td>12:00</td>\n",
              "      <td>08:00</td>\n",
              "      <td>Never / Jamais</td>\n",
              "      <td>0</td>\n",
              "      <td>Instantly - less than 15 min / Instantanément ...</td>\n",
              "      <td>0</td>\n",
              "      <td>0.0</td>\n",
              "      <td>100.000000</td>\n",
              "    </tr>\n",
              "    <tr>\n",
              "      <th>25</th>\n",
              "      <td>nssaveleva@mail.ru</td>\n",
              "      <td>Yes / Oui</td>\n",
              "      <td>Yes / Oui</td>\n",
              "      <td>Master</td>\n",
              "      <td>Yes / Oui</td>\n",
              "      <td>&gt;30</td>\n",
              "      <td>Female / Femme</td>\n",
              "      <td>No / Non</td>\n",
              "      <td>No / Non</td>\n",
              "      <td>6</td>\n",
              "      <td>5</td>\n",
              "      <td>8</td>\n",
              "      <td>01:30</td>\n",
              "      <td>07:00</td>\n",
              "      <td>Often (three or four times) / Souvent (trois o...</td>\n",
              "      <td>0</td>\n",
              "      <td>Instantly - less than 15 min / Instantanément ...</td>\n",
              "      <td>0</td>\n",
              "      <td>0.0</td>\n",
              "      <td>100.000000</td>\n",
              "    </tr>\n",
              "    <tr>\n",
              "      <th>28</th>\n",
              "      <td>lisha.ling@cri-paris.org</td>\n",
              "      <td>Yes / Oui</td>\n",
              "      <td>Yes / Oui</td>\n",
              "      <td>Master</td>\n",
              "      <td>Yes / Oui</td>\n",
              "      <td>&gt;30</td>\n",
              "      <td>Female / Femme</td>\n",
              "      <td>No / Non</td>\n",
              "      <td>No / Non</td>\n",
              "      <td>1</td>\n",
              "      <td>1</td>\n",
              "      <td>7</td>\n",
              "      <td>00:30</td>\n",
              "      <td>07:30</td>\n",
              "      <td>Often (three or four times) / Souvent (trois o...</td>\n",
              "      <td>2</td>\n",
              "      <td>30 min to 1h / De 30 minutes à 1h</td>\n",
              "      <td>2</td>\n",
              "      <td>2.0</td>\n",
              "      <td>77.777778</td>\n",
              "    </tr>\n",
              "    <tr>\n",
              "      <th>29</th>\n",
              "      <td>anqi.zhou@cri-paris.org</td>\n",
              "      <td>Yes / Oui</td>\n",
              "      <td>Yes / Oui</td>\n",
              "      <td>PhD / Doctorat</td>\n",
              "      <td>Yes / Oui</td>\n",
              "      <td>23 - 27</td>\n",
              "      <td>Female / Femme</td>\n",
              "      <td>No / Non</td>\n",
              "      <td>Yes and it requires to go out (e.g. dog) / Oui...</td>\n",
              "      <td>2</td>\n",
              "      <td>3</td>\n",
              "      <td>8</td>\n",
              "      <td>23:30</td>\n",
              "      <td>08:30</td>\n",
              "      <td>Often (three or four times) / Souvent (trois o...</td>\n",
              "      <td>1</td>\n",
              "      <td>30 min to 1h / De 30 minutes à 1h</td>\n",
              "      <td>2</td>\n",
              "      <td>2.0</td>\n",
              "      <td>77.777778</td>\n",
              "    </tr>\n",
              "    <tr>\n",
              "      <th>32</th>\n",
              "      <td>hippolyte.aubertin@cri-paris.org</td>\n",
              "      <td>Yes / Oui</td>\n",
              "      <td>Yes / Oui</td>\n",
              "      <td>Bachelor / Licence</td>\n",
              "      <td>Yes / Oui</td>\n",
              "      <td>&lt;18</td>\n",
              "      <td>Male / Homme</td>\n",
              "      <td>Yes / Oui</td>\n",
              "      <td>No / Non</td>\n",
              "      <td>1</td>\n",
              "      <td>7</td>\n",
              "      <td>10</td>\n",
              "      <td>12:00</td>\n",
              "      <td>07:30</td>\n",
              "      <td>Never / Jamais</td>\n",
              "      <td>2</td>\n",
              "      <td>15 to 30 min / De 15 à 30 minutes</td>\n",
              "      <td>1</td>\n",
              "      <td>1.0</td>\n",
              "      <td>88.888889</td>\n",
              "    </tr>\n",
              "    <tr>\n",
              "      <th>34</th>\n",
              "      <td>camille.masanet@cri-paris.org</td>\n",
              "      <td>Yes / Oui</td>\n",
              "      <td>Yes / Oui</td>\n",
              "      <td>Bachelor / Licence</td>\n",
              "      <td>Yes / Oui</td>\n",
              "      <td>18 - 22</td>\n",
              "      <td>Female / Femme</td>\n",
              "      <td>No / Non</td>\n",
              "      <td>Yes and it doesn't require to go out / Oui, un...</td>\n",
              "      <td>3</td>\n",
              "      <td>7</td>\n",
              "      <td>7</td>\n",
              "      <td>23:00</td>\n",
              "      <td>06:50</td>\n",
              "      <td>Often (three or four times) / Souvent (trois o...</td>\n",
              "      <td>0</td>\n",
              "      <td>15 to 30 min / De 15 à 30 minutes</td>\n",
              "      <td>1</td>\n",
              "      <td>1.0</td>\n",
              "      <td>88.888889</td>\n",
              "    </tr>\n",
              "    <tr>\n",
              "      <th>40</th>\n",
              "      <td>mariana.anaya@cri-paris.org</td>\n",
              "      <td>Yes / Oui</td>\n",
              "      <td>Yes / Oui</td>\n",
              "      <td>Bachelor / Licence</td>\n",
              "      <td>Yes / Oui</td>\n",
              "      <td>18 - 22</td>\n",
              "      <td>Female / Femme</td>\n",
              "      <td>Yes / Oui</td>\n",
              "      <td>No / Non</td>\n",
              "      <td>1</td>\n",
              "      <td>8</td>\n",
              "      <td>2</td>\n",
              "      <td>22:00</td>\n",
              "      <td>08:00</td>\n",
              "      <td>Often (three or four times) / Souvent (trois o...</td>\n",
              "      <td>2</td>\n",
              "      <td>15 to 30 min / De 15 à 30 minutes</td>\n",
              "      <td>1</td>\n",
              "      <td>1.0</td>\n",
              "      <td>88.888889</td>\n",
              "    </tr>\n",
              "    <tr>\n",
              "      <th>41</th>\n",
              "      <td>laurine.lachkar@cri-paris.org</td>\n",
              "      <td>Yes / Oui</td>\n",
              "      <td>Yes / Oui</td>\n",
              "      <td>Bachelor / Licence</td>\n",
              "      <td>Yes / Oui</td>\n",
              "      <td>18 - 22</td>\n",
              "      <td>Female / Femme</td>\n",
              "      <td>No / Non</td>\n",
              "      <td>Yes and it doesn't require to go out / Oui, un...</td>\n",
              "      <td>1</td>\n",
              "      <td>5</td>\n",
              "      <td>10</td>\n",
              "      <td>23:30</td>\n",
              "      <td>08:30</td>\n",
              "      <td>A few times (once or twice) / Quelques fois (u...</td>\n",
              "      <td>0</td>\n",
              "      <td>Instantly - less than 15 min / Instantanément ...</td>\n",
              "      <td>0</td>\n",
              "      <td>0.0</td>\n",
              "      <td>100.000000</td>\n",
              "    </tr>\n",
              "    <tr>\n",
              "      <th>44</th>\n",
              "      <td>comejaubert@gmail.com</td>\n",
              "      <td>Yes / Oui</td>\n",
              "      <td>Yes / Oui</td>\n",
              "      <td>Master</td>\n",
              "      <td>Yes / Oui</td>\n",
              "      <td>18 - 22</td>\n",
              "      <td>Male / Homme</td>\n",
              "      <td>No / Non</td>\n",
              "      <td>Yes and it doesn't require to go out / Oui, un...</td>\n",
              "      <td>9</td>\n",
              "      <td>7</td>\n",
              "      <td>7</td>\n",
              "      <td>12:00</td>\n",
              "      <td>08:30</td>\n",
              "      <td>Never / Jamais</td>\n",
              "      <td>0</td>\n",
              "      <td>Instantly - less than 15 min / Instantanément ...</td>\n",
              "      <td>0</td>\n",
              "      <td>0.0</td>\n",
              "      <td>100.000000</td>\n",
              "    </tr>\n",
              "    <tr>\n",
              "      <th>45</th>\n",
              "      <td>mariatou.drame@cri-paris.org</td>\n",
              "      <td>Yes / Oui</td>\n",
              "      <td>Yes / Oui</td>\n",
              "      <td>PhD / Doctorat</td>\n",
              "      <td>Yes / Oui</td>\n",
              "      <td>23 - 27</td>\n",
              "      <td>Female / Femme</td>\n",
              "      <td>Yes / Oui</td>\n",
              "      <td>No / Non</td>\n",
              "      <td>10</td>\n",
              "      <td>3</td>\n",
              "      <td>5</td>\n",
              "      <td>02:00</td>\n",
              "      <td>08:00</td>\n",
              "      <td>Everyday / Tous les jours</td>\n",
              "      <td>2</td>\n",
              "      <td>Instantly - less than 15 min / Instantanément ...</td>\n",
              "      <td>0</td>\n",
              "      <td>0.0</td>\n",
              "      <td>100.000000</td>\n",
              "    </tr>\n",
              "    <tr>\n",
              "      <th>48</th>\n",
              "      <td>hannah.borhan-azad@cri-paris.org</td>\n",
              "      <td>Yes / Oui</td>\n",
              "      <td>Yes / Oui</td>\n",
              "      <td>Master</td>\n",
              "      <td>Yes / Oui</td>\n",
              "      <td>23 - 27</td>\n",
              "      <td>Female / Femme</td>\n",
              "      <td>No / Non</td>\n",
              "      <td>No / Non</td>\n",
              "      <td>3</td>\n",
              "      <td>5</td>\n",
              "      <td>5</td>\n",
              "      <td>00:00</td>\n",
              "      <td>08:00</td>\n",
              "      <td>A few times (once or twice) / Quelques fois (u...</td>\n",
              "      <td>1</td>\n",
              "      <td>15 to 30 min / De 15 à 30 minutes</td>\n",
              "      <td>1</td>\n",
              "      <td>1.0</td>\n",
              "      <td>88.888889</td>\n",
              "    </tr>\n",
              "    <tr>\n",
              "      <th>51</th>\n",
              "      <td>samantha.hurtado@cri-paris.org</td>\n",
              "      <td>Yes / Oui</td>\n",
              "      <td>Yes / Oui</td>\n",
              "      <td>Master</td>\n",
              "      <td>Yes / Oui</td>\n",
              "      <td>23 - 27</td>\n",
              "      <td>Prefer not to say / Préfère ne pas se prononcer</td>\n",
              "      <td>No / Non</td>\n",
              "      <td>No / Non</td>\n",
              "      <td>2</td>\n",
              "      <td>1</td>\n",
              "      <td>10</td>\n",
              "      <td>00:30</td>\n",
              "      <td>07:00</td>\n",
              "      <td>A few times (once or twice) / Quelques fois (u...</td>\n",
              "      <td>1</td>\n",
              "      <td>30 min to 1h / De 30 minutes à 1h</td>\n",
              "      <td>2</td>\n",
              "      <td>2.0</td>\n",
              "      <td>77.777778</td>\n",
              "    </tr>\n",
              "  </tbody>\n",
              "</table>\n",
              "</div>"
            ],
            "text/plain": [
              "                               email  in_france courses_in_france  \\\n",
              "3       lorenzocolombo1998@gmail.com  Yes / Oui         Yes / Oui   \n",
              "4               fannylemant@yahoo.fr  Yes / Oui         Yes / Oui   \n",
              "5           marie.gareau99@gmail.com  Yes / Oui         Yes / Oui   \n",
              "6          nathan.finance@hotmail.fr  Yes / Oui         Yes / Oui   \n",
              "8               alexandre@glastra.fr  Yes / Oui         Yes / Oui   \n",
              "9           prashamsakc2.0@gmail.com  Yes / Oui         Yes / Oui   \n",
              "10           delphine.ly99@gmail.com  Yes / Oui         Yes / Oui   \n",
              "11         tania.tyczynski@gmail.com  Yes / Oui         Yes / Oui   \n",
              "14            angele.payan@yahoo.com  Yes / Oui         Yes / Oui   \n",
              "16     valentine.brasseur4@gmail.com  Yes / Oui         Yes / Oui   \n",
              "19               tjf200094@gmail.com  Yes / Oui         Yes / Oui   \n",
              "21     carla.tousmayol@cri-paris.org  Yes / Oui         Yes / Oui   \n",
              "25                nssaveleva@mail.ru  Yes / Oui         Yes / Oui   \n",
              "28          lisha.ling@cri-paris.org  Yes / Oui         Yes / Oui   \n",
              "29           anqi.zhou@cri-paris.org  Yes / Oui         Yes / Oui   \n",
              "32  hippolyte.aubertin@cri-paris.org  Yes / Oui         Yes / Oui   \n",
              "34     camille.masanet@cri-paris.org  Yes / Oui         Yes / Oui   \n",
              "40       mariana.anaya@cri-paris.org  Yes / Oui         Yes / Oui   \n",
              "41     laurine.lachkar@cri-paris.org  Yes / Oui         Yes / Oui   \n",
              "44             comejaubert@gmail.com  Yes / Oui         Yes / Oui   \n",
              "45      mariatou.drame@cri-paris.org  Yes / Oui         Yes / Oui   \n",
              "48  hannah.borhan-azad@cri-paris.org  Yes / Oui         Yes / Oui   \n",
              "51    samantha.hurtado@cri-paris.org  Yes / Oui         Yes / Oui   \n",
              "\n",
              "                status cri_student      age  \\\n",
              "3               Master    No / Non  23 - 27   \n",
              "4               Master    No / Non  18 - 22   \n",
              "5   Bachelor / Licence    No / Non  18 - 22   \n",
              "6               Master    No / Non  18 - 22   \n",
              "8               Master    No / Non  18 - 22   \n",
              "9   Bachelor / Licence    No / Non  18 - 22   \n",
              "10              Master    No / Non  18 - 22   \n",
              "11  Bachelor / Licence    No / Non  18 - 22   \n",
              "14  Bachelor / Licence    No / Non  18 - 22   \n",
              "16              Master    No / Non  18 - 22   \n",
              "19              Master    No / Non  18 - 22   \n",
              "21      PhD / Doctorat   Yes / Oui  23 - 27   \n",
              "25              Master   Yes / Oui      >30   \n",
              "28              Master   Yes / Oui      >30   \n",
              "29      PhD / Doctorat   Yes / Oui  23 - 27   \n",
              "32  Bachelor / Licence   Yes / Oui      <18   \n",
              "34  Bachelor / Licence   Yes / Oui  18 - 22   \n",
              "40  Bachelor / Licence   Yes / Oui  18 - 22   \n",
              "41  Bachelor / Licence   Yes / Oui  18 - 22   \n",
              "44              Master   Yes / Oui  18 - 22   \n",
              "45      PhD / Doctorat   Yes / Oui  23 - 27   \n",
              "48              Master   Yes / Oui  23 - 27   \n",
              "51              Master   Yes / Oui  23 - 27   \n",
              "\n",
              "                                             gender      alone  \\\n",
              "3                                      Male / Homme   No / Non   \n",
              "4                                    Female / Femme   No / Non   \n",
              "5                                    Female / Femme   No / Non   \n",
              "6                                      Male / Homme  Yes / Oui   \n",
              "8                                      Male / Homme   No / Non   \n",
              "9                                    Female / Femme   No / Non   \n",
              "10                                   Female / Femme   No / Non   \n",
              "11                                   Female / Femme  Yes / Oui   \n",
              "14                                   Female / Femme   No / Non   \n",
              "16                                   Female / Femme  Yes / Oui   \n",
              "19                                     Male / Homme   No / Non   \n",
              "21                                   Female / Femme  Yes / Oui   \n",
              "25                                   Female / Femme   No / Non   \n",
              "28                                   Female / Femme   No / Non   \n",
              "29                                   Female / Femme   No / Non   \n",
              "32                                     Male / Homme  Yes / Oui   \n",
              "34                                   Female / Femme   No / Non   \n",
              "40                                   Female / Femme  Yes / Oui   \n",
              "41                                   Female / Femme   No / Non   \n",
              "44                                     Male / Homme   No / Non   \n",
              "45                                   Female / Femme  Yes / Oui   \n",
              "48                                   Female / Femme   No / Non   \n",
              "51  Prefer not to say / Préfère ne pas se prononcer   No / Non   \n",
              "\n",
              "                                             have_pet  time_outside  \\\n",
              "3                                            No / Non            10   \n",
              "4   Yes and it doesn't require to go out / Oui, un...            15   \n",
              "5                                            No / Non             2   \n",
              "6                                            No / Non            10   \n",
              "8                                            No / Non             6   \n",
              "9                                            No / Non            10   \n",
              "10                                           No / Non             1   \n",
              "11                                           No / Non             8   \n",
              "14  Yes and it requires to go out (e.g. dog) / Oui...             1   \n",
              "16                                           No / Non             1   \n",
              "19  Yes and it doesn't require to go out / Oui, un...             6   \n",
              "21                                           No / Non             9   \n",
              "25                                           No / Non             6   \n",
              "28                                           No / Non             1   \n",
              "29  Yes and it requires to go out (e.g. dog) / Oui...             2   \n",
              "32                                           No / Non             1   \n",
              "34  Yes and it doesn't require to go out / Oui, un...             3   \n",
              "40                                           No / Non             1   \n",
              "41  Yes and it doesn't require to go out / Oui, un...             1   \n",
              "44  Yes and it doesn't require to go out / Oui, un...             9   \n",
              "45                                           No / Non            10   \n",
              "48                                           No / Non             3   \n",
              "51                                           No / Non             2   \n",
              "\n",
              "    meeting_friends  screen_time time_to_bed wake_time  \\\n",
              "3                 3            6       23:30     07:30   \n",
              "4                 6            3       00:00     07:00   \n",
              "5                 7            4       23:30     07:00   \n",
              "6                 7           10       12:30     07:00   \n",
              "8                 1            5       00:30     06:30   \n",
              "9                 4            5       00:00     09:00   \n",
              "10                1            8       22:45     07:00   \n",
              "11                7            2       00:45     07:30   \n",
              "14                1            9       23:00     07:30   \n",
              "16                7            9       01:15     07:30   \n",
              "19                1            2       22:15     07:00   \n",
              "21                5            3       12:00     08:00   \n",
              "25                5            8       01:30     07:00   \n",
              "28                1            7       00:30     07:30   \n",
              "29                3            8       23:30     08:30   \n",
              "32                7           10       12:00     07:30   \n",
              "34                7            7       23:00     06:50   \n",
              "40                8            2       22:00     08:00   \n",
              "41                5           10       23:30     08:30   \n",
              "44                7            7       12:00     08:30   \n",
              "45                3            5       02:00     08:00   \n",
              "48                5            5       00:00     08:00   \n",
              "51                1           10       00:30     07:00   \n",
              "\n",
              "                                         stress_level  wake_sleep_time  \\\n",
              "3                           Everyday / Tous les jours                1   \n",
              "4   A few times (once or twice) / Quelques fois (u...                1   \n",
              "5   A few times (once or twice) / Quelques fois (u...                0   \n",
              "6   Often (three or four times) / Souvent (trois o...                2   \n",
              "8   A few times (once or twice) / Quelques fois (u...                0   \n",
              "9   A few times (once or twice) / Quelques fois (u...                1   \n",
              "10  A few times (once or twice) / Quelques fois (u...                0   \n",
              "11  Often (three or four times) / Souvent (trois o...                0   \n",
              "14                          Everyday / Tous les jours                0   \n",
              "16  Often (three or four times) / Souvent (trois o...                0   \n",
              "19  Often (three or four times) / Souvent (trois o...                4   \n",
              "21                                     Never / Jamais                0   \n",
              "25  Often (three or four times) / Souvent (trois o...                0   \n",
              "28  Often (three or four times) / Souvent (trois o...                2   \n",
              "29  Often (three or four times) / Souvent (trois o...                1   \n",
              "32                                     Never / Jamais                2   \n",
              "34  Often (three or four times) / Souvent (trois o...                0   \n",
              "40  Often (three or four times) / Souvent (trois o...                2   \n",
              "41  A few times (once or twice) / Quelques fois (u...                0   \n",
              "44                                     Never / Jamais                0   \n",
              "45                          Everyday / Tous les jours                2   \n",
              "48  A few times (once or twice) / Quelques fois (u...                1   \n",
              "51  A few times (once or twice) / Quelques fois (u...                1   \n",
              "\n",
              "                                     time_fall_asleep  sleeping_quality_score  \\\n",
              "3                   15 to 30 min / De 15 à 30 minutes                       1   \n",
              "4   Instantly - less than 15 min / Instantanément ...                       0   \n",
              "5   Instantly - less than 15 min / Instantanément ...                       0   \n",
              "6   Instantly - less than 15 min / Instantanément ...                       0   \n",
              "8                   15 to 30 min / De 15 à 30 minutes                       1   \n",
              "9                            More than 1h / Plus d'1h                       3   \n",
              "10  Instantly - less than 15 min / Instantanément ...                       0   \n",
              "11  Instantly - less than 15 min / Instantanément ...                       0   \n",
              "14                  15 to 30 min / De 15 à 30 minutes                       1   \n",
              "16                  15 to 30 min / De 15 à 30 minutes                       1   \n",
              "19                  15 to 30 min / De 15 à 30 minutes                       1   \n",
              "21  Instantly - less than 15 min / Instantanément ...                       0   \n",
              "25  Instantly - less than 15 min / Instantanément ...                       0   \n",
              "28                  30 min to 1h / De 30 minutes à 1h                       2   \n",
              "29                  30 min to 1h / De 30 minutes à 1h                       2   \n",
              "32                  15 to 30 min / De 15 à 30 minutes                       1   \n",
              "34                  15 to 30 min / De 15 à 30 minutes                       1   \n",
              "40                  15 to 30 min / De 15 à 30 minutes                       1   \n",
              "41  Instantly - less than 15 min / Instantanément ...                       0   \n",
              "44  Instantly - less than 15 min / Instantanément ...                       0   \n",
              "45  Instantly - less than 15 min / Instantanément ...                       0   \n",
              "48                  15 to 30 min / De 15 à 30 minutes                       1   \n",
              "51                  30 min to 1h / De 30 minutes à 1h                       2   \n",
              "\n",
              "    avg_score  avg_score_perc  \n",
              "3         1.0       88.888889  \n",
              "4         0.0      100.000000  \n",
              "5         0.0      100.000000  \n",
              "6         0.0      100.000000  \n",
              "8         1.0       88.888889  \n",
              "9         3.0       66.666667  \n",
              "10        0.0      100.000000  \n",
              "11        0.0      100.000000  \n",
              "14        1.0       88.888889  \n",
              "16        1.0       88.888889  \n",
              "19        1.0       88.888889  \n",
              "21        0.0      100.000000  \n",
              "25        0.0      100.000000  \n",
              "28        2.0       77.777778  \n",
              "29        2.0       77.777778  \n",
              "32        1.0       88.888889  \n",
              "34        1.0       88.888889  \n",
              "40        1.0       88.888889  \n",
              "41        0.0      100.000000  \n",
              "44        0.0      100.000000  \n",
              "45        0.0      100.000000  \n",
              "48        1.0       88.888889  \n",
              "51        2.0       77.777778  "
            ]
          },
          "metadata": {},
          "execution_count": 428
        }
      ]
    },
    {
      "cell_type": "code",
      "source": [
        "# Looking age column unique values \n",
        "df_numeric['age'].unique()"
      ],
      "metadata": {
        "colab": {
          "base_uri": "https://localhost:8080/"
        },
        "id": "H0TnOiebYuNw",
        "outputId": "58075ff9-a6eb-4908-b124-e17404f145b6"
      },
      "execution_count": null,
      "outputs": [
        {
          "output_type": "execute_result",
          "data": {
            "text/plain": [
              "array(['23 - 27', '18 - 22', '>30', '<18'], dtype=object)"
            ]
          },
          "metadata": {},
          "execution_count": 429
        }
      ]
    },
    {
      "cell_type": "code",
      "source": [
        "#Changing values to numerical for better analyze\n",
        "df_numeric.loc[ df_numeric['age'] == '<18', 'age'] = 0\n",
        "df_numeric.loc[ df_numeric['age'] == '18 - 22', 'age'] = 1\n",
        "df_numeric.loc[ df_numeric['age'] == '23 - 27', 'age'] = 2\n",
        "df_numeric.loc[ df_numeric['age'] == '28 - 30', 'age'] = 3\n",
        "df_numeric.loc[ df_numeric['age'] == '>30', 'age'] = 4\n",
        "df_numeric.age = df_numeric.age.astype(int) "
      ],
      "metadata": {
        "id": "O_cv0z6RYy1I"
      },
      "execution_count": null,
      "outputs": []
    },
    {
      "cell_type": "code",
      "source": [
        "df_numeric.head()"
      ],
      "metadata": {
        "colab": {
          "base_uri": "https://localhost:8080/",
          "height": 451
        },
        "id": "UG24VdGuY4uY",
        "outputId": "739855e4-4d39-4fe9-c0af-5b1bc07d46be"
      },
      "execution_count": null,
      "outputs": [
        {
          "output_type": "execute_result",
          "data": {
            "text/html": [
              "<div>\n",
              "<style scoped>\n",
              "    .dataframe tbody tr th:only-of-type {\n",
              "        vertical-align: middle;\n",
              "    }\n",
              "\n",
              "    .dataframe tbody tr th {\n",
              "        vertical-align: top;\n",
              "    }\n",
              "\n",
              "    .dataframe thead th {\n",
              "        text-align: right;\n",
              "    }\n",
              "</style>\n",
              "<table border=\"1\" class=\"dataframe\">\n",
              "  <thead>\n",
              "    <tr style=\"text-align: right;\">\n",
              "      <th></th>\n",
              "      <th>email</th>\n",
              "      <th>in_france</th>\n",
              "      <th>courses_in_france</th>\n",
              "      <th>status</th>\n",
              "      <th>cri_student</th>\n",
              "      <th>age</th>\n",
              "      <th>gender</th>\n",
              "      <th>alone</th>\n",
              "      <th>have_pet</th>\n",
              "      <th>time_outside</th>\n",
              "      <th>meeting_friends</th>\n",
              "      <th>screen_time</th>\n",
              "      <th>time_to_bed</th>\n",
              "      <th>wake_time</th>\n",
              "      <th>stress_level</th>\n",
              "      <th>wake_sleep_time</th>\n",
              "      <th>time_fall_asleep</th>\n",
              "      <th>sleeping_quality_score</th>\n",
              "      <th>avg_score</th>\n",
              "      <th>avg_score_perc</th>\n",
              "    </tr>\n",
              "  </thead>\n",
              "  <tbody>\n",
              "    <tr>\n",
              "      <th>3</th>\n",
              "      <td>lorenzocolombo1998@gmail.com</td>\n",
              "      <td>Yes / Oui</td>\n",
              "      <td>Yes / Oui</td>\n",
              "      <td>Master</td>\n",
              "      <td>No / Non</td>\n",
              "      <td>2</td>\n",
              "      <td>Male / Homme</td>\n",
              "      <td>No / Non</td>\n",
              "      <td>No / Non</td>\n",
              "      <td>10</td>\n",
              "      <td>3</td>\n",
              "      <td>6</td>\n",
              "      <td>23:30</td>\n",
              "      <td>07:30</td>\n",
              "      <td>Everyday / Tous les jours</td>\n",
              "      <td>1</td>\n",
              "      <td>15 to 30 min / De 15 à 30 minutes</td>\n",
              "      <td>1</td>\n",
              "      <td>1.0</td>\n",
              "      <td>88.888889</td>\n",
              "    </tr>\n",
              "    <tr>\n",
              "      <th>4</th>\n",
              "      <td>fannylemant@yahoo.fr</td>\n",
              "      <td>Yes / Oui</td>\n",
              "      <td>Yes / Oui</td>\n",
              "      <td>Master</td>\n",
              "      <td>No / Non</td>\n",
              "      <td>1</td>\n",
              "      <td>Female / Femme</td>\n",
              "      <td>No / Non</td>\n",
              "      <td>Yes and it doesn't require to go out / Oui, un...</td>\n",
              "      <td>15</td>\n",
              "      <td>6</td>\n",
              "      <td>3</td>\n",
              "      <td>00:00</td>\n",
              "      <td>07:00</td>\n",
              "      <td>A few times (once or twice) / Quelques fois (u...</td>\n",
              "      <td>1</td>\n",
              "      <td>Instantly - less than 15 min / Instantanément ...</td>\n",
              "      <td>0</td>\n",
              "      <td>0.0</td>\n",
              "      <td>100.000000</td>\n",
              "    </tr>\n",
              "    <tr>\n",
              "      <th>5</th>\n",
              "      <td>marie.gareau99@gmail.com</td>\n",
              "      <td>Yes / Oui</td>\n",
              "      <td>Yes / Oui</td>\n",
              "      <td>Bachelor / Licence</td>\n",
              "      <td>No / Non</td>\n",
              "      <td>1</td>\n",
              "      <td>Female / Femme</td>\n",
              "      <td>No / Non</td>\n",
              "      <td>No / Non</td>\n",
              "      <td>2</td>\n",
              "      <td>7</td>\n",
              "      <td>4</td>\n",
              "      <td>23:30</td>\n",
              "      <td>07:00</td>\n",
              "      <td>A few times (once or twice) / Quelques fois (u...</td>\n",
              "      <td>0</td>\n",
              "      <td>Instantly - less than 15 min / Instantanément ...</td>\n",
              "      <td>0</td>\n",
              "      <td>0.0</td>\n",
              "      <td>100.000000</td>\n",
              "    </tr>\n",
              "    <tr>\n",
              "      <th>6</th>\n",
              "      <td>nathan.finance@hotmail.fr</td>\n",
              "      <td>Yes / Oui</td>\n",
              "      <td>Yes / Oui</td>\n",
              "      <td>Master</td>\n",
              "      <td>No / Non</td>\n",
              "      <td>1</td>\n",
              "      <td>Male / Homme</td>\n",
              "      <td>Yes / Oui</td>\n",
              "      <td>No / Non</td>\n",
              "      <td>10</td>\n",
              "      <td>7</td>\n",
              "      <td>10</td>\n",
              "      <td>12:30</td>\n",
              "      <td>07:00</td>\n",
              "      <td>Often (three or four times) / Souvent (trois o...</td>\n",
              "      <td>2</td>\n",
              "      <td>Instantly - less than 15 min / Instantanément ...</td>\n",
              "      <td>0</td>\n",
              "      <td>0.0</td>\n",
              "      <td>100.000000</td>\n",
              "    </tr>\n",
              "    <tr>\n",
              "      <th>8</th>\n",
              "      <td>alexandre@glastra.fr</td>\n",
              "      <td>Yes / Oui</td>\n",
              "      <td>Yes / Oui</td>\n",
              "      <td>Master</td>\n",
              "      <td>No / Non</td>\n",
              "      <td>1</td>\n",
              "      <td>Male / Homme</td>\n",
              "      <td>No / Non</td>\n",
              "      <td>No / Non</td>\n",
              "      <td>6</td>\n",
              "      <td>1</td>\n",
              "      <td>5</td>\n",
              "      <td>00:30</td>\n",
              "      <td>06:30</td>\n",
              "      <td>A few times (once or twice) / Quelques fois (u...</td>\n",
              "      <td>0</td>\n",
              "      <td>15 to 30 min / De 15 à 30 minutes</td>\n",
              "      <td>1</td>\n",
              "      <td>1.0</td>\n",
              "      <td>88.888889</td>\n",
              "    </tr>\n",
              "  </tbody>\n",
              "</table>\n",
              "</div>"
            ],
            "text/plain": [
              "                          email  in_france courses_in_france  \\\n",
              "3  lorenzocolombo1998@gmail.com  Yes / Oui         Yes / Oui   \n",
              "4          fannylemant@yahoo.fr  Yes / Oui         Yes / Oui   \n",
              "5      marie.gareau99@gmail.com  Yes / Oui         Yes / Oui   \n",
              "6     nathan.finance@hotmail.fr  Yes / Oui         Yes / Oui   \n",
              "8          alexandre@glastra.fr  Yes / Oui         Yes / Oui   \n",
              "\n",
              "               status cri_student  age          gender      alone  \\\n",
              "3              Master    No / Non    2    Male / Homme   No / Non   \n",
              "4              Master    No / Non    1  Female / Femme   No / Non   \n",
              "5  Bachelor / Licence    No / Non    1  Female / Femme   No / Non   \n",
              "6              Master    No / Non    1    Male / Homme  Yes / Oui   \n",
              "8              Master    No / Non    1    Male / Homme   No / Non   \n",
              "\n",
              "                                            have_pet  time_outside  \\\n",
              "3                                           No / Non            10   \n",
              "4  Yes and it doesn't require to go out / Oui, un...            15   \n",
              "5                                           No / Non             2   \n",
              "6                                           No / Non            10   \n",
              "8                                           No / Non             6   \n",
              "\n",
              "   meeting_friends  screen_time time_to_bed wake_time  \\\n",
              "3                3            6       23:30     07:30   \n",
              "4                6            3       00:00     07:00   \n",
              "5                7            4       23:30     07:00   \n",
              "6                7           10       12:30     07:00   \n",
              "8                1            5       00:30     06:30   \n",
              "\n",
              "                                        stress_level  wake_sleep_time  \\\n",
              "3                          Everyday / Tous les jours                1   \n",
              "4  A few times (once or twice) / Quelques fois (u...                1   \n",
              "5  A few times (once or twice) / Quelques fois (u...                0   \n",
              "6  Often (three or four times) / Souvent (trois o...                2   \n",
              "8  A few times (once or twice) / Quelques fois (u...                0   \n",
              "\n",
              "                                    time_fall_asleep  sleeping_quality_score  \\\n",
              "3                  15 to 30 min / De 15 à 30 minutes                       1   \n",
              "4  Instantly - less than 15 min / Instantanément ...                       0   \n",
              "5  Instantly - less than 15 min / Instantanément ...                       0   \n",
              "6  Instantly - less than 15 min / Instantanément ...                       0   \n",
              "8                  15 to 30 min / De 15 à 30 minutes                       1   \n",
              "\n",
              "   avg_score  avg_score_perc  \n",
              "3        1.0       88.888889  \n",
              "4        0.0      100.000000  \n",
              "5        0.0      100.000000  \n",
              "6        0.0      100.000000  \n",
              "8        1.0       88.888889  "
            ]
          },
          "metadata": {},
          "execution_count": 431
        }
      ]
    },
    {
      "cell_type": "code",
      "source": [
        "df_numeric.info()"
      ],
      "metadata": {
        "colab": {
          "base_uri": "https://localhost:8080/"
        },
        "id": "xErMRS9GY8_T",
        "outputId": "18ffecc0-3757-4bd0-f074-0f65c33c5663"
      },
      "execution_count": null,
      "outputs": [
        {
          "output_type": "stream",
          "name": "stdout",
          "text": [
            "<class 'pandas.core.frame.DataFrame'>\n",
            "Int64Index: 23 entries, 3 to 51\n",
            "Data columns (total 20 columns):\n",
            " #   Column                  Non-Null Count  Dtype  \n",
            "---  ------                  --------------  -----  \n",
            " 0   email                   23 non-null     object \n",
            " 1   in_france               23 non-null     object \n",
            " 2   courses_in_france       23 non-null     object \n",
            " 3   status                  23 non-null     object \n",
            " 4   cri_student             23 non-null     object \n",
            " 5   age                     23 non-null     int64  \n",
            " 6   gender                  23 non-null     object \n",
            " 7   alone                   23 non-null     object \n",
            " 8   have_pet                23 non-null     object \n",
            " 9   time_outside            23 non-null     int64  \n",
            " 10  meeting_friends         23 non-null     int64  \n",
            " 11  screen_time             23 non-null     int64  \n",
            " 12  time_to_bed             23 non-null     object \n",
            " 13  wake_time               23 non-null     object \n",
            " 14  stress_level            23 non-null     object \n",
            " 15  wake_sleep_time         23 non-null     int64  \n",
            " 16  time_fall_asleep        23 non-null     object \n",
            " 17  sleeping_quality_score  23 non-null     int64  \n",
            " 18  avg_score               23 non-null     float64\n",
            " 19  avg_score_perc          23 non-null     float64\n",
            "dtypes: float64(2), int64(6), object(12)\n",
            "memory usage: 3.8+ KB\n"
          ]
        }
      ]
    },
    {
      "cell_type": "code",
      "source": [
        "# We did age column into the numeric values. Now we will go on with gender\n",
        "df_numeric.loc[ df_numeric['gender'] == 'Female / Femme','gender'] = 0\n",
        "df_numeric.loc[ df_numeric['gender'] == 'Male / Homme','gender'] = 1\n",
        "df_numeric.loc[ df_numeric['gender'] == 'Prefer not to say / Préfère ne pas se prononcer', 'gender'] = 2\n",
        "df_numeric.gender = df_numeric.gender.astype(int) "
      ],
      "metadata": {
        "id": "GvTzq2oaZB3a"
      },
      "execution_count": null,
      "outputs": []
    },
    {
      "cell_type": "code",
      "source": [
        "# education_level\n",
        "df_numeric['status'].unique()\n",
        "df"
      ],
      "metadata": {
        "colab": {
          "base_uri": "https://localhost:8080/",
          "height": 1000
        },
        "id": "FHSk_YoXZGTN",
        "outputId": "020f6f9c-73e4-4e7e-aa8b-5c56acce7bcd"
      },
      "execution_count": null,
      "outputs": [
        {
          "output_type": "execute_result",
          "data": {
            "text/html": [
              "<div>\n",
              "<style scoped>\n",
              "    .dataframe tbody tr th:only-of-type {\n",
              "        vertical-align: middle;\n",
              "    }\n",
              "\n",
              "    .dataframe tbody tr th {\n",
              "        vertical-align: top;\n",
              "    }\n",
              "\n",
              "    .dataframe thead th {\n",
              "        text-align: right;\n",
              "    }\n",
              "</style>\n",
              "<table border=\"1\" class=\"dataframe\">\n",
              "  <thead>\n",
              "    <tr style=\"text-align: right;\">\n",
              "      <th></th>\n",
              "      <th>email</th>\n",
              "      <th>in_france</th>\n",
              "      <th>courses_in_france</th>\n",
              "      <th>status</th>\n",
              "      <th>cri_student</th>\n",
              "      <th>age</th>\n",
              "      <th>gender</th>\n",
              "      <th>alone</th>\n",
              "      <th>have_pet</th>\n",
              "      <th>time_outside</th>\n",
              "      <th>meeting_friends</th>\n",
              "      <th>screen_time</th>\n",
              "      <th>time_to_bed</th>\n",
              "      <th>wake_time</th>\n",
              "      <th>stress_level</th>\n",
              "      <th>wake_sleep_time</th>\n",
              "      <th>time_fall_asleep</th>\n",
              "      <th>sleeping_quality_score</th>\n",
              "      <th>avg_score</th>\n",
              "      <th>avg_score_perc</th>\n",
              "    </tr>\n",
              "  </thead>\n",
              "  <tbody>\n",
              "    <tr>\n",
              "      <th>3</th>\n",
              "      <td>lorenzocolombo1998@gmail.com</td>\n",
              "      <td>Yes / Oui</td>\n",
              "      <td>Yes / Oui</td>\n",
              "      <td>Master</td>\n",
              "      <td>No / Non</td>\n",
              "      <td>23 - 27</td>\n",
              "      <td>Male / Homme</td>\n",
              "      <td>No / Non</td>\n",
              "      <td>No / Non</td>\n",
              "      <td>10</td>\n",
              "      <td>3</td>\n",
              "      <td>6</td>\n",
              "      <td>23:30</td>\n",
              "      <td>07:30</td>\n",
              "      <td>Everyday / Tous les jours</td>\n",
              "      <td>1</td>\n",
              "      <td>15 to 30 min / De 15 à 30 minutes</td>\n",
              "      <td>1</td>\n",
              "      <td>1.0</td>\n",
              "      <td>88.888889</td>\n",
              "    </tr>\n",
              "    <tr>\n",
              "      <th>4</th>\n",
              "      <td>fannylemant@yahoo.fr</td>\n",
              "      <td>Yes / Oui</td>\n",
              "      <td>Yes / Oui</td>\n",
              "      <td>Master</td>\n",
              "      <td>No / Non</td>\n",
              "      <td>18 - 22</td>\n",
              "      <td>Female / Femme</td>\n",
              "      <td>No / Non</td>\n",
              "      <td>Yes and it doesn't require to go out / Oui, un...</td>\n",
              "      <td>15</td>\n",
              "      <td>6</td>\n",
              "      <td>3</td>\n",
              "      <td>00:00</td>\n",
              "      <td>07:00</td>\n",
              "      <td>A few times (once or twice) / Quelques fois (u...</td>\n",
              "      <td>1</td>\n",
              "      <td>Instantly - less than 15 min / Instantanément ...</td>\n",
              "      <td>0</td>\n",
              "      <td>0.0</td>\n",
              "      <td>100.000000</td>\n",
              "    </tr>\n",
              "    <tr>\n",
              "      <th>5</th>\n",
              "      <td>marie.gareau99@gmail.com</td>\n",
              "      <td>Yes / Oui</td>\n",
              "      <td>Yes / Oui</td>\n",
              "      <td>Bachelor / Licence</td>\n",
              "      <td>No / Non</td>\n",
              "      <td>18 - 22</td>\n",
              "      <td>Female / Femme</td>\n",
              "      <td>No / Non</td>\n",
              "      <td>No / Non</td>\n",
              "      <td>2</td>\n",
              "      <td>7</td>\n",
              "      <td>4</td>\n",
              "      <td>23:30</td>\n",
              "      <td>07:00</td>\n",
              "      <td>A few times (once or twice) / Quelques fois (u...</td>\n",
              "      <td>0</td>\n",
              "      <td>Instantly - less than 15 min / Instantanément ...</td>\n",
              "      <td>0</td>\n",
              "      <td>0.0</td>\n",
              "      <td>100.000000</td>\n",
              "    </tr>\n",
              "    <tr>\n",
              "      <th>6</th>\n",
              "      <td>nathan.finance@hotmail.fr</td>\n",
              "      <td>Yes / Oui</td>\n",
              "      <td>Yes / Oui</td>\n",
              "      <td>Master</td>\n",
              "      <td>No / Non</td>\n",
              "      <td>18 - 22</td>\n",
              "      <td>Male / Homme</td>\n",
              "      <td>Yes / Oui</td>\n",
              "      <td>No / Non</td>\n",
              "      <td>10</td>\n",
              "      <td>7</td>\n",
              "      <td>10</td>\n",
              "      <td>12:30</td>\n",
              "      <td>07:00</td>\n",
              "      <td>Often (three or four times) / Souvent (trois o...</td>\n",
              "      <td>2</td>\n",
              "      <td>Instantly - less than 15 min / Instantanément ...</td>\n",
              "      <td>0</td>\n",
              "      <td>0.0</td>\n",
              "      <td>100.000000</td>\n",
              "    </tr>\n",
              "    <tr>\n",
              "      <th>8</th>\n",
              "      <td>alexandre@glastra.fr</td>\n",
              "      <td>Yes / Oui</td>\n",
              "      <td>Yes / Oui</td>\n",
              "      <td>Master</td>\n",
              "      <td>No / Non</td>\n",
              "      <td>18 - 22</td>\n",
              "      <td>Male / Homme</td>\n",
              "      <td>No / Non</td>\n",
              "      <td>No / Non</td>\n",
              "      <td>6</td>\n",
              "      <td>1</td>\n",
              "      <td>5</td>\n",
              "      <td>00:30</td>\n",
              "      <td>06:30</td>\n",
              "      <td>A few times (once or twice) / Quelques fois (u...</td>\n",
              "      <td>0</td>\n",
              "      <td>15 to 30 min / De 15 à 30 minutes</td>\n",
              "      <td>1</td>\n",
              "      <td>1.0</td>\n",
              "      <td>88.888889</td>\n",
              "    </tr>\n",
              "    <tr>\n",
              "      <th>9</th>\n",
              "      <td>prashamsakc2.0@gmail.com</td>\n",
              "      <td>Yes / Oui</td>\n",
              "      <td>Yes / Oui</td>\n",
              "      <td>Bachelor / Licence</td>\n",
              "      <td>No / Non</td>\n",
              "      <td>18 - 22</td>\n",
              "      <td>Female / Femme</td>\n",
              "      <td>No / Non</td>\n",
              "      <td>No / Non</td>\n",
              "      <td>10</td>\n",
              "      <td>4</td>\n",
              "      <td>5</td>\n",
              "      <td>00:00</td>\n",
              "      <td>09:00</td>\n",
              "      <td>A few times (once or twice) / Quelques fois (u...</td>\n",
              "      <td>1</td>\n",
              "      <td>More than 1h / Plus d'1h</td>\n",
              "      <td>3</td>\n",
              "      <td>3.0</td>\n",
              "      <td>66.666667</td>\n",
              "    </tr>\n",
              "    <tr>\n",
              "      <th>10</th>\n",
              "      <td>delphine.ly99@gmail.com</td>\n",
              "      <td>Yes / Oui</td>\n",
              "      <td>Yes / Oui</td>\n",
              "      <td>Master</td>\n",
              "      <td>No / Non</td>\n",
              "      <td>18 - 22</td>\n",
              "      <td>Female / Femme</td>\n",
              "      <td>No / Non</td>\n",
              "      <td>No / Non</td>\n",
              "      <td>1</td>\n",
              "      <td>1</td>\n",
              "      <td>8</td>\n",
              "      <td>22:45</td>\n",
              "      <td>07:00</td>\n",
              "      <td>A few times (once or twice) / Quelques fois (u...</td>\n",
              "      <td>0</td>\n",
              "      <td>Instantly - less than 15 min / Instantanément ...</td>\n",
              "      <td>0</td>\n",
              "      <td>0.0</td>\n",
              "      <td>100.000000</td>\n",
              "    </tr>\n",
              "    <tr>\n",
              "      <th>11</th>\n",
              "      <td>tania.tyczynski@gmail.com</td>\n",
              "      <td>Yes / Oui</td>\n",
              "      <td>Yes / Oui</td>\n",
              "      <td>Bachelor / Licence</td>\n",
              "      <td>No / Non</td>\n",
              "      <td>18 - 22</td>\n",
              "      <td>Female / Femme</td>\n",
              "      <td>Yes / Oui</td>\n",
              "      <td>No / Non</td>\n",
              "      <td>8</td>\n",
              "      <td>7</td>\n",
              "      <td>2</td>\n",
              "      <td>00:45</td>\n",
              "      <td>07:30</td>\n",
              "      <td>Often (three or four times) / Souvent (trois o...</td>\n",
              "      <td>0</td>\n",
              "      <td>Instantly - less than 15 min / Instantanément ...</td>\n",
              "      <td>0</td>\n",
              "      <td>0.0</td>\n",
              "      <td>100.000000</td>\n",
              "    </tr>\n",
              "    <tr>\n",
              "      <th>14</th>\n",
              "      <td>angele.payan@yahoo.com</td>\n",
              "      <td>Yes / Oui</td>\n",
              "      <td>Yes / Oui</td>\n",
              "      <td>Bachelor / Licence</td>\n",
              "      <td>No / Non</td>\n",
              "      <td>18 - 22</td>\n",
              "      <td>Female / Femme</td>\n",
              "      <td>No / Non</td>\n",
              "      <td>Yes and it requires to go out (e.g. dog) / Oui...</td>\n",
              "      <td>1</td>\n",
              "      <td>1</td>\n",
              "      <td>9</td>\n",
              "      <td>23:00</td>\n",
              "      <td>07:30</td>\n",
              "      <td>Everyday / Tous les jours</td>\n",
              "      <td>0</td>\n",
              "      <td>15 to 30 min / De 15 à 30 minutes</td>\n",
              "      <td>1</td>\n",
              "      <td>1.0</td>\n",
              "      <td>88.888889</td>\n",
              "    </tr>\n",
              "    <tr>\n",
              "      <th>16</th>\n",
              "      <td>valentine.brasseur4@gmail.com</td>\n",
              "      <td>Yes / Oui</td>\n",
              "      <td>Yes / Oui</td>\n",
              "      <td>Master</td>\n",
              "      <td>No / Non</td>\n",
              "      <td>18 - 22</td>\n",
              "      <td>Female / Femme</td>\n",
              "      <td>Yes / Oui</td>\n",
              "      <td>No / Non</td>\n",
              "      <td>1</td>\n",
              "      <td>7</td>\n",
              "      <td>9</td>\n",
              "      <td>01:15</td>\n",
              "      <td>07:30</td>\n",
              "      <td>Often (three or four times) / Souvent (trois o...</td>\n",
              "      <td>0</td>\n",
              "      <td>15 to 30 min / De 15 à 30 minutes</td>\n",
              "      <td>1</td>\n",
              "      <td>1.0</td>\n",
              "      <td>88.888889</td>\n",
              "    </tr>\n",
              "    <tr>\n",
              "      <th>19</th>\n",
              "      <td>tjf200094@gmail.com</td>\n",
              "      <td>Yes / Oui</td>\n",
              "      <td>Yes / Oui</td>\n",
              "      <td>Master</td>\n",
              "      <td>No / Non</td>\n",
              "      <td>18 - 22</td>\n",
              "      <td>Male / Homme</td>\n",
              "      <td>No / Non</td>\n",
              "      <td>Yes and it doesn't require to go out / Oui, un...</td>\n",
              "      <td>6</td>\n",
              "      <td>1</td>\n",
              "      <td>2</td>\n",
              "      <td>22:15</td>\n",
              "      <td>07:00</td>\n",
              "      <td>Often (three or four times) / Souvent (trois o...</td>\n",
              "      <td>4</td>\n",
              "      <td>15 to 30 min / De 15 à 30 minutes</td>\n",
              "      <td>1</td>\n",
              "      <td>1.0</td>\n",
              "      <td>88.888889</td>\n",
              "    </tr>\n",
              "    <tr>\n",
              "      <th>21</th>\n",
              "      <td>carla.tousmayol@cri-paris.org</td>\n",
              "      <td>Yes / Oui</td>\n",
              "      <td>Yes / Oui</td>\n",
              "      <td>PhD / Doctorat</td>\n",
              "      <td>Yes / Oui</td>\n",
              "      <td>23 - 27</td>\n",
              "      <td>Female / Femme</td>\n",
              "      <td>Yes / Oui</td>\n",
              "      <td>No / Non</td>\n",
              "      <td>9</td>\n",
              "      <td>5</td>\n",
              "      <td>3</td>\n",
              "      <td>12:00</td>\n",
              "      <td>08:00</td>\n",
              "      <td>Never / Jamais</td>\n",
              "      <td>0</td>\n",
              "      <td>Instantly - less than 15 min / Instantanément ...</td>\n",
              "      <td>0</td>\n",
              "      <td>0.0</td>\n",
              "      <td>100.000000</td>\n",
              "    </tr>\n",
              "    <tr>\n",
              "      <th>25</th>\n",
              "      <td>nssaveleva@mail.ru</td>\n",
              "      <td>Yes / Oui</td>\n",
              "      <td>Yes / Oui</td>\n",
              "      <td>Master</td>\n",
              "      <td>Yes / Oui</td>\n",
              "      <td>&gt;30</td>\n",
              "      <td>Female / Femme</td>\n",
              "      <td>No / Non</td>\n",
              "      <td>No / Non</td>\n",
              "      <td>6</td>\n",
              "      <td>5</td>\n",
              "      <td>8</td>\n",
              "      <td>01:30</td>\n",
              "      <td>07:00</td>\n",
              "      <td>Often (three or four times) / Souvent (trois o...</td>\n",
              "      <td>0</td>\n",
              "      <td>Instantly - less than 15 min / Instantanément ...</td>\n",
              "      <td>0</td>\n",
              "      <td>0.0</td>\n",
              "      <td>100.000000</td>\n",
              "    </tr>\n",
              "    <tr>\n",
              "      <th>28</th>\n",
              "      <td>lisha.ling@cri-paris.org</td>\n",
              "      <td>Yes / Oui</td>\n",
              "      <td>Yes / Oui</td>\n",
              "      <td>Master</td>\n",
              "      <td>Yes / Oui</td>\n",
              "      <td>&gt;30</td>\n",
              "      <td>Female / Femme</td>\n",
              "      <td>No / Non</td>\n",
              "      <td>No / Non</td>\n",
              "      <td>1</td>\n",
              "      <td>1</td>\n",
              "      <td>7</td>\n",
              "      <td>00:30</td>\n",
              "      <td>07:30</td>\n",
              "      <td>Often (three or four times) / Souvent (trois o...</td>\n",
              "      <td>2</td>\n",
              "      <td>30 min to 1h / De 30 minutes à 1h</td>\n",
              "      <td>2</td>\n",
              "      <td>2.0</td>\n",
              "      <td>77.777778</td>\n",
              "    </tr>\n",
              "    <tr>\n",
              "      <th>29</th>\n",
              "      <td>anqi.zhou@cri-paris.org</td>\n",
              "      <td>Yes / Oui</td>\n",
              "      <td>Yes / Oui</td>\n",
              "      <td>PhD / Doctorat</td>\n",
              "      <td>Yes / Oui</td>\n",
              "      <td>23 - 27</td>\n",
              "      <td>Female / Femme</td>\n",
              "      <td>No / Non</td>\n",
              "      <td>Yes and it requires to go out (e.g. dog) / Oui...</td>\n",
              "      <td>2</td>\n",
              "      <td>3</td>\n",
              "      <td>8</td>\n",
              "      <td>23:30</td>\n",
              "      <td>08:30</td>\n",
              "      <td>Often (three or four times) / Souvent (trois o...</td>\n",
              "      <td>1</td>\n",
              "      <td>30 min to 1h / De 30 minutes à 1h</td>\n",
              "      <td>2</td>\n",
              "      <td>2.0</td>\n",
              "      <td>77.777778</td>\n",
              "    </tr>\n",
              "    <tr>\n",
              "      <th>32</th>\n",
              "      <td>hippolyte.aubertin@cri-paris.org</td>\n",
              "      <td>Yes / Oui</td>\n",
              "      <td>Yes / Oui</td>\n",
              "      <td>Bachelor / Licence</td>\n",
              "      <td>Yes / Oui</td>\n",
              "      <td>&lt;18</td>\n",
              "      <td>Male / Homme</td>\n",
              "      <td>Yes / Oui</td>\n",
              "      <td>No / Non</td>\n",
              "      <td>1</td>\n",
              "      <td>7</td>\n",
              "      <td>10</td>\n",
              "      <td>12:00</td>\n",
              "      <td>07:30</td>\n",
              "      <td>Never / Jamais</td>\n",
              "      <td>2</td>\n",
              "      <td>15 to 30 min / De 15 à 30 minutes</td>\n",
              "      <td>1</td>\n",
              "      <td>1.0</td>\n",
              "      <td>88.888889</td>\n",
              "    </tr>\n",
              "    <tr>\n",
              "      <th>34</th>\n",
              "      <td>camille.masanet@cri-paris.org</td>\n",
              "      <td>Yes / Oui</td>\n",
              "      <td>Yes / Oui</td>\n",
              "      <td>Bachelor / Licence</td>\n",
              "      <td>Yes / Oui</td>\n",
              "      <td>18 - 22</td>\n",
              "      <td>Female / Femme</td>\n",
              "      <td>No / Non</td>\n",
              "      <td>Yes and it doesn't require to go out / Oui, un...</td>\n",
              "      <td>3</td>\n",
              "      <td>7</td>\n",
              "      <td>7</td>\n",
              "      <td>23:00</td>\n",
              "      <td>06:50</td>\n",
              "      <td>Often (three or four times) / Souvent (trois o...</td>\n",
              "      <td>0</td>\n",
              "      <td>15 to 30 min / De 15 à 30 minutes</td>\n",
              "      <td>1</td>\n",
              "      <td>1.0</td>\n",
              "      <td>88.888889</td>\n",
              "    </tr>\n",
              "    <tr>\n",
              "      <th>40</th>\n",
              "      <td>mariana.anaya@cri-paris.org</td>\n",
              "      <td>Yes / Oui</td>\n",
              "      <td>Yes / Oui</td>\n",
              "      <td>Bachelor / Licence</td>\n",
              "      <td>Yes / Oui</td>\n",
              "      <td>18 - 22</td>\n",
              "      <td>Female / Femme</td>\n",
              "      <td>Yes / Oui</td>\n",
              "      <td>No / Non</td>\n",
              "      <td>1</td>\n",
              "      <td>8</td>\n",
              "      <td>2</td>\n",
              "      <td>22:00</td>\n",
              "      <td>08:00</td>\n",
              "      <td>Often (three or four times) / Souvent (trois o...</td>\n",
              "      <td>2</td>\n",
              "      <td>15 to 30 min / De 15 à 30 minutes</td>\n",
              "      <td>1</td>\n",
              "      <td>1.0</td>\n",
              "      <td>88.888889</td>\n",
              "    </tr>\n",
              "    <tr>\n",
              "      <th>41</th>\n",
              "      <td>laurine.lachkar@cri-paris.org</td>\n",
              "      <td>Yes / Oui</td>\n",
              "      <td>Yes / Oui</td>\n",
              "      <td>Bachelor / Licence</td>\n",
              "      <td>Yes / Oui</td>\n",
              "      <td>18 - 22</td>\n",
              "      <td>Female / Femme</td>\n",
              "      <td>No / Non</td>\n",
              "      <td>Yes and it doesn't require to go out / Oui, un...</td>\n",
              "      <td>1</td>\n",
              "      <td>5</td>\n",
              "      <td>10</td>\n",
              "      <td>23:30</td>\n",
              "      <td>08:30</td>\n",
              "      <td>A few times (once or twice) / Quelques fois (u...</td>\n",
              "      <td>0</td>\n",
              "      <td>Instantly - less than 15 min / Instantanément ...</td>\n",
              "      <td>0</td>\n",
              "      <td>0.0</td>\n",
              "      <td>100.000000</td>\n",
              "    </tr>\n",
              "    <tr>\n",
              "      <th>44</th>\n",
              "      <td>comejaubert@gmail.com</td>\n",
              "      <td>Yes / Oui</td>\n",
              "      <td>Yes / Oui</td>\n",
              "      <td>Master</td>\n",
              "      <td>Yes / Oui</td>\n",
              "      <td>18 - 22</td>\n",
              "      <td>Male / Homme</td>\n",
              "      <td>No / Non</td>\n",
              "      <td>Yes and it doesn't require to go out / Oui, un...</td>\n",
              "      <td>9</td>\n",
              "      <td>7</td>\n",
              "      <td>7</td>\n",
              "      <td>12:00</td>\n",
              "      <td>08:30</td>\n",
              "      <td>Never / Jamais</td>\n",
              "      <td>0</td>\n",
              "      <td>Instantly - less than 15 min / Instantanément ...</td>\n",
              "      <td>0</td>\n",
              "      <td>0.0</td>\n",
              "      <td>100.000000</td>\n",
              "    </tr>\n",
              "    <tr>\n",
              "      <th>45</th>\n",
              "      <td>mariatou.drame@cri-paris.org</td>\n",
              "      <td>Yes / Oui</td>\n",
              "      <td>Yes / Oui</td>\n",
              "      <td>PhD / Doctorat</td>\n",
              "      <td>Yes / Oui</td>\n",
              "      <td>23 - 27</td>\n",
              "      <td>Female / Femme</td>\n",
              "      <td>Yes / Oui</td>\n",
              "      <td>No / Non</td>\n",
              "      <td>10</td>\n",
              "      <td>3</td>\n",
              "      <td>5</td>\n",
              "      <td>02:00</td>\n",
              "      <td>08:00</td>\n",
              "      <td>Everyday / Tous les jours</td>\n",
              "      <td>2</td>\n",
              "      <td>Instantly - less than 15 min / Instantanément ...</td>\n",
              "      <td>0</td>\n",
              "      <td>0.0</td>\n",
              "      <td>100.000000</td>\n",
              "    </tr>\n",
              "    <tr>\n",
              "      <th>48</th>\n",
              "      <td>hannah.borhan-azad@cri-paris.org</td>\n",
              "      <td>Yes / Oui</td>\n",
              "      <td>Yes / Oui</td>\n",
              "      <td>Master</td>\n",
              "      <td>Yes / Oui</td>\n",
              "      <td>23 - 27</td>\n",
              "      <td>Female / Femme</td>\n",
              "      <td>No / Non</td>\n",
              "      <td>No / Non</td>\n",
              "      <td>3</td>\n",
              "      <td>5</td>\n",
              "      <td>5</td>\n",
              "      <td>00:00</td>\n",
              "      <td>08:00</td>\n",
              "      <td>A few times (once or twice) / Quelques fois (u...</td>\n",
              "      <td>1</td>\n",
              "      <td>15 to 30 min / De 15 à 30 minutes</td>\n",
              "      <td>1</td>\n",
              "      <td>1.0</td>\n",
              "      <td>88.888889</td>\n",
              "    </tr>\n",
              "    <tr>\n",
              "      <th>51</th>\n",
              "      <td>samantha.hurtado@cri-paris.org</td>\n",
              "      <td>Yes / Oui</td>\n",
              "      <td>Yes / Oui</td>\n",
              "      <td>Master</td>\n",
              "      <td>Yes / Oui</td>\n",
              "      <td>23 - 27</td>\n",
              "      <td>Prefer not to say / Préfère ne pas se prononcer</td>\n",
              "      <td>No / Non</td>\n",
              "      <td>No / Non</td>\n",
              "      <td>2</td>\n",
              "      <td>1</td>\n",
              "      <td>10</td>\n",
              "      <td>00:30</td>\n",
              "      <td>07:00</td>\n",
              "      <td>A few times (once or twice) / Quelques fois (u...</td>\n",
              "      <td>1</td>\n",
              "      <td>30 min to 1h / De 30 minutes à 1h</td>\n",
              "      <td>2</td>\n",
              "      <td>2.0</td>\n",
              "      <td>77.777778</td>\n",
              "    </tr>\n",
              "  </tbody>\n",
              "</table>\n",
              "</div>"
            ],
            "text/plain": [
              "                               email  in_france courses_in_france  \\\n",
              "3       lorenzocolombo1998@gmail.com  Yes / Oui         Yes / Oui   \n",
              "4               fannylemant@yahoo.fr  Yes / Oui         Yes / Oui   \n",
              "5           marie.gareau99@gmail.com  Yes / Oui         Yes / Oui   \n",
              "6          nathan.finance@hotmail.fr  Yes / Oui         Yes / Oui   \n",
              "8               alexandre@glastra.fr  Yes / Oui         Yes / Oui   \n",
              "9           prashamsakc2.0@gmail.com  Yes / Oui         Yes / Oui   \n",
              "10           delphine.ly99@gmail.com  Yes / Oui         Yes / Oui   \n",
              "11         tania.tyczynski@gmail.com  Yes / Oui         Yes / Oui   \n",
              "14            angele.payan@yahoo.com  Yes / Oui         Yes / Oui   \n",
              "16     valentine.brasseur4@gmail.com  Yes / Oui         Yes / Oui   \n",
              "19               tjf200094@gmail.com  Yes / Oui         Yes / Oui   \n",
              "21     carla.tousmayol@cri-paris.org  Yes / Oui         Yes / Oui   \n",
              "25                nssaveleva@mail.ru  Yes / Oui         Yes / Oui   \n",
              "28          lisha.ling@cri-paris.org  Yes / Oui         Yes / Oui   \n",
              "29           anqi.zhou@cri-paris.org  Yes / Oui         Yes / Oui   \n",
              "32  hippolyte.aubertin@cri-paris.org  Yes / Oui         Yes / Oui   \n",
              "34     camille.masanet@cri-paris.org  Yes / Oui         Yes / Oui   \n",
              "40       mariana.anaya@cri-paris.org  Yes / Oui         Yes / Oui   \n",
              "41     laurine.lachkar@cri-paris.org  Yes / Oui         Yes / Oui   \n",
              "44             comejaubert@gmail.com  Yes / Oui         Yes / Oui   \n",
              "45      mariatou.drame@cri-paris.org  Yes / Oui         Yes / Oui   \n",
              "48  hannah.borhan-azad@cri-paris.org  Yes / Oui         Yes / Oui   \n",
              "51    samantha.hurtado@cri-paris.org  Yes / Oui         Yes / Oui   \n",
              "\n",
              "                status cri_student      age  \\\n",
              "3               Master    No / Non  23 - 27   \n",
              "4               Master    No / Non  18 - 22   \n",
              "5   Bachelor / Licence    No / Non  18 - 22   \n",
              "6               Master    No / Non  18 - 22   \n",
              "8               Master    No / Non  18 - 22   \n",
              "9   Bachelor / Licence    No / Non  18 - 22   \n",
              "10              Master    No / Non  18 - 22   \n",
              "11  Bachelor / Licence    No / Non  18 - 22   \n",
              "14  Bachelor / Licence    No / Non  18 - 22   \n",
              "16              Master    No / Non  18 - 22   \n",
              "19              Master    No / Non  18 - 22   \n",
              "21      PhD / Doctorat   Yes / Oui  23 - 27   \n",
              "25              Master   Yes / Oui      >30   \n",
              "28              Master   Yes / Oui      >30   \n",
              "29      PhD / Doctorat   Yes / Oui  23 - 27   \n",
              "32  Bachelor / Licence   Yes / Oui      <18   \n",
              "34  Bachelor / Licence   Yes / Oui  18 - 22   \n",
              "40  Bachelor / Licence   Yes / Oui  18 - 22   \n",
              "41  Bachelor / Licence   Yes / Oui  18 - 22   \n",
              "44              Master   Yes / Oui  18 - 22   \n",
              "45      PhD / Doctorat   Yes / Oui  23 - 27   \n",
              "48              Master   Yes / Oui  23 - 27   \n",
              "51              Master   Yes / Oui  23 - 27   \n",
              "\n",
              "                                             gender      alone  \\\n",
              "3                                      Male / Homme   No / Non   \n",
              "4                                    Female / Femme   No / Non   \n",
              "5                                    Female / Femme   No / Non   \n",
              "6                                      Male / Homme  Yes / Oui   \n",
              "8                                      Male / Homme   No / Non   \n",
              "9                                    Female / Femme   No / Non   \n",
              "10                                   Female / Femme   No / Non   \n",
              "11                                   Female / Femme  Yes / Oui   \n",
              "14                                   Female / Femme   No / Non   \n",
              "16                                   Female / Femme  Yes / Oui   \n",
              "19                                     Male / Homme   No / Non   \n",
              "21                                   Female / Femme  Yes / Oui   \n",
              "25                                   Female / Femme   No / Non   \n",
              "28                                   Female / Femme   No / Non   \n",
              "29                                   Female / Femme   No / Non   \n",
              "32                                     Male / Homme  Yes / Oui   \n",
              "34                                   Female / Femme   No / Non   \n",
              "40                                   Female / Femme  Yes / Oui   \n",
              "41                                   Female / Femme   No / Non   \n",
              "44                                     Male / Homme   No / Non   \n",
              "45                                   Female / Femme  Yes / Oui   \n",
              "48                                   Female / Femme   No / Non   \n",
              "51  Prefer not to say / Préfère ne pas se prononcer   No / Non   \n",
              "\n",
              "                                             have_pet  time_outside  \\\n",
              "3                                            No / Non            10   \n",
              "4   Yes and it doesn't require to go out / Oui, un...            15   \n",
              "5                                            No / Non             2   \n",
              "6                                            No / Non            10   \n",
              "8                                            No / Non             6   \n",
              "9                                            No / Non            10   \n",
              "10                                           No / Non             1   \n",
              "11                                           No / Non             8   \n",
              "14  Yes and it requires to go out (e.g. dog) / Oui...             1   \n",
              "16                                           No / Non             1   \n",
              "19  Yes and it doesn't require to go out / Oui, un...             6   \n",
              "21                                           No / Non             9   \n",
              "25                                           No / Non             6   \n",
              "28                                           No / Non             1   \n",
              "29  Yes and it requires to go out (e.g. dog) / Oui...             2   \n",
              "32                                           No / Non             1   \n",
              "34  Yes and it doesn't require to go out / Oui, un...             3   \n",
              "40                                           No / Non             1   \n",
              "41  Yes and it doesn't require to go out / Oui, un...             1   \n",
              "44  Yes and it doesn't require to go out / Oui, un...             9   \n",
              "45                                           No / Non            10   \n",
              "48                                           No / Non             3   \n",
              "51                                           No / Non             2   \n",
              "\n",
              "    meeting_friends  screen_time time_to_bed wake_time  \\\n",
              "3                 3            6       23:30     07:30   \n",
              "4                 6            3       00:00     07:00   \n",
              "5                 7            4       23:30     07:00   \n",
              "6                 7           10       12:30     07:00   \n",
              "8                 1            5       00:30     06:30   \n",
              "9                 4            5       00:00     09:00   \n",
              "10                1            8       22:45     07:00   \n",
              "11                7            2       00:45     07:30   \n",
              "14                1            9       23:00     07:30   \n",
              "16                7            9       01:15     07:30   \n",
              "19                1            2       22:15     07:00   \n",
              "21                5            3       12:00     08:00   \n",
              "25                5            8       01:30     07:00   \n",
              "28                1            7       00:30     07:30   \n",
              "29                3            8       23:30     08:30   \n",
              "32                7           10       12:00     07:30   \n",
              "34                7            7       23:00     06:50   \n",
              "40                8            2       22:00     08:00   \n",
              "41                5           10       23:30     08:30   \n",
              "44                7            7       12:00     08:30   \n",
              "45                3            5       02:00     08:00   \n",
              "48                5            5       00:00     08:00   \n",
              "51                1           10       00:30     07:00   \n",
              "\n",
              "                                         stress_level  wake_sleep_time  \\\n",
              "3                           Everyday / Tous les jours                1   \n",
              "4   A few times (once or twice) / Quelques fois (u...                1   \n",
              "5   A few times (once or twice) / Quelques fois (u...                0   \n",
              "6   Often (three or four times) / Souvent (trois o...                2   \n",
              "8   A few times (once or twice) / Quelques fois (u...                0   \n",
              "9   A few times (once or twice) / Quelques fois (u...                1   \n",
              "10  A few times (once or twice) / Quelques fois (u...                0   \n",
              "11  Often (three or four times) / Souvent (trois o...                0   \n",
              "14                          Everyday / Tous les jours                0   \n",
              "16  Often (three or four times) / Souvent (trois o...                0   \n",
              "19  Often (three or four times) / Souvent (trois o...                4   \n",
              "21                                     Never / Jamais                0   \n",
              "25  Often (three or four times) / Souvent (trois o...                0   \n",
              "28  Often (three or four times) / Souvent (trois o...                2   \n",
              "29  Often (three or four times) / Souvent (trois o...                1   \n",
              "32                                     Never / Jamais                2   \n",
              "34  Often (three or four times) / Souvent (trois o...                0   \n",
              "40  Often (three or four times) / Souvent (trois o...                2   \n",
              "41  A few times (once or twice) / Quelques fois (u...                0   \n",
              "44                                     Never / Jamais                0   \n",
              "45                          Everyday / Tous les jours                2   \n",
              "48  A few times (once or twice) / Quelques fois (u...                1   \n",
              "51  A few times (once or twice) / Quelques fois (u...                1   \n",
              "\n",
              "                                     time_fall_asleep  sleeping_quality_score  \\\n",
              "3                   15 to 30 min / De 15 à 30 minutes                       1   \n",
              "4   Instantly - less than 15 min / Instantanément ...                       0   \n",
              "5   Instantly - less than 15 min / Instantanément ...                       0   \n",
              "6   Instantly - less than 15 min / Instantanément ...                       0   \n",
              "8                   15 to 30 min / De 15 à 30 minutes                       1   \n",
              "9                            More than 1h / Plus d'1h                       3   \n",
              "10  Instantly - less than 15 min / Instantanément ...                       0   \n",
              "11  Instantly - less than 15 min / Instantanément ...                       0   \n",
              "14                  15 to 30 min / De 15 à 30 minutes                       1   \n",
              "16                  15 to 30 min / De 15 à 30 minutes                       1   \n",
              "19                  15 to 30 min / De 15 à 30 minutes                       1   \n",
              "21  Instantly - less than 15 min / Instantanément ...                       0   \n",
              "25  Instantly - less than 15 min / Instantanément ...                       0   \n",
              "28                  30 min to 1h / De 30 minutes à 1h                       2   \n",
              "29                  30 min to 1h / De 30 minutes à 1h                       2   \n",
              "32                  15 to 30 min / De 15 à 30 minutes                       1   \n",
              "34                  15 to 30 min / De 15 à 30 minutes                       1   \n",
              "40                  15 to 30 min / De 15 à 30 minutes                       1   \n",
              "41  Instantly - less than 15 min / Instantanément ...                       0   \n",
              "44  Instantly - less than 15 min / Instantanément ...                       0   \n",
              "45  Instantly - less than 15 min / Instantanément ...                       0   \n",
              "48                  15 to 30 min / De 15 à 30 minutes                       1   \n",
              "51                  30 min to 1h / De 30 minutes à 1h                       2   \n",
              "\n",
              "    avg_score  avg_score_perc  \n",
              "3         1.0       88.888889  \n",
              "4         0.0      100.000000  \n",
              "5         0.0      100.000000  \n",
              "6         0.0      100.000000  \n",
              "8         1.0       88.888889  \n",
              "9         3.0       66.666667  \n",
              "10        0.0      100.000000  \n",
              "11        0.0      100.000000  \n",
              "14        1.0       88.888889  \n",
              "16        1.0       88.888889  \n",
              "19        1.0       88.888889  \n",
              "21        0.0      100.000000  \n",
              "25        0.0      100.000000  \n",
              "28        2.0       77.777778  \n",
              "29        2.0       77.777778  \n",
              "32        1.0       88.888889  \n",
              "34        1.0       88.888889  \n",
              "40        1.0       88.888889  \n",
              "41        0.0      100.000000  \n",
              "44        0.0      100.000000  \n",
              "45        0.0      100.000000  \n",
              "48        1.0       88.888889  \n",
              "51        2.0       77.777778  "
            ]
          },
          "metadata": {},
          "execution_count": 434
        }
      ]
    },
    {
      "cell_type": "code",
      "source": [
        "df_numeric.loc[ df_numeric['status'] == 'Master','status'] = 0\n",
        "df_numeric.loc[ df_numeric['status'] == 'PhD / Doctorat','status'] = 1\n",
        "df_numeric.loc[ df_numeric['status'] == 'Postdoc', 'status'] = 2\n",
        "df_numeric.loc[ df_numeric['status'] == 'Bachelor / Licence', 'status'] = 3\n",
        "df_numeric.status = df_numeric.status.astype(int) "
      ],
      "metadata": {
        "id": "IQvhvbT5ZQJz"
      },
      "execution_count": null,
      "outputs": []
    },
    {
      "cell_type": "code",
      "source": [
        "# cri_student\n",
        "df_numeric['cri_student'].unique()"
      ],
      "metadata": {
        "colab": {
          "base_uri": "https://localhost:8080/"
        },
        "id": "B_q0o_qwchiQ",
        "outputId": "93cfc25c-5885-46c2-f578-e73ed52506a1"
      },
      "execution_count": null,
      "outputs": [
        {
          "output_type": "execute_result",
          "data": {
            "text/plain": [
              "array(['No / Non', 'Yes / Oui'], dtype=object)"
            ]
          },
          "metadata": {},
          "execution_count": 436
        }
      ]
    },
    {
      "cell_type": "code",
      "source": [
        "df_numeric.loc[ df_numeric['cri_student'] == 'No','cri_student'] = 0\n",
        "df_numeric.loc[ df_numeric['cri_student'] == 'Yes','cri_student'] = 1\n",
        "df_numeric.status = df_numeric.status.astype(int) "
      ],
      "metadata": {
        "id": "hnPa5Is5co7b"
      },
      "execution_count": null,
      "outputs": []
    },
    {
      "cell_type": "code",
      "source": [
        "df_numeric['alone'].unique()\n"
      ],
      "metadata": {
        "colab": {
          "base_uri": "https://localhost:8080/"
        },
        "id": "2LRs3nEfc5dR",
        "outputId": "fae2e87f-7155-43bb-f78c-19bb79899ced"
      },
      "execution_count": null,
      "outputs": [
        {
          "output_type": "execute_result",
          "data": {
            "text/plain": [
              "array(['No / Non', 'Yes / Oui'], dtype=object)"
            ]
          },
          "metadata": {},
          "execution_count": 438
        }
      ]
    },
    {
      "cell_type": "code",
      "source": [
        "df_numeric.loc[ df_numeric['alone'] == 'No / Non','alone'] = 0\n",
        "df_numeric.loc[ df_numeric['alone'] == 'Yes / Oui','alone'] = 1\n",
        "df_numeric.loc[ df_numeric['alone'] == \"Student Residence (I guess that's no)\",'alone'] = 2\n",
        "df_numeric.loc[ df_numeric['alone'] == 'En résidence universitaire','alone'] = 3\n",
        "df_numeric.loc[ df_numeric['alone'] == 'Residence','alone'] = 4\n",
        "df_numeric.alone = df_numeric.alone.astype(int)"
      ],
      "metadata": {
        "id": "okMd1Jyjc6lu"
      },
      "execution_count": null,
      "outputs": []
    },
    {
      "cell_type": "code",
      "source": [
        "df_numeric['have_pet'].unique()"
      ],
      "metadata": {
        "colab": {
          "base_uri": "https://localhost:8080/"
        },
        "id": "4De8MykPdAFg",
        "outputId": "98249f29-29be-4bd5-8807-8a1b28307ee4"
      },
      "execution_count": null,
      "outputs": [
        {
          "output_type": "execute_result",
          "data": {
            "text/plain": [
              "array(['No / Non',\n",
              "       \"Yes and it doesn't require to go out / Oui, un animal qui ne nécessite pas de sortir\",\n",
              "       'Yes and it requires to go out (e.g. dog) / Oui, un animal qui nécessite de sortir (comme un chien)'],\n",
              "      dtype=object)"
            ]
          },
          "metadata": {},
          "execution_count": 440
        }
      ]
    },
    {
      "cell_type": "code",
      "source": [
        "df_numeric.loc[ df_numeric['have_pet'] == 'No / Non','have_pet'] = 0\n",
        "df_numeric.loc[ df_numeric['have_pet'] == \"Yes and it doesn't require to go out / Oui, un animal qui ne nécessite pas de sortir\",'have_pet'] = 1\n",
        "df_numeric.loc[ df_numeric['have_pet'] == 'Yes and it requires to go out (e.g. dog) / Oui, un animal qui nécessite de sortir (comme un chien)','have_pet'] = 2\n",
        "df_numeric.have_pet = df_numeric.have_pet.astype(int)"
      ],
      "metadata": {
        "id": "EEagiIvXdDGe"
      },
      "execution_count": null,
      "outputs": []
    },
    {
      "cell_type": "code",
      "source": [
        "df_numeric['stress_level'].unique()"
      ],
      "metadata": {
        "colab": {
          "base_uri": "https://localhost:8080/"
        },
        "id": "YDlVuhlJdFiM",
        "outputId": "7f445ebd-e902-4efc-f4d2-11b9f42e0a44"
      },
      "execution_count": null,
      "outputs": [
        {
          "output_type": "execute_result",
          "data": {
            "text/plain": [
              "array(['Everyday / Tous les jours',\n",
              "       'A few times (once or twice) / Quelques fois (une fois ou deux)',\n",
              "       'Often (three or four times) / Souvent (trois ou quatre fois)',\n",
              "       'Never / Jamais'], dtype=object)"
            ]
          },
          "metadata": {},
          "execution_count": 442
        }
      ]
    },
    {
      "cell_type": "code",
      "source": [
        "df_numeric.loc[ df_numeric['stress_level'] == 'Often (three or four times) / Souvent (trois ou quatre fois)','stress_level'] = 0\n",
        "df_numeric.loc[ df_numeric['stress_level'] == 'Never / Jamais','stress_level'] = 1\n",
        "df_numeric.loc[ df_numeric['stress_level'] == 'A few times (once or twice) / Quelques fois (une fois ou deux)','stress_level'] = 2\n",
        "df_numeric.loc[ df_numeric['stress_level'] == 'Everyday / Tous les jours','stress_level'] = 3\n",
        "df_numeric.stress_level = df_numeric.stress_level.astype(int)"
      ],
      "metadata": {
        "id": "qxfbnNFZdITB"
      },
      "execution_count": null,
      "outputs": []
    },
    {
      "cell_type": "code",
      "source": [
        "df_numeric['in_france'].unique()"
      ],
      "metadata": {
        "colab": {
          "base_uri": "https://localhost:8080/"
        },
        "id": "QGIblmO5dLFK",
        "outputId": "e413efed-8935-4d6a-d6cb-58c8ad74672d"
      },
      "execution_count": null,
      "outputs": [
        {
          "output_type": "execute_result",
          "data": {
            "text/plain": [
              "array(['Yes / Oui'], dtype=object)"
            ]
          },
          "metadata": {},
          "execution_count": 444
        }
      ]
    },
    {
      "cell_type": "code",
      "source": [
        "df_numeric.loc[ df_numeric['in_france'] == 'Yes / Oui','in_france'] = 0\n",
        "df_numeric.loc[ df_numeric['in_france'] == 'Moved in France from Japan on November 29','in_france'] = 1\n",
        "df_numeric.loc[ df_numeric['in_france'] == 'Italy','in_france'] = 1\n",
        "df_numeric.in_france = df_numeric.in_france.astype(int)"
      ],
      "metadata": {
        "id": "rtYSMKTTdNkI"
      },
      "execution_count": null,
      "outputs": []
    },
    {
      "cell_type": "code",
      "source": [
        "df_numeric['time_fall_asleep'].unique()\n"
      ],
      "metadata": {
        "colab": {
          "base_uri": "https://localhost:8080/"
        },
        "id": "hyLxvDUTdQZw",
        "outputId": "457c7c23-a2a0-455d-f970-f3b09b6c7494"
      },
      "execution_count": null,
      "outputs": [
        {
          "output_type": "execute_result",
          "data": {
            "text/plain": [
              "array(['15 to 30 min / De 15 à 30 minutes',\n",
              "       'Instantly - less than 15 min / Instantanément - moins de 15 minutes',\n",
              "       \"More than 1h / Plus d'1h\", '30 min to 1h / De 30 minutes à 1h'],\n",
              "      dtype=object)"
            ]
          },
          "metadata": {},
          "execution_count": 446
        }
      ]
    },
    {
      "cell_type": "code",
      "source": [
        "df_numeric.loc[ df_numeric['time_fall_asleep'] == 'Instantly - less than 15 min / Instantanément - moins de 15 minutes','time_fall_asleep'] = 0\n",
        "df_numeric.loc[ df_numeric['time_fall_asleep'] == \"More than 1h / Plus d'1h\",'time_fall_asleep'] = 1\n",
        "df_numeric.loc[ df_numeric['time_fall_asleep'] == '30 min to 1h / De 30 minutes à 1h' ,'time_fall_asleep'] = 2\n",
        "df_numeric.loc[ df_numeric['time_fall_asleep'] == '15 to 30 min / De 15 à 30 minutes' ,'time_fall_asleep'] = 3\n",
        "df_numeric.time_fall_asleep = df_numeric.time_fall_asleep.astype(int)"
      ],
      "metadata": {
        "id": "GRWXMmgWdTOl"
      },
      "execution_count": null,
      "outputs": []
    },
    {
      "cell_type": "markdown",
      "source": [
        "Creating Social Factor Score"
      ],
      "metadata": {
        "id": "lhRT2dHjdhbO"
      }
    },
    {
      "cell_type": "code",
      "source": [
        "df_numeric['socialization_factor'] = 0\n",
        "for index, row in df_numeric.iterrows():\n",
        "    if row['alone'] == 1:\n",
        "        row['socialization_factor'] += 1\n",
        "        df_numeric.at[index,'socialization_factor'] = row['socialization_factor']\n",
        "    if row['have_pet'] == 1 or row['have_pet'] == 2 :\n",
        "        row['socialization_factor'] += 1\n",
        "        df_numeric.at[index,'socialization_factor'] = row['socialization_factor']\n",
        "    if row['meeting_friends'] > 2:\n",
        "        row['socialization_factor'] += 1\n",
        "        df_numeric.at[index,'socialization_factor'] = row['socialization_factor'] "
      ],
      "metadata": {
        "id": "PNRupmGidiYn"
      },
      "execution_count": null,
      "outputs": []
    },
    {
      "cell_type": "code",
      "source": [
        "df_num_new = df_numeric.copy()\n",
        "df_num_new = df_num_new.drop(['wake_time','avg_score_perc','sleeping_quality_score','gender','status','cri_student','alone','have_pet', 'meeting_friends', 'in_france'],axis = 1)"
      ],
      "metadata": {
        "id": "aEdGu5KAdoQp"
      },
      "execution_count": null,
      "outputs": []
    },
    {
      "cell_type": "code",
      "source": [
        "print(df_num_new)"
      ],
      "metadata": {
        "colab": {
          "base_uri": "https://localhost:8080/"
        },
        "id": "Bmonj0vpd7H2",
        "outputId": "d81c4e28-ffd5-440c-e64d-49882049991b"
      },
      "execution_count": null,
      "outputs": [
        {
          "output_type": "stream",
          "name": "stdout",
          "text": [
            "                               email courses_in_france  age  time_outside  \\\n",
            "3       lorenzocolombo1998@gmail.com         Yes / Oui    2            10   \n",
            "4               fannylemant@yahoo.fr         Yes / Oui    1            15   \n",
            "5           marie.gareau99@gmail.com         Yes / Oui    1             2   \n",
            "6          nathan.finance@hotmail.fr         Yes / Oui    1            10   \n",
            "8               alexandre@glastra.fr         Yes / Oui    1             6   \n",
            "9           prashamsakc2.0@gmail.com         Yes / Oui    1            10   \n",
            "10           delphine.ly99@gmail.com         Yes / Oui    1             1   \n",
            "11         tania.tyczynski@gmail.com         Yes / Oui    1             8   \n",
            "14            angele.payan@yahoo.com         Yes / Oui    1             1   \n",
            "16     valentine.brasseur4@gmail.com         Yes / Oui    1             1   \n",
            "19               tjf200094@gmail.com         Yes / Oui    1             6   \n",
            "21     carla.tousmayol@cri-paris.org         Yes / Oui    2             9   \n",
            "25                nssaveleva@mail.ru         Yes / Oui    4             6   \n",
            "28          lisha.ling@cri-paris.org         Yes / Oui    4             1   \n",
            "29           anqi.zhou@cri-paris.org         Yes / Oui    2             2   \n",
            "32  hippolyte.aubertin@cri-paris.org         Yes / Oui    0             1   \n",
            "34     camille.masanet@cri-paris.org         Yes / Oui    1             3   \n",
            "40       mariana.anaya@cri-paris.org         Yes / Oui    1             1   \n",
            "41     laurine.lachkar@cri-paris.org         Yes / Oui    1             1   \n",
            "44             comejaubert@gmail.com         Yes / Oui    1             9   \n",
            "45      mariatou.drame@cri-paris.org         Yes / Oui    2            10   \n",
            "48  hannah.borhan-azad@cri-paris.org         Yes / Oui    2             3   \n",
            "51    samantha.hurtado@cri-paris.org         Yes / Oui    2             2   \n",
            "\n",
            "    screen_time time_to_bed  stress_level  wake_sleep_time  time_fall_asleep  \\\n",
            "3             6       23:30             3                1                 3   \n",
            "4             3       00:00             2                1                 0   \n",
            "5             4       23:30             2                0                 0   \n",
            "6            10       12:30             0                2                 0   \n",
            "8             5       00:30             2                0                 3   \n",
            "9             5       00:00             2                1                 1   \n",
            "10            8       22:45             2                0                 0   \n",
            "11            2       00:45             0                0                 0   \n",
            "14            9       23:00             3                0                 3   \n",
            "16            9       01:15             0                0                 3   \n",
            "19            2       22:15             0                4                 3   \n",
            "21            3       12:00             1                0                 0   \n",
            "25            8       01:30             0                0                 0   \n",
            "28            7       00:30             0                2                 2   \n",
            "29            8       23:30             0                1                 2   \n",
            "32           10       12:00             1                2                 3   \n",
            "34            7       23:00             0                0                 3   \n",
            "40            2       22:00             0                2                 3   \n",
            "41           10       23:30             2                0                 0   \n",
            "44            7       12:00             1                0                 0   \n",
            "45            5       02:00             3                2                 0   \n",
            "48            5       00:00             2                1                 3   \n",
            "51           10       00:30             2                1                 2   \n",
            "\n",
            "    avg_score  socialization_factor  \n",
            "3         1.0                     1  \n",
            "4         0.0                     2  \n",
            "5         0.0                     1  \n",
            "6         0.0                     2  \n",
            "8         1.0                     0  \n",
            "9         3.0                     1  \n",
            "10        0.0                     0  \n",
            "11        0.0                     2  \n",
            "14        1.0                     1  \n",
            "16        1.0                     2  \n",
            "19        1.0                     1  \n",
            "21        0.0                     2  \n",
            "25        0.0                     1  \n",
            "28        2.0                     0  \n",
            "29        2.0                     2  \n",
            "32        1.0                     2  \n",
            "34        1.0                     2  \n",
            "40        1.0                     2  \n",
            "41        0.0                     2  \n",
            "44        0.0                     2  \n",
            "45        0.0                     2  \n",
            "48        1.0                     1  \n",
            "51        2.0                     0  \n"
          ]
        }
      ]
    },
    {
      "cell_type": "code",
      "source": [
        "fig, ax = plt.subplots(figsize=(10,7)) \n",
        "\n",
        "sns.heatmap(df_num_new.corr(), cmap='icefire',ax=ax)\n",
        "plt.title('Correlation', fontsize=24)"
      ],
      "metadata": {
        "colab": {
          "base_uri": "https://localhost:8080/",
          "height": 555
        },
        "id": "wO1plvqRd9i8",
        "outputId": "3bb0baed-4229-44a8-b8dc-4104c60f26b2"
      },
      "execution_count": null,
      "outputs": [
        {
          "output_type": "execute_result",
          "data": {
            "text/plain": [
              "Text(0.5, 1.0, 'Correlation')"
            ]
          },
          "metadata": {},
          "execution_count": 451
        },
        {
          "output_type": "display_data",
          "data": {
            "image/png": "[encoded data removed]",
            "text/plain": [
              "<Figure size 720x504 with 2 Axes>"
            ]
          },
          "metadata": {
            "needs_background": "light"
          }
        }
      ]
    },
    {
      "cell_type": "code",
      "source": [
        "# print(\"Corrlation values with average of sleeping quality score\")\n",
        "# df_num_new.drop(\"avg_score\", axis=1).apply(lambda x: x.corr(df_num_new.avg_score))"
      ],
      "metadata": {
        "colab": {
          "base_uri": "https://localhost:8080/",
          "height": 463
        },
        "id": "UpFeu1sxeL2o",
        "outputId": "95889697-5c80-401a-cde2-24db395aa189"
      },
      "execution_count": null,
      "outputs": [
        {
          "output_type": "stream",
          "name": "stdout",
          "text": [
            "Corrlation values with average of sleeping quality score\n"
          ]
        },
        {
          "output_type": "error",
          "ename": "TypeError",
          "evalue": "ignored",
          "traceback": [
            "\u001b[0;31m---------------------------------------------------------------------------\u001b[0m",
            "\u001b[0;31mTypeError\u001b[0m                                 Traceback (most recent call last)",
            "\u001b[0;32m<ipython-input-452-2cb3e02acb9c>\u001b[0m in \u001b[0;36m<module>\u001b[0;34m()\u001b[0m\n\u001b[1;32m      1\u001b[0m \u001b[0mprint\u001b[0m\u001b[0;34m(\u001b[0m\u001b[0;34m\"Corrlation values with average of sleeping quality score\"\u001b[0m\u001b[0;34m)\u001b[0m\u001b[0;34m\u001b[0m\u001b[0;34m\u001b[0m\u001b[0m\n\u001b[0;32m----> 2\u001b[0;31m \u001b[0mdf_num_new\u001b[0m\u001b[0;34m.\u001b[0m\u001b[0mdrop\u001b[0m\u001b[0;34m(\u001b[0m\u001b[0;34m\"avg_score\"\u001b[0m\u001b[0;34m,\u001b[0m \u001b[0maxis\u001b[0m\u001b[0;34m=\u001b[0m\u001b[0;36m1\u001b[0m\u001b[0;34m)\u001b[0m\u001b[0;34m.\u001b[0m\u001b[0mapply\u001b[0m\u001b[0;34m(\u001b[0m\u001b[0;32mlambda\u001b[0m \u001b[0mx\u001b[0m\u001b[0;34m:\u001b[0m \u001b[0mx\u001b[0m\u001b[0;34m.\u001b[0m\u001b[0mcorr\u001b[0m\u001b[0;34m(\u001b[0m\u001b[0mdf_num_new\u001b[0m\u001b[0;34m.\u001b[0m\u001b[0mavg_score\u001b[0m\u001b[0;34m)\u001b[0m\u001b[0;34m)\u001b[0m\u001b[0;34m\u001b[0m\u001b[0;34m\u001b[0m\u001b[0m\n\u001b[0m",
            "\u001b[0;32m/usr/local/lib/python3.7/dist-packages/pandas/core/frame.py\u001b[0m in \u001b[0;36mapply\u001b[0;34m(self, func, axis, raw, result_type, args, **kwds)\u001b[0m\n\u001b[1;32m   7550\u001b[0m             \u001b[0mkwds\u001b[0m\u001b[0;34m=\u001b[0m\u001b[0mkwds\u001b[0m\u001b[0;34m,\u001b[0m\u001b[0;34m\u001b[0m\u001b[0;34m\u001b[0m\u001b[0m\n\u001b[1;32m   7551\u001b[0m         )\n\u001b[0;32m-> 7552\u001b[0;31m         \u001b[0;32mreturn\u001b[0m \u001b[0mop\u001b[0m\u001b[0;34m.\u001b[0m\u001b[0mget_result\u001b[0m\u001b[0;34m(\u001b[0m\u001b[0;34m)\u001b[0m\u001b[0;34m\u001b[0m\u001b[0;34m\u001b[0m\u001b[0m\n\u001b[0m\u001b[1;32m   7553\u001b[0m \u001b[0;34m\u001b[0m\u001b[0m\n\u001b[1;32m   7554\u001b[0m     \u001b[0;32mdef\u001b[0m \u001b[0mapplymap\u001b[0m\u001b[0;34m(\u001b[0m\u001b[0mself\u001b[0m\u001b[0;34m,\u001b[0m \u001b[0mfunc\u001b[0m\u001b[0;34m)\u001b[0m \u001b[0;34m->\u001b[0m \u001b[0;34m\"DataFrame\"\u001b[0m\u001b[0;34m:\u001b[0m\u001b[0;34m\u001b[0m\u001b[0;34m\u001b[0m\u001b[0m\n",
            "\u001b[0;32m/usr/local/lib/python3.7/dist-packages/pandas/core/apply.py\u001b[0m in \u001b[0;36mget_result\u001b[0;34m(self)\u001b[0m\n\u001b[1;32m    183\u001b[0m             \u001b[0;32mreturn\u001b[0m \u001b[0mself\u001b[0m\u001b[0;34m.\u001b[0m\u001b[0mapply_raw\u001b[0m\u001b[0;34m(\u001b[0m\u001b[0;34m)\u001b[0m\u001b[0;34m\u001b[0m\u001b[0;34m\u001b[0m\u001b[0m\n\u001b[1;32m    184\u001b[0m \u001b[0;34m\u001b[0m\u001b[0m\n\u001b[0;32m--> 185\u001b[0;31m         \u001b[0;32mreturn\u001b[0m \u001b[0mself\u001b[0m\u001b[0;34m.\u001b[0m\u001b[0mapply_standard\u001b[0m\u001b[0;34m(\u001b[0m\u001b[0;34m)\u001b[0m\u001b[0;34m\u001b[0m\u001b[0;34m\u001b[0m\u001b[0m\n\u001b[0m\u001b[1;32m    186\u001b[0m \u001b[0;34m\u001b[0m\u001b[0m\n\u001b[1;32m    187\u001b[0m     \u001b[0;32mdef\u001b[0m \u001b[0mapply_empty_result\u001b[0m\u001b[0;34m(\u001b[0m\u001b[0mself\u001b[0m\u001b[0;34m)\u001b[0m\u001b[0;34m:\u001b[0m\u001b[0;34m\u001b[0m\u001b[0;34m\u001b[0m\u001b[0m\n",
            "\u001b[0;32m/usr/local/lib/python3.7/dist-packages/pandas/core/apply.py\u001b[0m in \u001b[0;36mapply_standard\u001b[0;34m(self)\u001b[0m\n\u001b[1;32m    274\u001b[0m \u001b[0;34m\u001b[0m\u001b[0m\n\u001b[1;32m    275\u001b[0m     \u001b[0;32mdef\u001b[0m \u001b[0mapply_standard\u001b[0m\u001b[0;34m(\u001b[0m\u001b[0mself\u001b[0m\u001b[0;34m)\u001b[0m\u001b[0;34m:\u001b[0m\u001b[0;34m\u001b[0m\u001b[0;34m\u001b[0m\u001b[0m\n\u001b[0;32m--> 276\u001b[0;31m         \u001b[0mresults\u001b[0m\u001b[0;34m,\u001b[0m \u001b[0mres_index\u001b[0m \u001b[0;34m=\u001b[0m \u001b[0mself\u001b[0m\u001b[0;34m.\u001b[0m\u001b[0mapply_series_generator\u001b[0m\u001b[0;34m(\u001b[0m\u001b[0;34m)\u001b[0m\u001b[0;34m\u001b[0m\u001b[0;34m\u001b[0m\u001b[0m\n\u001b[0m\u001b[1;32m    277\u001b[0m \u001b[0;34m\u001b[0m\u001b[0m\n\u001b[1;32m    278\u001b[0m         \u001b[0;31m# wrap results\u001b[0m\u001b[0;34m\u001b[0m\u001b[0;34m\u001b[0m\u001b[0;34m\u001b[0m\u001b[0m\n",
            "\u001b[0;32m/usr/local/lib/python3.7/dist-packages/pandas/core/apply.py\u001b[0m in \u001b[0;36mapply_series_generator\u001b[0;34m(self)\u001b[0m\n\u001b[1;32m    303\u001b[0m                 \u001b[0;32mfor\u001b[0m \u001b[0mi\u001b[0m\u001b[0;34m,\u001b[0m \u001b[0mv\u001b[0m \u001b[0;32min\u001b[0m \u001b[0menumerate\u001b[0m\u001b[0;34m(\u001b[0m\u001b[0mseries_gen\u001b[0m\u001b[0;34m)\u001b[0m\u001b[0;34m:\u001b[0m\u001b[0;34m\u001b[0m\u001b[0;34m\u001b[0m\u001b[0m\n\u001b[1;32m    304\u001b[0m                     \u001b[0;31m# ignore SettingWithCopy here in case the user mutates\u001b[0m\u001b[0;34m\u001b[0m\u001b[0;34m\u001b[0m\u001b[0;34m\u001b[0m\u001b[0m\n\u001b[0;32m--> 305\u001b[0;31m                     \u001b[0mresults\u001b[0m\u001b[0;34m[\u001b[0m\u001b[0mi\u001b[0m\u001b[0;34m]\u001b[0m \u001b[0;34m=\u001b[0m \u001b[0mself\u001b[0m\u001b[0;34m.\u001b[0m\u001b[0mf\u001b[0m\u001b[0;34m(\u001b[0m\u001b[0mv\u001b[0m\u001b[0;34m)\u001b[0m\u001b[0;34m\u001b[0m\u001b[0;34m\u001b[0m\u001b[0m\n\u001b[0m\u001b[1;32m    306\u001b[0m                     \u001b[0;32mif\u001b[0m \u001b[0misinstance\u001b[0m\u001b[0;34m(\u001b[0m\u001b[0mresults\u001b[0m\u001b[0;34m[\u001b[0m\u001b[0mi\u001b[0m\u001b[0;34m]\u001b[0m\u001b[0;34m,\u001b[0m \u001b[0mABCSeries\u001b[0m\u001b[0;34m)\u001b[0m\u001b[0;34m:\u001b[0m\u001b[0;34m\u001b[0m\u001b[0;34m\u001b[0m\u001b[0m\n\u001b[1;32m    307\u001b[0m                         \u001b[0;31m# If we have a view on v, we need to make a copy because\u001b[0m\u001b[0;34m\u001b[0m\u001b[0;34m\u001b[0m\u001b[0;34m\u001b[0m\u001b[0m\n",
            "\u001b[0;32m<ipython-input-452-2cb3e02acb9c>\u001b[0m in \u001b[0;36m<lambda>\u001b[0;34m(x)\u001b[0m\n\u001b[1;32m      1\u001b[0m \u001b[0mprint\u001b[0m\u001b[0;34m(\u001b[0m\u001b[0;34m\"Corrlation values with average of sleeping quality score\"\u001b[0m\u001b[0;34m)\u001b[0m\u001b[0;34m\u001b[0m\u001b[0;34m\u001b[0m\u001b[0m\n\u001b[0;32m----> 2\u001b[0;31m \u001b[0mdf_num_new\u001b[0m\u001b[0;34m.\u001b[0m\u001b[0mdrop\u001b[0m\u001b[0;34m(\u001b[0m\u001b[0;34m\"avg_score\"\u001b[0m\u001b[0;34m,\u001b[0m \u001b[0maxis\u001b[0m\u001b[0;34m=\u001b[0m\u001b[0;36m1\u001b[0m\u001b[0;34m)\u001b[0m\u001b[0;34m.\u001b[0m\u001b[0mapply\u001b[0m\u001b[0;34m(\u001b[0m\u001b[0;32mlambda\u001b[0m \u001b[0mx\u001b[0m\u001b[0;34m:\u001b[0m \u001b[0mx\u001b[0m\u001b[0;34m.\u001b[0m\u001b[0mcorr\u001b[0m\u001b[0;34m(\u001b[0m\u001b[0mdf_num_new\u001b[0m\u001b[0;34m.\u001b[0m\u001b[0mavg_score\u001b[0m\u001b[0;34m)\u001b[0m\u001b[0;34m)\u001b[0m\u001b[0;34m\u001b[0m\u001b[0;34m\u001b[0m\u001b[0m\n\u001b[0m",
            "\u001b[0;32m/usr/local/lib/python3.7/dist-packages/pandas/core/series.py\u001b[0m in \u001b[0;36mcorr\u001b[0;34m(self, other, method, min_periods)\u001b[0m\n\u001b[1;32m   2333\u001b[0m         \u001b[0;32mif\u001b[0m \u001b[0mmethod\u001b[0m \u001b[0;32min\u001b[0m \u001b[0;34m[\u001b[0m\u001b[0;34m\"pearson\"\u001b[0m\u001b[0;34m,\u001b[0m \u001b[0;34m\"spearman\"\u001b[0m\u001b[0;34m,\u001b[0m \u001b[0;34m\"kendall\"\u001b[0m\u001b[0;34m]\u001b[0m \u001b[0;32mor\u001b[0m \u001b[0mcallable\u001b[0m\u001b[0;34m(\u001b[0m\u001b[0mmethod\u001b[0m\u001b[0;34m)\u001b[0m\u001b[0;34m:\u001b[0m\u001b[0;34m\u001b[0m\u001b[0;34m\u001b[0m\u001b[0m\n\u001b[1;32m   2334\u001b[0m             return nanops.nancorr(\n\u001b[0;32m-> 2335\u001b[0;31m                 \u001b[0mthis\u001b[0m\u001b[0;34m.\u001b[0m\u001b[0mvalues\u001b[0m\u001b[0;34m,\u001b[0m \u001b[0mother\u001b[0m\u001b[0;34m.\u001b[0m\u001b[0mvalues\u001b[0m\u001b[0;34m,\u001b[0m \u001b[0mmethod\u001b[0m\u001b[0;34m=\u001b[0m\u001b[0mmethod\u001b[0m\u001b[0;34m,\u001b[0m \u001b[0mmin_periods\u001b[0m\u001b[0;34m=\u001b[0m\u001b[0mmin_periods\u001b[0m\u001b[0;34m\u001b[0m\u001b[0;34m\u001b[0m\u001b[0m\n\u001b[0m\u001b[1;32m   2336\u001b[0m             )\n\u001b[1;32m   2337\u001b[0m \u001b[0;34m\u001b[0m\u001b[0m\n",
            "\u001b[0;32m/usr/local/lib/python3.7/dist-packages/pandas/core/nanops.py\u001b[0m in \u001b[0;36m_f\u001b[0;34m(*args, **kwargs)\u001b[0m\n\u001b[1;32m     69\u001b[0m             \u001b[0;32mtry\u001b[0m\u001b[0;34m:\u001b[0m\u001b[0;34m\u001b[0m\u001b[0;34m\u001b[0m\u001b[0m\n\u001b[1;32m     70\u001b[0m                 \u001b[0;32mwith\u001b[0m \u001b[0mnp\u001b[0m\u001b[0;34m.\u001b[0m\u001b[0merrstate\u001b[0m\u001b[0;34m(\u001b[0m\u001b[0minvalid\u001b[0m\u001b[0;34m=\u001b[0m\u001b[0;34m\"ignore\"\u001b[0m\u001b[0;34m)\u001b[0m\u001b[0;34m:\u001b[0m\u001b[0;34m\u001b[0m\u001b[0;34m\u001b[0m\u001b[0m\n\u001b[0;32m---> 71\u001b[0;31m                     \u001b[0;32mreturn\u001b[0m \u001b[0mf\u001b[0m\u001b[0;34m(\u001b[0m\u001b[0;34m*\u001b[0m\u001b[0margs\u001b[0m\u001b[0;34m,\u001b[0m \u001b[0;34m**\u001b[0m\u001b[0mkwargs\u001b[0m\u001b[0;34m)\u001b[0m\u001b[0;34m\u001b[0m\u001b[0;34m\u001b[0m\u001b[0m\n\u001b[0m\u001b[1;32m     72\u001b[0m             \u001b[0;32mexcept\u001b[0m \u001b[0mValueError\u001b[0m \u001b[0;32mas\u001b[0m \u001b[0me\u001b[0m\u001b[0;34m:\u001b[0m\u001b[0;34m\u001b[0m\u001b[0;34m\u001b[0m\u001b[0m\n\u001b[1;32m     73\u001b[0m                 \u001b[0;31m# we want to transform an object array\u001b[0m\u001b[0;34m\u001b[0m\u001b[0;34m\u001b[0m\u001b[0;34m\u001b[0m\u001b[0m\n",
            "\u001b[0;32m/usr/local/lib/python3.7/dist-packages/pandas/core/nanops.py\u001b[0m in \u001b[0;36mnancorr\u001b[0;34m(a, b, method, min_periods)\u001b[0m\n\u001b[1;32m   1350\u001b[0m \u001b[0;34m\u001b[0m\u001b[0m\n\u001b[1;32m   1351\u001b[0m     \u001b[0mf\u001b[0m \u001b[0;34m=\u001b[0m \u001b[0mget_corr_func\u001b[0m\u001b[0;34m(\u001b[0m\u001b[0mmethod\u001b[0m\u001b[0;34m)\u001b[0m\u001b[0;34m\u001b[0m\u001b[0;34m\u001b[0m\u001b[0m\n\u001b[0;32m-> 1352\u001b[0;31m     \u001b[0;32mreturn\u001b[0m \u001b[0mf\u001b[0m\u001b[0;34m(\u001b[0m\u001b[0ma\u001b[0m\u001b[0;34m,\u001b[0m \u001b[0mb\u001b[0m\u001b[0;34m)\u001b[0m\u001b[0;34m\u001b[0m\u001b[0;34m\u001b[0m\u001b[0m\n\u001b[0m\u001b[1;32m   1353\u001b[0m \u001b[0;34m\u001b[0m\u001b[0m\n\u001b[1;32m   1354\u001b[0m \u001b[0;34m\u001b[0m\u001b[0m\n",
            "\u001b[0;32m/usr/local/lib/python3.7/dist-packages/pandas/core/nanops.py\u001b[0m in \u001b[0;36mfunc\u001b[0;34m(a, b)\u001b[0m\n\u001b[1;32m   1371\u001b[0m \u001b[0;34m\u001b[0m\u001b[0m\n\u001b[1;32m   1372\u001b[0m         \u001b[0;32mdef\u001b[0m \u001b[0mfunc\u001b[0m\u001b[0;34m(\u001b[0m\u001b[0ma\u001b[0m\u001b[0;34m,\u001b[0m \u001b[0mb\u001b[0m\u001b[0;34m)\u001b[0m\u001b[0;34m:\u001b[0m\u001b[0;34m\u001b[0m\u001b[0;34m\u001b[0m\u001b[0m\n\u001b[0;32m-> 1373\u001b[0;31m             \u001b[0;32mreturn\u001b[0m \u001b[0mnp\u001b[0m\u001b[0;34m.\u001b[0m\u001b[0mcorrcoef\u001b[0m\u001b[0;34m(\u001b[0m\u001b[0ma\u001b[0m\u001b[0;34m,\u001b[0m \u001b[0mb\u001b[0m\u001b[0;34m)\u001b[0m\u001b[0;34m[\u001b[0m\u001b[0;36m0\u001b[0m\u001b[0;34m,\u001b[0m \u001b[0;36m1\u001b[0m\u001b[0;34m]\u001b[0m\u001b[0;34m\u001b[0m\u001b[0;34m\u001b[0m\u001b[0m\n\u001b[0m\u001b[1;32m   1374\u001b[0m \u001b[0;34m\u001b[0m\u001b[0m\n\u001b[1;32m   1375\u001b[0m         \u001b[0;32mreturn\u001b[0m \u001b[0mfunc\u001b[0m\u001b[0;34m\u001b[0m\u001b[0;34m\u001b[0m\u001b[0m\n",
            "\u001b[0;32m<__array_function__ internals>\u001b[0m in \u001b[0;36mcorrcoef\u001b[0;34m(*args, **kwargs)\u001b[0m\n",
            "\u001b[0;32m/usr/local/lib/python3.7/dist-packages/numpy/lib/function_base.py\u001b[0m in \u001b[0;36mcorrcoef\u001b[0;34m(x, y, rowvar, bias, ddof)\u001b[0m\n\u001b[1;32m   2549\u001b[0m         warnings.warn('bias and ddof have no effect and are deprecated',\n\u001b[1;32m   2550\u001b[0m                       DeprecationWarning, stacklevel=3)\n\u001b[0;32m-> 2551\u001b[0;31m     \u001b[0mc\u001b[0m \u001b[0;34m=\u001b[0m \u001b[0mcov\u001b[0m\u001b[0;34m(\u001b[0m\u001b[0mx\u001b[0m\u001b[0;34m,\u001b[0m \u001b[0my\u001b[0m\u001b[0;34m,\u001b[0m \u001b[0mrowvar\u001b[0m\u001b[0;34m)\u001b[0m\u001b[0;34m\u001b[0m\u001b[0;34m\u001b[0m\u001b[0m\n\u001b[0m\u001b[1;32m   2552\u001b[0m     \u001b[0;32mtry\u001b[0m\u001b[0;34m:\u001b[0m\u001b[0;34m\u001b[0m\u001b[0;34m\u001b[0m\u001b[0m\n\u001b[1;32m   2553\u001b[0m         \u001b[0md\u001b[0m \u001b[0;34m=\u001b[0m \u001b[0mdiag\u001b[0m\u001b[0;34m(\u001b[0m\u001b[0mc\u001b[0m\u001b[0;34m)\u001b[0m\u001b[0;34m\u001b[0m\u001b[0;34m\u001b[0m\u001b[0m\n",
            "\u001b[0;32m<__array_function__ internals>\u001b[0m in \u001b[0;36mcov\u001b[0;34m(*args, **kwargs)\u001b[0m\n",
            "\u001b[0;32m/usr/local/lib/python3.7/dist-packages/numpy/lib/function_base.py\u001b[0m in \u001b[0;36mcov\u001b[0;34m(m, y, rowvar, bias, ddof, fweights, aweights)\u001b[0m\n\u001b[1;32m   2454\u001b[0m             \u001b[0mw\u001b[0m \u001b[0;34m*=\u001b[0m \u001b[0maweights\u001b[0m\u001b[0;34m\u001b[0m\u001b[0;34m\u001b[0m\u001b[0m\n\u001b[1;32m   2455\u001b[0m \u001b[0;34m\u001b[0m\u001b[0m\n\u001b[0;32m-> 2456\u001b[0;31m     \u001b[0mavg\u001b[0m\u001b[0;34m,\u001b[0m \u001b[0mw_sum\u001b[0m \u001b[0;34m=\u001b[0m \u001b[0maverage\u001b[0m\u001b[0;34m(\u001b[0m\u001b[0mX\u001b[0m\u001b[0;34m,\u001b[0m \u001b[0maxis\u001b[0m\u001b[0;34m=\u001b[0m\u001b[0;36m1\u001b[0m\u001b[0;34m,\u001b[0m \u001b[0mweights\u001b[0m\u001b[0;34m=\u001b[0m\u001b[0mw\u001b[0m\u001b[0;34m,\u001b[0m \u001b[0mreturned\u001b[0m\u001b[0;34m=\u001b[0m\u001b[0;32mTrue\u001b[0m\u001b[0;34m)\u001b[0m\u001b[0;34m\u001b[0m\u001b[0;34m\u001b[0m\u001b[0m\n\u001b[0m\u001b[1;32m   2457\u001b[0m     \u001b[0mw_sum\u001b[0m \u001b[0;34m=\u001b[0m \u001b[0mw_sum\u001b[0m\u001b[0;34m[\u001b[0m\u001b[0;36m0\u001b[0m\u001b[0;34m]\u001b[0m\u001b[0;34m\u001b[0m\u001b[0;34m\u001b[0m\u001b[0m\n\u001b[1;32m   2458\u001b[0m \u001b[0;34m\u001b[0m\u001b[0m\n",
            "\u001b[0;32m<__array_function__ internals>\u001b[0m in \u001b[0;36maverage\u001b[0;34m(*args, **kwargs)\u001b[0m\n",
            "\u001b[0;32m/usr/local/lib/python3.7/dist-packages/numpy/lib/function_base.py\u001b[0m in \u001b[0;36maverage\u001b[0;34m(a, axis, weights, returned)\u001b[0m\n\u001b[1;32m    378\u001b[0m \u001b[0;34m\u001b[0m\u001b[0m\n\u001b[1;32m    379\u001b[0m     \u001b[0;32mif\u001b[0m \u001b[0mweights\u001b[0m \u001b[0;32mis\u001b[0m \u001b[0;32mNone\u001b[0m\u001b[0;34m:\u001b[0m\u001b[0;34m\u001b[0m\u001b[0;34m\u001b[0m\u001b[0m\n\u001b[0;32m--> 380\u001b[0;31m         \u001b[0mavg\u001b[0m \u001b[0;34m=\u001b[0m \u001b[0ma\u001b[0m\u001b[0;34m.\u001b[0m\u001b[0mmean\u001b[0m\u001b[0;34m(\u001b[0m\u001b[0maxis\u001b[0m\u001b[0;34m)\u001b[0m\u001b[0;34m\u001b[0m\u001b[0;34m\u001b[0m\u001b[0m\n\u001b[0m\u001b[1;32m    381\u001b[0m         \u001b[0mscl\u001b[0m \u001b[0;34m=\u001b[0m \u001b[0mavg\u001b[0m\u001b[0;34m.\u001b[0m\u001b[0mdtype\u001b[0m\u001b[0;34m.\u001b[0m\u001b[0mtype\u001b[0m\u001b[0;34m(\u001b[0m\u001b[0ma\u001b[0m\u001b[0;34m.\u001b[0m\u001b[0msize\u001b[0m\u001b[0;34m/\u001b[0m\u001b[0mavg\u001b[0m\u001b[0;34m.\u001b[0m\u001b[0msize\u001b[0m\u001b[0;34m)\u001b[0m\u001b[0;34m\u001b[0m\u001b[0;34m\u001b[0m\u001b[0m\n\u001b[1;32m    382\u001b[0m     \u001b[0;32melse\u001b[0m\u001b[0;34m:\u001b[0m\u001b[0;34m\u001b[0m\u001b[0;34m\u001b[0m\u001b[0m\n",
            "\u001b[0;32m/usr/local/lib/python3.7/dist-packages/numpy/core/_methods.py\u001b[0m in \u001b[0;36m_mean\u001b[0;34m(a, axis, dtype, out, keepdims)\u001b[0m\n\u001b[1;32m    161\u001b[0m     \u001b[0;32mif\u001b[0m \u001b[0misinstance\u001b[0m\u001b[0;34m(\u001b[0m\u001b[0mret\u001b[0m\u001b[0;34m,\u001b[0m \u001b[0mmu\u001b[0m\u001b[0;34m.\u001b[0m\u001b[0mndarray\u001b[0m\u001b[0;34m)\u001b[0m\u001b[0;34m:\u001b[0m\u001b[0;34m\u001b[0m\u001b[0;34m\u001b[0m\u001b[0m\n\u001b[1;32m    162\u001b[0m         ret = um.true_divide(\n\u001b[0;32m--> 163\u001b[0;31m                 ret, rcount, out=ret, casting='unsafe', subok=False)\n\u001b[0m\u001b[1;32m    164\u001b[0m         \u001b[0;32mif\u001b[0m \u001b[0mis_float16_result\u001b[0m \u001b[0;32mand\u001b[0m \u001b[0mout\u001b[0m \u001b[0;32mis\u001b[0m \u001b[0;32mNone\u001b[0m\u001b[0;34m:\u001b[0m\u001b[0;34m\u001b[0m\u001b[0;34m\u001b[0m\u001b[0m\n\u001b[1;32m    165\u001b[0m             \u001b[0mret\u001b[0m \u001b[0;34m=\u001b[0m \u001b[0marr\u001b[0m\u001b[0;34m.\u001b[0m\u001b[0mdtype\u001b[0m\u001b[0;34m.\u001b[0m\u001b[0mtype\u001b[0m\u001b[0;34m(\u001b[0m\u001b[0mret\u001b[0m\u001b[0;34m)\u001b[0m\u001b[0;34m\u001b[0m\u001b[0;34m\u001b[0m\u001b[0m\n",
            "\u001b[0;31mTypeError\u001b[0m: unsupported operand type(s) for /: 'str' and 'int'"
          ]
        }
      ]
    },
    {
      "cell_type": "code",
      "source": [
        "# df_compare = df[['sleeping_quality_score']].copy()\n",
        "# df_compare.reset_index(inplace = True) \n",
        "# df_compare['week']= 'week0'\n",
        "# add_1 = df[['week1_score']].copy()\n",
        "# add_1 = add_1.rename(columns={'week1_score':'sleeping_quality_score'})\n",
        "# add_1['week']= 'week1'\n",
        "# add_1.reset_index(inplace = True) \n",
        "# add_2 = df[['week2_score']].copy()\n",
        "# add_2['week']= 'week2'\n",
        "# add_2 = add_2.rename(columns={'week2_score':'sleeping_quality_score'})\n",
        "# add_2.reset_index(inplace = True) \n",
        "# add_3 = df[['week3_score']].copy()\n",
        "# add_3['week']= 'week3'\n",
        "# add_3 = add_3.rename(columns={'week3_score':'sleeping_quality_score'})\n",
        "# add_3.reset_index(inplace = True) "
      ],
      "metadata": {
        "id": "wUIC1r4GgHOz"
      },
      "execution_count": null,
      "outputs": []
    },
    {
      "cell_type": "code",
      "source": [
        "df_numeric.head()"
      ],
      "metadata": {
        "colab": {
          "base_uri": "https://localhost:8080/",
          "height": 221
        },
        "id": "eHWqhxSRgZCM",
        "outputId": "a1251751-0014-4cdc-def6-25468faf256b"
      },
      "execution_count": null,
      "outputs": [
        {
          "output_type": "execute_result",
          "data": {
            "text/html": [
              "<div>\n",
              "<style scoped>\n",
              "    .dataframe tbody tr th:only-of-type {\n",
              "        vertical-align: middle;\n",
              "    }\n",
              "\n",
              "    .dataframe tbody tr th {\n",
              "        vertical-align: top;\n",
              "    }\n",
              "\n",
              "    .dataframe thead th {\n",
              "        text-align: right;\n",
              "    }\n",
              "</style>\n",
              "<table border=\"1\" class=\"dataframe\">\n",
              "  <thead>\n",
              "    <tr style=\"text-align: right;\">\n",
              "      <th></th>\n",
              "      <th>email</th>\n",
              "      <th>in_france</th>\n",
              "      <th>courses_in_france</th>\n",
              "      <th>status</th>\n",
              "      <th>cri_student</th>\n",
              "      <th>age</th>\n",
              "      <th>gender</th>\n",
              "      <th>alone</th>\n",
              "      <th>have_pet</th>\n",
              "      <th>time_outside</th>\n",
              "      <th>meeting_friends</th>\n",
              "      <th>screen_time</th>\n",
              "      <th>time_to_bed</th>\n",
              "      <th>wake_time</th>\n",
              "      <th>stress_level</th>\n",
              "      <th>wake_sleep_time</th>\n",
              "      <th>time_fall_asleep</th>\n",
              "      <th>sleeping_quality_score</th>\n",
              "      <th>avg_score</th>\n",
              "      <th>avg_score_perc</th>\n",
              "      <th>socialization_factor</th>\n",
              "    </tr>\n",
              "  </thead>\n",
              "  <tbody>\n",
              "    <tr>\n",
              "      <th>3</th>\n",
              "      <td>lorenzocolombo1998@gmail.com</td>\n",
              "      <td>0</td>\n",
              "      <td>Yes / Oui</td>\n",
              "      <td>0</td>\n",
              "      <td>No / Non</td>\n",
              "      <td>2</td>\n",
              "      <td>1</td>\n",
              "      <td>0</td>\n",
              "      <td>0</td>\n",
              "      <td>10</td>\n",
              "      <td>3</td>\n",
              "      <td>6</td>\n",
              "      <td>23:30</td>\n",
              "      <td>07:30</td>\n",
              "      <td>3</td>\n",
              "      <td>1</td>\n",
              "      <td>3</td>\n",
              "      <td>1</td>\n",
              "      <td>1.0</td>\n",
              "      <td>88.888889</td>\n",
              "      <td>1</td>\n",
              "    </tr>\n",
              "    <tr>\n",
              "      <th>4</th>\n",
              "      <td>fannylemant@yahoo.fr</td>\n",
              "      <td>0</td>\n",
              "      <td>Yes / Oui</td>\n",
              "      <td>0</td>\n",
              "      <td>No / Non</td>\n",
              "      <td>1</td>\n",
              "      <td>0</td>\n",
              "      <td>0</td>\n",
              "      <td>1</td>\n",
              "      <td>15</td>\n",
              "      <td>6</td>\n",
              "      <td>3</td>\n",
              "      <td>00:00</td>\n",
              "      <td>07:00</td>\n",
              "      <td>2</td>\n",
              "      <td>1</td>\n",
              "      <td>0</td>\n",
              "      <td>0</td>\n",
              "      <td>0.0</td>\n",
              "      <td>100.000000</td>\n",
              "      <td>2</td>\n",
              "    </tr>\n",
              "    <tr>\n",
              "      <th>5</th>\n",
              "      <td>marie.gareau99@gmail.com</td>\n",
              "      <td>0</td>\n",
              "      <td>Yes / Oui</td>\n",
              "      <td>3</td>\n",
              "      <td>No / Non</td>\n",
              "      <td>1</td>\n",
              "      <td>0</td>\n",
              "      <td>0</td>\n",
              "      <td>0</td>\n",
              "      <td>2</td>\n",
              "      <td>7</td>\n",
              "      <td>4</td>\n",
              "      <td>23:30</td>\n",
              "      <td>07:00</td>\n",
              "      <td>2</td>\n",
              "      <td>0</td>\n",
              "      <td>0</td>\n",
              "      <td>0</td>\n",
              "      <td>0.0</td>\n",
              "      <td>100.000000</td>\n",
              "      <td>1</td>\n",
              "    </tr>\n",
              "    <tr>\n",
              "      <th>6</th>\n",
              "      <td>nathan.finance@hotmail.fr</td>\n",
              "      <td>0</td>\n",
              "      <td>Yes / Oui</td>\n",
              "      <td>0</td>\n",
              "      <td>No / Non</td>\n",
              "      <td>1</td>\n",
              "      <td>1</td>\n",
              "      <td>1</td>\n",
              "      <td>0</td>\n",
              "      <td>10</td>\n",
              "      <td>7</td>\n",
              "      <td>10</td>\n",
              "      <td>12:30</td>\n",
              "      <td>07:00</td>\n",
              "      <td>0</td>\n",
              "      <td>2</td>\n",
              "      <td>0</td>\n",
              "      <td>0</td>\n",
              "      <td>0.0</td>\n",
              "      <td>100.000000</td>\n",
              "      <td>2</td>\n",
              "    </tr>\n",
              "    <tr>\n",
              "      <th>8</th>\n",
              "      <td>alexandre@glastra.fr</td>\n",
              "      <td>0</td>\n",
              "      <td>Yes / Oui</td>\n",
              "      <td>0</td>\n",
              "      <td>No / Non</td>\n",
              "      <td>1</td>\n",
              "      <td>1</td>\n",
              "      <td>0</td>\n",
              "      <td>0</td>\n",
              "      <td>6</td>\n",
              "      <td>1</td>\n",
              "      <td>5</td>\n",
              "      <td>00:30</td>\n",
              "      <td>06:30</td>\n",
              "      <td>2</td>\n",
              "      <td>0</td>\n",
              "      <td>3</td>\n",
              "      <td>1</td>\n",
              "      <td>1.0</td>\n",
              "      <td>88.888889</td>\n",
              "      <td>0</td>\n",
              "    </tr>\n",
              "  </tbody>\n",
              "</table>\n",
              "</div>"
            ],
            "text/plain": [
              "                          email  in_france courses_in_france  status  \\\n",
              "3  lorenzocolombo1998@gmail.com          0         Yes / Oui       0   \n",
              "4          fannylemant@yahoo.fr          0         Yes / Oui       0   \n",
              "5      marie.gareau99@gmail.com          0         Yes / Oui       3   \n",
              "6     nathan.finance@hotmail.fr          0         Yes / Oui       0   \n",
              "8          alexandre@glastra.fr          0         Yes / Oui       0   \n",
              "\n",
              "  cri_student  age  gender  alone  have_pet  time_outside  meeting_friends  \\\n",
              "3    No / Non    2       1      0         0            10                3   \n",
              "4    No / Non    1       0      0         1            15                6   \n",
              "5    No / Non    1       0      0         0             2                7   \n",
              "6    No / Non    1       1      1         0            10                7   \n",
              "8    No / Non    1       1      0         0             6                1   \n",
              "\n",
              "   screen_time time_to_bed wake_time  stress_level  wake_sleep_time  \\\n",
              "3            6       23:30     07:30             3                1   \n",
              "4            3       00:00     07:00             2                1   \n",
              "5            4       23:30     07:00             2                0   \n",
              "6           10       12:30     07:00             0                2   \n",
              "8            5       00:30     06:30             2                0   \n",
              "\n",
              "   time_fall_asleep  sleeping_quality_score  avg_score  avg_score_perc  \\\n",
              "3                 3                       1        1.0       88.888889   \n",
              "4                 0                       0        0.0      100.000000   \n",
              "5                 0                       0        0.0      100.000000   \n",
              "6                 0                       0        0.0      100.000000   \n",
              "8                 3                       1        1.0       88.888889   \n",
              "\n",
              "   socialization_factor  \n",
              "3                     1  \n",
              "4                     2  \n",
              "5                     1  \n",
              "6                     2  \n",
              "8                     0  "
            ]
          },
          "metadata": {},
          "execution_count": 455
        }
      ]
    },
    {
      "cell_type": "code",
      "source": [
        "# sns.jointplot(x = \"avg_score\", y = \"times_of_wake\", data = df_numeric, kind = \"reg\");"
      ],
      "metadata": {
        "id": "DxLXIri5geNd"
      },
      "execution_count": null,
      "outputs": []
    },
    {
      "cell_type": "code",
      "source": [
        "sns.jointplot(x = \"screen_time\", y = \"avg_score\", data = df_numeric, kind = \"reg\");"
      ],
      "metadata": {
        "colab": {
          "base_uri": "https://localhost:8080/",
          "height": 440
        },
        "id": "u4o0hypSgu7g",
        "outputId": "923fcec3-d660-41c4-e9ea-98a128a69701"
      },
      "execution_count": null,
      "outputs": [
        {
          "output_type": "display_data",
          "data": {
            "image/png": "[encoded data removed]",
            "text/plain": [
              "<Figure size 432x432 with 3 Axes>"
            ]
          },
          "metadata": {
            "needs_background": "light"
          }
        }
      ]
    },
    {
      "cell_type": "code",
      "source": [
        "sns.jointplot(x = \"screen_time\", y = \"avg_score\", data = df_numeric, kind = \"reg\");"
      ],
      "metadata": {
        "colab": {
          "base_uri": "https://localhost:8080/",
          "height": 440
        },
        "id": "lv6tq0XYg1pQ",
        "outputId": "b9130e99-ae19-48d9-82a5-61500cf57526"
      },
      "execution_count": null,
      "outputs": [
        {
          "output_type": "display_data",
          "data": {
            "image/png": "[encoded data removed]",
            "text/plain": [
              "<Figure size 432x432 with 3 Axes>"
            ]
          },
          "metadata": {
            "needs_background": "light"
          }
        }
      ]
    },
    {
      "cell_type": "code",
      "source": [
        "sns.jointplot(x = \"meeting_friends\", y = \"avg_score\", data = df_numeric, kind = \"reg\");"
      ],
      "metadata": {
        "colab": {
          "base_uri": "https://localhost:8080/",
          "height": 440
        },
        "id": "oK29Oq_yg7d2",
        "outputId": "4e664e43-12c5-4705-c245-18d0ec983606"
      },
      "execution_count": null,
      "outputs": [
        {
          "output_type": "display_data",
          "data": {
            "image/png": "[encoded data removed]",
            "text/plain": [
              "<Figure size 432x432 with 3 Axes>"
            ]
          },
          "metadata": {
            "needs_background": "light"
          }
        }
      ]
    },
    {
      "cell_type": "code",
      "source": [
        "sns.jointplot(x = \"alone\", y = \"avg_score\", data = df_numeric, kind = \"reg\",color=\"red\");\n"
      ],
      "metadata": {
        "colab": {
          "base_uri": "https://localhost:8080/",
          "height": 440
        },
        "id": "jN5EV5xmhAIz",
        "outputId": "841494a8-e084-4084-bcff-91532b7a5296"
      },
      "execution_count": null,
      "outputs": [
        {
          "output_type": "display_data",
          "data": {
            "image/png": "[encoded data removed]",
            "text/plain": [
              "<Figure size 432x432 with 3 Axes>"
            ]
          },
          "metadata": {
            "needs_background": "light"
          }
        }
      ]
    },
    {
      "cell_type": "code",
      "source": [
        "sns.jointplot(x = \"time_fall_asleep\", y = \"avg_score\", data = df_numeric, kind = \"reg\",color=\"blue\");\n"
      ],
      "metadata": {
        "colab": {
          "base_uri": "https://localhost:8080/",
          "height": 440
        },
        "id": "f97p1Xv1hEvm",
        "outputId": "012a7731-8156-49d2-9527-55251d1cf0fb"
      },
      "execution_count": null,
      "outputs": [
        {
          "output_type": "display_data",
          "data": {
            "image/png": "[encoded data removed]",
            "text/plain": [
              "<Figure size 432x432 with 3 Axes>"
            ]
          },
          "metadata": {
            "needs_background": "light"
          }
        }
      ]
    },
    {
      "cell_type": "code",
      "source": [
        "sns.jointplot(x = \"stress_level\", y = \"avg_score\", data = df_numeric, kind = \"reg\",color=\"purple\");"
      ],
      "metadata": {
        "colab": {
          "base_uri": "https://localhost:8080/",
          "height": 440
        },
        "id": "cyjonStphIp6",
        "outputId": "bbc79d98-86dc-4a17-ed6d-92218174ee0b"
      },
      "execution_count": null,
      "outputs": [
        {
          "output_type": "display_data",
          "data": {
            "image/png": "[encoded data removed]",
            "text/plain": [
              "<Figure size 432x432 with 3 Axes>"
            ]
          },
          "metadata": {
            "needs_background": "light"
          }
        }
      ]
    },
    {
      "cell_type": "code",
      "source": [
        "\n",
        "sns.jointplot(x = \"socialization_factor\", y = \"avg_score\", data = df_numeric, kind = \"reg\",color=\"green\");"
      ],
      "metadata": {
        "id": "4Ph_yg2XhLe3",
        "outputId": "e5d6787c-6b8e-42a4-c6c3-91b82122b505",
        "colab": {
          "base_uri": "https://localhost:8080/",
          "height": 440
        }
      },
      "execution_count": null,
      "outputs": [
        {
          "output_type": "display_data",
          "data": {
            "image/png": "[encoded data removed]",
            "text/plain": [
              "<Figure size 432x432 with 3 Axes>"
            ]
          },
          "metadata": {
            "needs_background": "light"
          }
        }
      ]
    },
    {
      "cell_type": "code",
      "source": [
        "sns.jointplot(x = \"time_fall_asleep\", y = \"screen_time\", data = df_numeric, kind = \"reg\",color=\"gold\");"
      ],
      "metadata": {
        "id": "vYQ1ty3AhPII",
        "outputId": "9b3a4cba-ecad-4df1-934f-f2e6e3fce880",
        "colab": {
          "base_uri": "https://localhost:8080/",
          "height": 440
        }
      },
      "execution_count": null,
      "outputs": [
        {
          "output_type": "display_data",
          "data": {
            "image/png": "[encoded data removed]",
            "text/plain": [
              "<Figure size 432x432 with 3 Axes>"
            ]
          },
          "metadata": {
            "needs_background": "light"
          }
        }
      ]
    }
  ]
}